{
  "cells": [
    {
      "cell_type": "markdown",
      "metadata": {
        "id": "view-in-github",
        "colab_type": "text"
      },
      "source": [
        "<a href=\"https://colab.research.google.com/github/doshimihir07/python_colab/blob/main/Hands_on_Analyzing_Text_Data.ipynb\" target=\"_parent\"><img src=\"https://colab.research.google.com/assets/colab-badge.svg\" alt=\"Open In Colab\"/></a>"
      ]
    },
    {
      "cell_type": "markdown",
      "metadata": {
        "id": "e4-U8LXm5bSw"
      },
      "source": [
        "<center><font size=8>Hands-on - Analyzing Text Data</font></center>"
      ]
    },
    {
      "cell_type": "markdown",
      "metadata": {
        "id": "lKDOBv45zw8C"
      },
      "source": [
        "# **Problem Statement**"
      ]
    },
    {
      "cell_type": "markdown",
      "metadata": {
        "id": "wVldHvLCgnr9"
      },
      "source": [
        "## **Business Context**"
      ]
    },
    {
      "cell_type": "markdown",
      "metadata": {
        "id": "KrZVjBusgvTZ"
      },
      "source": [
        "In the rapidly evolving landscape of the entertainment industry, understanding audience feedback through movie reviews is essential for refining content and shaping marketing strategies. However, the sheer volume of reviews presents challenges in efficiently processing and analyzing this information. To remain competitive, entertainment companies must find effective ways to clean and structure this data, enabling them to derive valuable insights for enhancing viewer experiences and making informed decisions."
      ]
    },
    {
      "cell_type": "markdown",
      "metadata": {
        "id": "0Wiey7tkgz8P"
      },
      "source": [
        "## **Objective**"
      ]
    },
    {
      "cell_type": "markdown",
      "metadata": {
        "id": "8Ai9vLkogz8Q"
      },
      "source": [
        "As a data scientist, your objective is to develop an efficient text preprocessing pipeline that will clean and structure a dataset of movie reviews. This preprocessing step will ensure that the data is standardized and ready for further analysis, ultimately supporting the identification of trends and insights that can drive content and marketing strategies in the entertainment industry."
      ]
    },
    {
      "cell_type": "markdown",
      "metadata": {
        "id": "xptjKJz-_sYZ"
      },
      "source": [
        "## **Data Dictionary**"
      ]
    },
    {
      "cell_type": "markdown",
      "metadata": {
        "id": "hSO0l35H_veP"
      },
      "source": [
        "- **review**: review of a movie"
      ]
    },
    {
      "cell_type": "markdown",
      "metadata": {
        "id": "6DrTOBrYBiCR"
      },
      "source": [
        "# **Importing Necessary Libraries**"
      ]
    },
    {
      "cell_type": "code",
      "execution_count": 93,
      "metadata": {
        "id": "79D1rXhBAxCs"
      },
      "outputs": [],
      "source": [
        "!pip install nltk==3.8.1 scikit-learn==1.5.2 -q"
      ]
    },
    {
      "cell_type": "code",
      "execution_count": 94,
      "metadata": {
        "id": "xhZUQ78gzw8H"
      },
      "outputs": [],
      "source": [
        "# to read and manipulate the data\n",
        "import pandas as pd\n",
        "import numpy as np\n",
        "\n",
        "# setting column to the maximum column width as per the data\n",
        "pd.set_option('max_colwidth', None)"
      ]
    },
    {
      "cell_type": "markdown",
      "metadata": {
        "id": "0GsZAWm0BiCQ"
      },
      "source": [
        "# **Importing the dataset**"
      ]
    },
    {
      "cell_type": "code",
      "execution_count": 95,
      "metadata": {
        "colab": {
          "base_uri": "https://localhost:8080/"
        },
        "id": "ZsapN3Mp6XZ8",
        "outputId": "46f0e0f1-ca15-4727-90ac-91e7303e9cce"
      },
      "outputs": [
        {
          "output_type": "stream",
          "name": "stdout",
          "text": [
            "Drive already mounted at /content/drive; to attempt to forcibly remount, call drive.mount(\"/content/drive\", force_remount=True).\n"
          ]
        }
      ],
      "source": [
        "from google.colab import drive\n",
        "drive.mount('/content/drive')"
      ]
    },
    {
      "cell_type": "code",
      "execution_count": 96,
      "metadata": {
        "id": "CThCS4NJzw8S"
      },
      "outputs": [],
      "source": [
        "# loading data into a pandas dataframe\n",
        "reviews = pd.read_csv(\"/content/drive/MyDrive/Python Course/movie_reviews.csv\")"
      ]
    },
    {
      "cell_type": "code",
      "execution_count": 97,
      "metadata": {
        "id": "qEvz0b9gzw8U"
      },
      "outputs": [],
      "source": [
        "# creating a copy of the data\n",
        "data = reviews.copy()"
      ]
    },
    {
      "cell_type": "markdown",
      "metadata": {
        "id": "ckwD7uwlsZwm"
      },
      "source": [
        "# **Data Overview**"
      ]
    },
    {
      "cell_type": "markdown",
      "metadata": {
        "id": "mhzSVF82YYri"
      },
      "source": [
        "## **Checking the first 5 rows**"
      ]
    },
    {
      "cell_type": "code",
      "execution_count": 98,
      "metadata": {
        "colab": {
          "base_uri": "https://localhost:8080/",
          "height": 432
        },
        "id": "bj4-QHJ6BiCS",
        "outputId": "69e30801-f09f-48a1-ce94-0ced515c49d3"
      },
      "outputs": [
        {
          "output_type": "execute_result",
          "data": {
            "text/plain": [
              "                                                                                                                                                                                                                                                                                                                                                                                                                                                                                                                                                                                                                                                                                                                                                                                                                                                                                                                                                                                                                                                                                                                                                                                                                                                                                                                                                                                                                                                                                                                                                                                                                                                                                                                                                                                                                                                                                         review\n",
              "0                                                                                                                                                                                                                                                                                                                                                                                                                                                                                                                                                                                                                                                                                                                                                                                                                                                                                                                                                                                                                                                                          Okay, I know this does'nt project India in a good light. But the overall theme of the movie is not India, it's Shakti. The power of a warlord, and the power of a mother. The relationship between Nandini and her husband and son swallow you up in their warmth. Then things go terribly wrong. The interaction between Nandini and her father in law - the power of their dysfunctional relationship - and the lives changed by it are the strengths of this movie. Shah Rukh Khan's performance seems to be a mere cameo compared to the believable desperation of Karisma Kapoor. It is easy to get caught up in the love, violence and redemption of lives in this film, and find yourself heaving a sigh of relief and sadness at the climax. The musical interludes are strengths, believable and well done.\n",
              "1  Despite John Travolta's statements in interviews that this was his favorite role of his career, \"Be Cool\" proves to be a disappointing sequel to 1995's witty and clever \"Get Shorty.\"<br /><br />Travolta delivers a pleasant enough performance in this mildly entertaining film, but ultimately the movie falls flat due to an underdeveloped plot, unlikeable characters, and a surprising lack of chemistry between leads Travolta and Uma Thurman. Although there are some laughs, this unfunny dialog example (which appeared frequently in the trailers) kind of says it all: Thurman: Do you dance? Travolta: Hey, I'm from Brooklyn.<br /><br />The film suggests that everyone in the entertainment business is a gangster or aspires to be one, likening it to organized crime. In \"Get Shorty,\" the premise of a gangster \"going legitimate\" by getting into movies was a clever fish-out-of water idea, but in \"Be Cool,\" it seems the biz has entirely gone crooked since then.<br /><br />The film is interestingly casted and the absolute highlight is a \"monolgue\" delivered by The Rock, whose character is an aspiring actor as well as a goon, where he reenacts a scene between Gabrielle Union and Kirsten Dunst from \"Bring It On.\" Vince Vaughan's character thinks he's black and he's often seen dressed as a pimp-- this was quite funny in the first scene that introduces him and gets tired and embarrassing almost immediately afterward.<br /><br />Overall, \"Be Cool\" may be worth a rental for John Travolta die-hards (of which I am one), but you may want to keep your finger close to the fast forward button to get through it without feeling that you wasted too much time. Fans of \"Get Shorty\" may actually wish to avoid this, as the sequel is devoid of most things that made that one a winner. I rate this movie an admittedly harsh 4/10.\n",
              "2                                                                                                                                                                                                                                                                                                                                                                                                                                                                                                                                                                                                                                                                                 I am a kung fu fan, but not a Woo fan. I have no interest in gangster movies filled with over-the-top gun-play. Now, martial arts; *that's* beautiful! And John Woo surprised me here by producing a highly entertaining kung fu movie, which almost has *too much* fighting, if such a thing is possible! This is good stuff.<br /><br />Many of the fight scenes are very good (and some of them are less good), and the main characters are amusing and likable. The bad guys are a bit too unbelievably evil, but entertaining none the less. You gotta see the Sleeping Wizard!! He can only fight when he's asleep - it's hysterical!<br /><br />Upon repeated viewings, however, Last Hurrah For Chivalry can tend to get a little boring and long-winded, also especially because many of the fight scenes are actually not that good. Hence, I rate it \"only\" a 7 out of 10. But it really is almost an \"8\".<br /><br />All in all one of the better kung fu movies, made smack-dab in the heart of kung fu cinema's prime. All the really good kung fu movies are from the mid- to late 1970ies, with some notable exceptions from the late '60ies and early '70ies (and early '80ies, to be fair).\n",
              "3                                                                                                                                                                                                                                                                                                                                                                                                                                                                                                                                                                                                                                                                                                                                                                                                                                                                                                                                                                                                                                                                                                                                             He seems to be a control freak. I have heard him comment on \"losing control of the show\" and tell another guest who brought live animals that he had one rule-\"no snakes.\" He needs to hire a comedy writer because his jokes are lame. The only reason I watch him is because he some some great guests and bands. <br /><br />I watched the Craig Ferguson show for a while but his show is even worse. He likes to bull sh** to burn time.I don't think either man has much of a future in late night talk shows.<br /><br />Daily also has the annoying habit of sticking his tongue out to lick his lips. He must do this at least 10 times a show. I do like the Joe Firstman band. Carson Daily needs to lighten up before it is too late.\n",
              "4                                                                                                                                                                                                                                                                                                                                                                                                                                                                           Admittedly, there are some scenes in this movie that seem a little unrealistic. The ravishing woman first panics and then, only a few minutes later, she starts kissing the young lad while the old guy is right next to her. But as the film goes along we learn that she is a little volatile girl (or slut) and that partly explains her behavior. The cinematography of this movie is well done. We get to see the elevator from almost every angle and perspective, and some of those images and scenes really raise the tension. Götz George plays his character well, a wannabe hot-shot getting old and being overpowered by young men like the Jaennicke character. Wolfgang Kieling who I admired in Hitchcock's THE TORN CURTAIN delivers a great performance that, although he doesn't say much, he is by far the best actor in this play. One critic complained about how unrealistic the film was and that in a real case of emergency nothing would really happen. But then again, how realistic are films such as Mission impossible or Phone Booth. Given the fact that we are talking about a movie here, and that in a movie you always have to deal with some scenes that aren't very likely to occur in real life, you can still enjoy this movie. It's a lot better than many things that I see on German TV these days and I think that the vintage 80's style added something to this film."
            ],
            "text/html": [
              "\n",
              "  <div id=\"df-46d383bc-8286-46ef-8db5-a6a48642a7e1\" class=\"colab-df-container\">\n",
              "    <div>\n",
              "<style scoped>\n",
              "    .dataframe tbody tr th:only-of-type {\n",
              "        vertical-align: middle;\n",
              "    }\n",
              "\n",
              "    .dataframe tbody tr th {\n",
              "        vertical-align: top;\n",
              "    }\n",
              "\n",
              "    .dataframe thead th {\n",
              "        text-align: right;\n",
              "    }\n",
              "</style>\n",
              "<table border=\"1\" class=\"dataframe\">\n",
              "  <thead>\n",
              "    <tr style=\"text-align: right;\">\n",
              "      <th></th>\n",
              "      <th>review</th>\n",
              "    </tr>\n",
              "  </thead>\n",
              "  <tbody>\n",
              "    <tr>\n",
              "      <th>0</th>\n",
              "      <td>Okay, I know this does'nt project India in a good light. But the overall theme of the movie is not India, it's Shakti. The power of a warlord, and the power of a mother. The relationship between Nandini and her husband and son swallow you up in their warmth. Then things go terribly wrong. The interaction between Nandini and her father in law - the power of their dysfunctional relationship - and the lives changed by it are the strengths of this movie. Shah Rukh Khan's performance seems to be a mere cameo compared to the believable desperation of Karisma Kapoor. It is easy to get caught up in the love, violence and redemption of lives in this film, and find yourself heaving a sigh of relief and sadness at the climax. The musical interludes are strengths, believable and well done.</td>\n",
              "    </tr>\n",
              "    <tr>\n",
              "      <th>1</th>\n",
              "      <td>Despite John Travolta's statements in interviews that this was his favorite role of his career, \"Be Cool\" proves to be a disappointing sequel to 1995's witty and clever \"Get Shorty.\"&lt;br /&gt;&lt;br /&gt;Travolta delivers a pleasant enough performance in this mildly entertaining film, but ultimately the movie falls flat due to an underdeveloped plot, unlikeable characters, and a surprising lack of chemistry between leads Travolta and Uma Thurman. Although there are some laughs, this unfunny dialog example (which appeared frequently in the trailers) kind of says it all: Thurman: Do you dance? Travolta: Hey, I'm from Brooklyn.&lt;br /&gt;&lt;br /&gt;The film suggests that everyone in the entertainment business is a gangster or aspires to be one, likening it to organized crime. In \"Get Shorty,\" the premise of a gangster \"going legitimate\" by getting into movies was a clever fish-out-of water idea, but in \"Be Cool,\" it seems the biz has entirely gone crooked since then.&lt;br /&gt;&lt;br /&gt;The film is interestingly casted and the absolute highlight is a \"monolgue\" delivered by The Rock, whose character is an aspiring actor as well as a goon, where he reenacts a scene between Gabrielle Union and Kirsten Dunst from \"Bring It On.\" Vince Vaughan's character thinks he's black and he's often seen dressed as a pimp-- this was quite funny in the first scene that introduces him and gets tired and embarrassing almost immediately afterward.&lt;br /&gt;&lt;br /&gt;Overall, \"Be Cool\" may be worth a rental for John Travolta die-hards (of which I am one), but you may want to keep your finger close to the fast forward button to get through it without feeling that you wasted too much time. Fans of \"Get Shorty\" may actually wish to avoid this, as the sequel is devoid of most things that made that one a winner. I rate this movie an admittedly harsh 4/10.</td>\n",
              "    </tr>\n",
              "    <tr>\n",
              "      <th>2</th>\n",
              "      <td>I am a kung fu fan, but not a Woo fan. I have no interest in gangster movies filled with over-the-top gun-play. Now, martial arts; *that's* beautiful! And John Woo surprised me here by producing a highly entertaining kung fu movie, which almost has *too much* fighting, if such a thing is possible! This is good stuff.&lt;br /&gt;&lt;br /&gt;Many of the fight scenes are very good (and some of them are less good), and the main characters are amusing and likable. The bad guys are a bit too unbelievably evil, but entertaining none the less. You gotta see the Sleeping Wizard!! He can only fight when he's asleep - it's hysterical!&lt;br /&gt;&lt;br /&gt;Upon repeated viewings, however, Last Hurrah For Chivalry can tend to get a little boring and long-winded, also especially because many of the fight scenes are actually not that good. Hence, I rate it \"only\" a 7 out of 10. But it really is almost an \"8\".&lt;br /&gt;&lt;br /&gt;All in all one of the better kung fu movies, made smack-dab in the heart of kung fu cinema's prime. All the really good kung fu movies are from the mid- to late 1970ies, with some notable exceptions from the late '60ies and early '70ies (and early '80ies, to be fair).</td>\n",
              "    </tr>\n",
              "    <tr>\n",
              "      <th>3</th>\n",
              "      <td>He seems to be a control freak. I have heard him comment on \"losing control of the show\" and tell another guest who brought live animals that he had one rule-\"no snakes.\" He needs to hire a comedy writer because his jokes are lame. The only reason I watch him is because he some some great guests and bands. &lt;br /&gt;&lt;br /&gt;I watched the Craig Ferguson show for a while but his show is even worse. He likes to bull sh** to burn time.I don't think either man has much of a future in late night talk shows.&lt;br /&gt;&lt;br /&gt;Daily also has the annoying habit of sticking his tongue out to lick his lips. He must do this at least 10 times a show. I do like the Joe Firstman band. Carson Daily needs to lighten up before it is too late.</td>\n",
              "    </tr>\n",
              "    <tr>\n",
              "      <th>4</th>\n",
              "      <td>Admittedly, there are some scenes in this movie that seem a little unrealistic. The ravishing woman first panics and then, only a few minutes later, she starts kissing the young lad while the old guy is right next to her. But as the film goes along we learn that she is a little volatile girl (or slut) and that partly explains her behavior. The cinematography of this movie is well done. We get to see the elevator from almost every angle and perspective, and some of those images and scenes really raise the tension. Götz George plays his character well, a wannabe hot-shot getting old and being overpowered by young men like the Jaennicke character. Wolfgang Kieling who I admired in Hitchcock's THE TORN CURTAIN delivers a great performance that, although he doesn't say much, he is by far the best actor in this play. One critic complained about how unrealistic the film was and that in a real case of emergency nothing would really happen. But then again, how realistic are films such as Mission impossible or Phone Booth. Given the fact that we are talking about a movie here, and that in a movie you always have to deal with some scenes that aren't very likely to occur in real life, you can still enjoy this movie. It's a lot better than many things that I see on German TV these days and I think that the vintage 80's style added something to this film.</td>\n",
              "    </tr>\n",
              "  </tbody>\n",
              "</table>\n",
              "</div>\n",
              "    <div class=\"colab-df-buttons\">\n",
              "\n",
              "  <div class=\"colab-df-container\">\n",
              "    <button class=\"colab-df-convert\" onclick=\"convertToInteractive('df-46d383bc-8286-46ef-8db5-a6a48642a7e1')\"\n",
              "            title=\"Convert this dataframe to an interactive table.\"\n",
              "            style=\"display:none;\">\n",
              "\n",
              "  <svg xmlns=\"http://www.w3.org/2000/svg\" height=\"24px\" viewBox=\"0 -960 960 960\">\n",
              "    <path d=\"M120-120v-720h720v720H120Zm60-500h600v-160H180v160Zm220 220h160v-160H400v160Zm0 220h160v-160H400v160ZM180-400h160v-160H180v160Zm440 0h160v-160H620v160ZM180-180h160v-160H180v160Zm440 0h160v-160H620v160Z\"/>\n",
              "  </svg>\n",
              "    </button>\n",
              "\n",
              "  <style>\n",
              "    .colab-df-container {\n",
              "      display:flex;\n",
              "      gap: 12px;\n",
              "    }\n",
              "\n",
              "    .colab-df-convert {\n",
              "      background-color: #E8F0FE;\n",
              "      border: none;\n",
              "      border-radius: 50%;\n",
              "      cursor: pointer;\n",
              "      display: none;\n",
              "      fill: #1967D2;\n",
              "      height: 32px;\n",
              "      padding: 0 0 0 0;\n",
              "      width: 32px;\n",
              "    }\n",
              "\n",
              "    .colab-df-convert:hover {\n",
              "      background-color: #E2EBFA;\n",
              "      box-shadow: 0px 1px 2px rgba(60, 64, 67, 0.3), 0px 1px 3px 1px rgba(60, 64, 67, 0.15);\n",
              "      fill: #174EA6;\n",
              "    }\n",
              "\n",
              "    .colab-df-buttons div {\n",
              "      margin-bottom: 4px;\n",
              "    }\n",
              "\n",
              "    [theme=dark] .colab-df-convert {\n",
              "      background-color: #3B4455;\n",
              "      fill: #D2E3FC;\n",
              "    }\n",
              "\n",
              "    [theme=dark] .colab-df-convert:hover {\n",
              "      background-color: #434B5C;\n",
              "      box-shadow: 0px 1px 3px 1px rgba(0, 0, 0, 0.15);\n",
              "      filter: drop-shadow(0px 1px 2px rgba(0, 0, 0, 0.3));\n",
              "      fill: #FFFFFF;\n",
              "    }\n",
              "  </style>\n",
              "\n",
              "    <script>\n",
              "      const buttonEl =\n",
              "        document.querySelector('#df-46d383bc-8286-46ef-8db5-a6a48642a7e1 button.colab-df-convert');\n",
              "      buttonEl.style.display =\n",
              "        google.colab.kernel.accessAllowed ? 'block' : 'none';\n",
              "\n",
              "      async function convertToInteractive(key) {\n",
              "        const element = document.querySelector('#df-46d383bc-8286-46ef-8db5-a6a48642a7e1');\n",
              "        const dataTable =\n",
              "          await google.colab.kernel.invokeFunction('convertToInteractive',\n",
              "                                                    [key], {});\n",
              "        if (!dataTable) return;\n",
              "\n",
              "        const docLinkHtml = 'Like what you see? Visit the ' +\n",
              "          '<a target=\"_blank\" href=https://colab.research.google.com/notebooks/data_table.ipynb>data table notebook</a>'\n",
              "          + ' to learn more about interactive tables.';\n",
              "        element.innerHTML = '';\n",
              "        dataTable['output_type'] = 'display_data';\n",
              "        await google.colab.output.renderOutput(dataTable, element);\n",
              "        const docLink = document.createElement('div');\n",
              "        docLink.innerHTML = docLinkHtml;\n",
              "        element.appendChild(docLink);\n",
              "      }\n",
              "    </script>\n",
              "  </div>\n",
              "\n",
              "\n",
              "<div id=\"df-20650f6f-c4fa-4a44-b2ed-b75572193514\">\n",
              "  <button class=\"colab-df-quickchart\" onclick=\"quickchart('df-20650f6f-c4fa-4a44-b2ed-b75572193514')\"\n",
              "            title=\"Suggest charts\"\n",
              "            style=\"display:none;\">\n",
              "\n",
              "<svg xmlns=\"http://www.w3.org/2000/svg\" height=\"24px\"viewBox=\"0 0 24 24\"\n",
              "     width=\"24px\">\n",
              "    <g>\n",
              "        <path d=\"M19 3H5c-1.1 0-2 .9-2 2v14c0 1.1.9 2 2 2h14c1.1 0 2-.9 2-2V5c0-1.1-.9-2-2-2zM9 17H7v-7h2v7zm4 0h-2V7h2v10zm4 0h-2v-4h2v4z\"/>\n",
              "    </g>\n",
              "</svg>\n",
              "  </button>\n",
              "\n",
              "<style>\n",
              "  .colab-df-quickchart {\n",
              "      --bg-color: #E8F0FE;\n",
              "      --fill-color: #1967D2;\n",
              "      --hover-bg-color: #E2EBFA;\n",
              "      --hover-fill-color: #174EA6;\n",
              "      --disabled-fill-color: #AAA;\n",
              "      --disabled-bg-color: #DDD;\n",
              "  }\n",
              "\n",
              "  [theme=dark] .colab-df-quickchart {\n",
              "      --bg-color: #3B4455;\n",
              "      --fill-color: #D2E3FC;\n",
              "      --hover-bg-color: #434B5C;\n",
              "      --hover-fill-color: #FFFFFF;\n",
              "      --disabled-bg-color: #3B4455;\n",
              "      --disabled-fill-color: #666;\n",
              "  }\n",
              "\n",
              "  .colab-df-quickchart {\n",
              "    background-color: var(--bg-color);\n",
              "    border: none;\n",
              "    border-radius: 50%;\n",
              "    cursor: pointer;\n",
              "    display: none;\n",
              "    fill: var(--fill-color);\n",
              "    height: 32px;\n",
              "    padding: 0;\n",
              "    width: 32px;\n",
              "  }\n",
              "\n",
              "  .colab-df-quickchart:hover {\n",
              "    background-color: var(--hover-bg-color);\n",
              "    box-shadow: 0 1px 2px rgba(60, 64, 67, 0.3), 0 1px 3px 1px rgba(60, 64, 67, 0.15);\n",
              "    fill: var(--button-hover-fill-color);\n",
              "  }\n",
              "\n",
              "  .colab-df-quickchart-complete:disabled,\n",
              "  .colab-df-quickchart-complete:disabled:hover {\n",
              "    background-color: var(--disabled-bg-color);\n",
              "    fill: var(--disabled-fill-color);\n",
              "    box-shadow: none;\n",
              "  }\n",
              "\n",
              "  .colab-df-spinner {\n",
              "    border: 2px solid var(--fill-color);\n",
              "    border-color: transparent;\n",
              "    border-bottom-color: var(--fill-color);\n",
              "    animation:\n",
              "      spin 1s steps(1) infinite;\n",
              "  }\n",
              "\n",
              "  @keyframes spin {\n",
              "    0% {\n",
              "      border-color: transparent;\n",
              "      border-bottom-color: var(--fill-color);\n",
              "      border-left-color: var(--fill-color);\n",
              "    }\n",
              "    20% {\n",
              "      border-color: transparent;\n",
              "      border-left-color: var(--fill-color);\n",
              "      border-top-color: var(--fill-color);\n",
              "    }\n",
              "    30% {\n",
              "      border-color: transparent;\n",
              "      border-left-color: var(--fill-color);\n",
              "      border-top-color: var(--fill-color);\n",
              "      border-right-color: var(--fill-color);\n",
              "    }\n",
              "    40% {\n",
              "      border-color: transparent;\n",
              "      border-right-color: var(--fill-color);\n",
              "      border-top-color: var(--fill-color);\n",
              "    }\n",
              "    60% {\n",
              "      border-color: transparent;\n",
              "      border-right-color: var(--fill-color);\n",
              "    }\n",
              "    80% {\n",
              "      border-color: transparent;\n",
              "      border-right-color: var(--fill-color);\n",
              "      border-bottom-color: var(--fill-color);\n",
              "    }\n",
              "    90% {\n",
              "      border-color: transparent;\n",
              "      border-bottom-color: var(--fill-color);\n",
              "    }\n",
              "  }\n",
              "</style>\n",
              "\n",
              "  <script>\n",
              "    async function quickchart(key) {\n",
              "      const quickchartButtonEl =\n",
              "        document.querySelector('#' + key + ' button');\n",
              "      quickchartButtonEl.disabled = true;  // To prevent multiple clicks.\n",
              "      quickchartButtonEl.classList.add('colab-df-spinner');\n",
              "      try {\n",
              "        const charts = await google.colab.kernel.invokeFunction(\n",
              "            'suggestCharts', [key], {});\n",
              "      } catch (error) {\n",
              "        console.error('Error during call to suggestCharts:', error);\n",
              "      }\n",
              "      quickchartButtonEl.classList.remove('colab-df-spinner');\n",
              "      quickchartButtonEl.classList.add('colab-df-quickchart-complete');\n",
              "    }\n",
              "    (() => {\n",
              "      let quickchartButtonEl =\n",
              "        document.querySelector('#df-20650f6f-c4fa-4a44-b2ed-b75572193514 button');\n",
              "      quickchartButtonEl.style.display =\n",
              "        google.colab.kernel.accessAllowed ? 'block' : 'none';\n",
              "    })();\n",
              "  </script>\n",
              "</div>\n",
              "\n",
              "    </div>\n",
              "  </div>\n"
            ],
            "application/vnd.google.colaboratory.intrinsic+json": {
              "type": "dataframe",
              "variable_name": "data",
              "summary": "{\n  \"name\": \"data\",\n  \"rows\": 10000,\n  \"fields\": [\n    {\n      \"column\": \"review\",\n      \"properties\": {\n        \"dtype\": \"string\",\n        \"num_unique_values\": 9982,\n        \"samples\": [\n          \"Foolish hikers go camping in the Utah mountains only to run into a murderous, disfigured gypsy. <br /><br />The Prey is a pretty run of the mill slasher film, that mostly suffers from a lack of imagination. The victim characters are all-too-familiar idiot teens which means one doesn't really care about them, we just wonder when they will die! Not to mention it has one too many cheesy moments and is padded with endless, unnecessary nature footage. However it does have a few moments of interest to slasher fans, the occasional touch of spooky atmosphere, and a decent music score by Don Peake. Still, it's business as usual for dead-camper movies.<br /><br />There are much better films in this vein, but over all The Prey may be watchable enough for die-hard slasher fans. Although one might be more rewarded to watch Just Before Dawn (1981), Wrong Turn (2003), or even The Final Terror (1983) again.<br /><br />* 1/2 out of ****\",\n          \"Leon Errol handles his double role of Uncle Matt Lindsay and Lord Basil Epping superbly, but I have trouble liking the \\\"Mexican Spitfire\\\" Series because they all are contrived to produce mistaken identities, and these are telegraphed way in advance. Errol is funny as the stuffy Lord Epping, but I would have preferred a lot more wit and much less repetition. <br /><br />\",\n          \"The costumes are outrageous and the Australian outback scenery is fun to view, but there is an edge to this story - a mean edge - about drag queens. I particularly noticed that in Terrence Stamp's character, \\\"Ralph Bernadette Bassenger.\\\" Perhaps that was appropriate since there is nothing \\\"good-guy- like\\\" about Ralph-Bernadette and his group of \\\"queens.\\\" <br /><br />Once again, we get the strong Liberal slant which says anything goes and if you're not \\\"with it\\\" - or in this case, pro-homosexual, then you are a homophobe. (Gasp!)<br /><br />What's really disturbing is the ending when a young boy goes off with his \\\"alternative-lifestyle\\\" father and embraces his gay lifestyle, not because it fit the story but because it fit the agenda of the people who wrote the script. Pitiful.\"\n        ],\n        \"semantic_type\": \"\",\n        \"description\": \"\"\n      }\n    }\n  ]\n}"
            }
          },
          "metadata": {},
          "execution_count": 98
        }
      ],
      "source": [
        "data.head(5)"
      ]
    },
    {
      "cell_type": "markdown",
      "metadata": {
        "id": "62xkzNTFYmyq"
      },
      "source": [
        "## **Checking the shape of the data**"
      ]
    },
    {
      "cell_type": "code",
      "execution_count": 99,
      "metadata": {
        "colab": {
          "base_uri": "https://localhost:8080/"
        },
        "id": "Mcb3m-xKzw8V",
        "outputId": "a6c1e244-965a-4b65-82ee-f590feb10c9c"
      },
      "outputs": [
        {
          "output_type": "execute_result",
          "data": {
            "text/plain": [
              "(10000, 1)"
            ]
          },
          "metadata": {},
          "execution_count": 99
        }
      ],
      "source": [
        "data.shape"
      ]
    },
    {
      "cell_type": "markdown",
      "metadata": {
        "id": "IPbc-9HLs2WI"
      },
      "source": [
        "* The dataset has 10000 rows and 1 column."
      ]
    },
    {
      "cell_type": "markdown",
      "metadata": {
        "id": "MUGy2CBnZa6g"
      },
      "source": [
        "## **Checking for missing values**"
      ]
    },
    {
      "cell_type": "code",
      "execution_count": 100,
      "metadata": {
        "colab": {
          "base_uri": "https://localhost:8080/",
          "height": 0
        },
        "id": "k0XZhWGRBiCV",
        "outputId": "dd755640-22e2-416f-90e2-6a8c6aec8457"
      },
      "outputs": [
        {
          "output_type": "execute_result",
          "data": {
            "text/plain": [
              "review    0\n",
              "dtype: int64"
            ],
            "text/html": [
              "<div>\n",
              "<style scoped>\n",
              "    .dataframe tbody tr th:only-of-type {\n",
              "        vertical-align: middle;\n",
              "    }\n",
              "\n",
              "    .dataframe tbody tr th {\n",
              "        vertical-align: top;\n",
              "    }\n",
              "\n",
              "    .dataframe thead th {\n",
              "        text-align: right;\n",
              "    }\n",
              "</style>\n",
              "<table border=\"1\" class=\"dataframe\">\n",
              "  <thead>\n",
              "    <tr style=\"text-align: right;\">\n",
              "      <th></th>\n",
              "      <th>0</th>\n",
              "    </tr>\n",
              "  </thead>\n",
              "  <tbody>\n",
              "    <tr>\n",
              "      <th>review</th>\n",
              "      <td>0</td>\n",
              "    </tr>\n",
              "  </tbody>\n",
              "</table>\n",
              "</div><br><label><b>dtype:</b> int64</label>"
            ]
          },
          "metadata": {},
          "execution_count": 100
        }
      ],
      "source": [
        "data.isnull().sum()"
      ]
    },
    {
      "cell_type": "markdown",
      "metadata": {
        "id": "1i5McJGWBiCV"
      },
      "source": [
        "* There are no missing values in the data"
      ]
    },
    {
      "cell_type": "markdown",
      "metadata": {
        "id": "nZdNFg-5Zmiz"
      },
      "source": [
        "## **Checking for duplicate values**"
      ]
    },
    {
      "cell_type": "code",
      "execution_count": 101,
      "metadata": {
        "colab": {
          "base_uri": "https://localhost:8080/"
        },
        "id": "gn5VDFNoBiCW",
        "outputId": "e1b111df-4fdf-490a-aec6-a98e8129d799"
      },
      "outputs": [
        {
          "output_type": "execute_result",
          "data": {
            "text/plain": [
              "18"
            ]
          },
          "metadata": {},
          "execution_count": 101
        }
      ],
      "source": [
        "# checking for duplicate values\n",
        "data.duplicated().sum()"
      ]
    },
    {
      "cell_type": "code",
      "execution_count": 102,
      "metadata": {
        "id": "lyuQEKBaBiCW"
      },
      "outputs": [],
      "source": [
        "# keeping only the first occurence of duplicate values and dropping the rest\n",
        "data = data.drop_duplicates(keep = 'first')"
      ]
    },
    {
      "cell_type": "code",
      "execution_count": 103,
      "metadata": {
        "id": "bTqafJd_BiCW"
      },
      "outputs": [],
      "source": [
        "# reseting the index of the dataframe\n",
        "data = data.reset_index(drop = True)"
      ]
    },
    {
      "cell_type": "markdown",
      "metadata": {
        "id": "rwMJutR2BiCW"
      },
      "source": [
        "* The duplicate values have been removed."
      ]
    },
    {
      "cell_type": "markdown",
      "metadata": {
        "id": "N4fvprg6u5fE"
      },
      "source": [
        "# **Text Preprocessing**"
      ]
    },
    {
      "cell_type": "markdown",
      "metadata": {
        "id": "NJDPhhmvvxJ1"
      },
      "source": [
        "### **Removing special characters from the text**"
      ]
    },
    {
      "cell_type": "markdown",
      "metadata": {
        "id": "zi2fXV6b7fVO"
      },
      "source": [
        "<h2>Why Remove Special Characters in Text Preprocessing?</h2>\n",
        "\n",
        "- Special characters can introduce unnecessary elements, complicating text analysis.\n",
        "\n",
        "- Clean text is simpler to work with and understand."
      ]
    },
    {
      "cell_type": "markdown",
      "metadata": {
        "id": "pOdhCu8E8Bij"
      },
      "source": [
        "<h2>How to Implement Special Character Removal in Text Preprocessing?</h2>\n",
        "\n",
        "- We can start by manually replacing unwanted characters like @, #, or punctuation marks with spaces.\n",
        "\n",
        "- String functions like `replace()` help with simple replacements across the text."
      ]
    },
    {
      "cell_type": "code",
      "execution_count": 104,
      "metadata": {
        "id": "0JziXnp3vt_D"
      },
      "outputs": [],
      "source": [
        "text = \"office.aiml.utaustin@mygreatlearning.com\""
      ]
    },
    {
      "cell_type": "code",
      "execution_count": 105,
      "metadata": {
        "colab": {
          "base_uri": "https://localhost:8080/",
          "height": 0
        },
        "id": "MTJ2ZX3Bvt7k",
        "outputId": "3b9741c7-8995-466c-f68e-15ca82904410"
      },
      "outputs": [
        {
          "output_type": "execute_result",
          "data": {
            "text/plain": [
              "'office.aiml.utaustin mygreatlearning.com'"
            ],
            "application/vnd.google.colaboratory.intrinsic+json": {
              "type": "string"
            }
          },
          "metadata": {},
          "execution_count": 105
        }
      ],
      "source": [
        "upd_text1 = text.replace(\"@\", \" \")\n",
        "upd_text1"
      ]
    },
    {
      "cell_type": "markdown",
      "metadata": {
        "id": "y1JE8KwjwfVT"
      },
      "source": [
        "- We can observe that the '@' character has been replaced with a whitespace.\n",
        "- Additionally, there are some punctuation marks in the email address. Let's replace those as well."
      ]
    },
    {
      "cell_type": "code",
      "execution_count": 106,
      "metadata": {
        "colab": {
          "base_uri": "https://localhost:8080/",
          "height": 0
        },
        "id": "Rb2OIGakwRvO",
        "outputId": "872ebeff-6a44-4465-9c9a-269e9c46d501"
      },
      "outputs": [
        {
          "output_type": "execute_result",
          "data": {
            "text/plain": [
              "'office aiml utaustin mygreatlearning com'"
            ],
            "application/vnd.google.colaboratory.intrinsic+json": {
              "type": "string"
            }
          },
          "metadata": {},
          "execution_count": 106
        }
      ],
      "source": [
        "upd_text2 = upd_text1.replace(\".\", \" \")\n",
        "upd_text2"
      ]
    },
    {
      "cell_type": "markdown",
      "metadata": {
        "id": "YkQHhY3dwcfU"
      },
      "source": [
        "- The punctuation marks ('.') are also replaced.\n"
      ]
    },
    {
      "cell_type": "markdown",
      "metadata": {
        "id": "aSSK3ZoyvuhI"
      },
      "source": [
        "- However, as text become larger and contain various patterns of special characters, manually handling them becomes tedious.\n",
        "\n",
        "- In such cases, we need more flexible methods to efficiently identify and remove multiple patterns at once - this is where advanced tools like regular expressions come in handy."
      ]
    },
    {
      "cell_type": "markdown",
      "metadata": {
        "id": "OT_43nnO9KgX"
      },
      "source": [
        "<h2>Regular Expressions</h2>\n",
        "\n",
        "- Regular expression, also called regex in short, is a sequence of symbols and characters expressing a string or pattern to be searched for within a longer piece of text.\n",
        "\n",
        "- They enable complex text processing tasks, such as finding, replacing, or removing patterns, making data cleaning more efficient.\n",
        "\n",
        "- Example:\n",
        "    - **Pattern:** `a`\n",
        "    - **Description:** This regex pattern matches the letter \"a\" in any text.\n",
        "    - **Usage:** In the text \"apple pie\", the pattern `a` will match the occurrence of \"a,\" allowing for identification or manipulation of that letter.  "
      ]
    },
    {
      "cell_type": "markdown",
      "metadata": {
        "id": "-nMFZrmAxQFU"
      },
      "source": [
        "- Regular expressions are implemented in Python using the `re` library.\n",
        "\n",
        "- It is imported using the statement `import re`"
      ]
    },
    {
      "cell_type": "code",
      "execution_count": 107,
      "metadata": {
        "id": "ta_ayGHjx_ZS"
      },
      "outputs": [],
      "source": [
        "import re"
      ]
    },
    {
      "cell_type": "markdown",
      "metadata": {
        "id": "hpDIfg6hWJzm"
      },
      "source": [
        "- Suppose you have a string, and you are interested in adding a character between each of its characters."
      ]
    },
    {
      "cell_type": "code",
      "execution_count": 108,
      "metadata": {
        "id": "RTdBFsfFWJzo"
      },
      "outputs": [],
      "source": [
        "string = \"Regular expressions\""
      ]
    },
    {
      "cell_type": "markdown",
      "metadata": {
        "id": "WLCuHg3WWJzo"
      },
      "source": [
        "- This is where the join method comes to rescue.\n",
        "\n",
        "  - The `join()` method takes all characters in a string and joins them into one string with a sepataror.\n",
        "\n",
        "  - A string must be specified as the separator.\n",
        "\n",
        "  - **Syntax :** string.join(list)"
      ]
    },
    {
      "cell_type": "code",
      "execution_count": 109,
      "metadata": {
        "colab": {
          "base_uri": "https://localhost:8080/",
          "height": 0
        },
        "id": "18e0SPMYEcFd",
        "outputId": "8a43fdb3-73ae-4175-eb2b-7730a8ba8014"
      },
      "outputs": [
        {
          "output_type": "execute_result",
          "data": {
            "text/plain": [
              "'Rspaceespacegspaceuspacelspaceaspacerspace spaceespacexspacepspacerspaceespacesspacesspaceispaceospacenspaces'"
            ],
            "application/vnd.google.colaboratory.intrinsic+json": {
              "type": "string"
            }
          },
          "metadata": {},
          "execution_count": 109
        }
      ],
      "source": [
        "'space'.join(string)"
      ]
    },
    {
      "cell_type": "markdown",
      "metadata": {
        "id": "1RdxSGBdWJzq"
      },
      "source": [
        "- As we can observe, the string 'space' has been added between each character in the `string`"
      ]
    },
    {
      "cell_type": "code",
      "execution_count": 110,
      "metadata": {
        "colab": {
          "base_uri": "https://localhost:8080/",
          "height": 0
        },
        "id": "qNfZNA0dWJzr",
        "outputId": "c9a5a01c-a09c-4eaa-da4c-cb102859947a"
      },
      "outputs": [
        {
          "output_type": "execute_result",
          "data": {
            "text/plain": [
              "'R e g u l a r   e x p r e s s i o n s'"
            ],
            "application/vnd.google.colaboratory.intrinsic+json": {
              "type": "string"
            }
          },
          "metadata": {},
          "execution_count": 110
        }
      ],
      "source": [
        "' '.join(string)"
      ]
    },
    {
      "cell_type": "markdown",
      "metadata": {
        "id": "VldKvFlyWJzs"
      },
      "source": [
        "- As we can observe, a whitespace has been added between each character in the `string`."
      ]
    },
    {
      "cell_type": "markdown",
      "metadata": {
        "id": "te9QFde5ARpH"
      },
      "source": [
        "<h2>1. Pattern: [a-z]</h2>\n",
        "<p><strong>Use Case:</strong> Extracting lowercase letters from usernames.</p>\n",
        "<p><strong>Description:</strong> This pattern matches any single lowercase letter from 'a' to 'z'. It can be used to ensure usernames contain only lowercase letters.</p>\n",
        "<pre>\n",
        "pattern = r'[a-z]'\n",
        "# Finding the specified pattern and replacing lowercase characters with a blank string\n",
        "new_text = ''.join(re.sub(pattern, ' ', text))\n",
        "</pre>\n"
      ]
    },
    {
      "cell_type": "markdown",
      "metadata": {
        "id": "83bnDwkPjIXA"
      },
      "source": [
        "- The `r` prefix creates a raw string, preventing Python from interpreting backslashes as escape characters, which is essential when working with regular expressions that often use backslashes."
      ]
    },
    {
      "cell_type": "markdown",
      "metadata": {
        "id": "HuaQfFEd_Win"
      },
      "source": [
        "- [] define a character set, which matches any one character from a specified set of characters inside the brackets.\n",
        "\n",
        "- For example, [abc] will match either a, b, or c in the input text.\n",
        "\n",
        "- If you put a hyphen between characters like [a-z], it matches any character in that range, so [a-z] matches any lowercase letter from a to z."
      ]
    },
    {
      "cell_type": "markdown",
      "metadata": {
        "id": "7FVlN1PK_YEw"
      },
      "source": [
        "- The `re` library in Python includes many built-in functions, one of which is `re.sub`, used for substituting occurrences of a specified regex pattern in a string."
      ]
    },
    {
      "cell_type": "markdown",
      "metadata": {
        "id": "5bDHSB00B9W9"
      },
      "source": [
        "**```re.sub(pattern, replacement, string)```**\n",
        "\n",
        "This function is used to replace occurrences of a pattern in a string.\n",
        "\n",
        "- **`pattern`:** The regular expression that defines the sequence of characters you want to search for in the string.\n",
        "\n",
        "- **`replacement`:** The string that will replace each occurrence of the pattern found in the original string.\n",
        "\n",
        "- **`string`:** The input string where the search and replacement will occur"
      ]
    },
    {
      "cell_type": "code",
      "execution_count": 111,
      "metadata": {
        "colab": {
          "base_uri": "https://localhost:8080/",
          "height": 0
        },
        "id": "ktFHd3ACAE5M",
        "outputId": "7fc90908-3f72-4f7e-b0b7-6131ecf91e17"
      },
      "outputs": [
        {
          "output_type": "execute_result",
          "data": {
            "text/plain": [
              "'P      M      '"
            ],
            "application/vnd.google.colaboratory.intrinsic+json": {
              "type": "string"
            }
          },
          "metadata": {},
          "execution_count": 111
        }
      ],
      "source": [
        "pattern = r'[a-z]'\n",
        "replacement = ' '\n",
        "string = 'Python Modules'\n",
        "\n",
        "output = re.sub(pattern,replacement,string)\n",
        "\n",
        "output"
      ]
    },
    {
      "cell_type": "markdown",
      "metadata": {
        "id": "JjdQZugmAXkG"
      },
      "source": [
        "- As expected, the characters [a-z] in the string are replaced with a whitespace."
      ]
    },
    {
      "cell_type": "markdown",
      "metadata": {
        "id": "FkBy3g3Kya9_"
      },
      "source": [
        "- Let's check a simple example of how the above pattern can be used."
      ]
    },
    {
      "cell_type": "code",
      "execution_count": 112,
      "metadata": {
        "colab": {
          "base_uri": "https://localhost:8080/"
        },
        "id": "-wwqc_VWiEqm",
        "outputId": "089ac040-2527-4da1-e82f-4501defd05d5"
      },
      "outputs": [
        {
          "output_type": "stream",
          "name": "stdout",
          "text": [
            "Artificial Intelligence and Machine Learning\n",
            "A          I                M       L       \n"
          ]
        }
      ],
      "source": [
        "string = \"Artificial Intelligence and Machine Learning\"\n",
        "pattern = r'[a-z]'\n",
        "\n",
        "cleaned_string = ''.join(re.sub(pattern,' ',string))\n",
        "\n",
        "print(string)\n",
        "print(cleaned_string)"
      ]
    },
    {
      "cell_type": "markdown",
      "metadata": {
        "id": "SnTjPvYXyhNG"
      },
      "source": [
        "- As we can observe, the lower case characters in the string contained in the variable `string` have been replaced with a whitespace (and not a blank).\n",
        "\n",
        "- Let's verify the same."
      ]
    },
    {
      "cell_type": "code",
      "execution_count": 113,
      "metadata": {
        "colab": {
          "base_uri": "https://localhost:8080/"
        },
        "id": "h2Dimo_mz2Ub",
        "outputId": "6a039da1-0777-45a9-a50b-54bd0542efeb"
      },
      "outputs": [
        {
          "output_type": "stream",
          "name": "stdout",
          "text": [
            "44\n",
            "44\n"
          ]
        }
      ],
      "source": [
        "print(len(string))\n",
        "print(len(cleaned_string))"
      ]
    },
    {
      "cell_type": "markdown",
      "metadata": {
        "id": "u-s0cfUU0H7z"
      },
      "source": [
        "- Since the lower case characters are replaced with a whitespace and whitespace is also a character, the length of the `cleaned_string` remains unchanged"
      ]
    },
    {
      "cell_type": "markdown",
      "metadata": {
        "id": "zTtq5yKwz6LA"
      },
      "source": [
        "- We can also replace the lower case characters in the string with a blank, i.e., remove those characters."
      ]
    },
    {
      "cell_type": "code",
      "execution_count": 114,
      "metadata": {
        "colab": {
          "base_uri": "https://localhost:8080/"
        },
        "id": "xACvRxuuzOYn",
        "outputId": "1d895a72-7b62-4d77-fd44-37b5a42023b9"
      },
      "outputs": [
        {
          "output_type": "stream",
          "name": "stdout",
          "text": [
            "Artificial Intelligence and Machine Learning\n",
            "A I  M L\n"
          ]
        }
      ],
      "source": [
        "string = \"Artificial Intelligence and Machine Learning\"\n",
        "pattern = r'[a-z]'\n",
        "\n",
        "cleaned_string = ''.join(re.sub(pattern,'',string))\n",
        "\n",
        "print(string)\n",
        "print(cleaned_string)"
      ]
    },
    {
      "cell_type": "code",
      "execution_count": 115,
      "metadata": {
        "colab": {
          "base_uri": "https://localhost:8080/"
        },
        "id": "Rth7uXKj0LEi",
        "outputId": "2f956ee5-3de4-49e7-b606-43ce503d2c1e"
      },
      "outputs": [
        {
          "output_type": "stream",
          "name": "stdout",
          "text": [
            "44\n",
            "8\n"
          ]
        }
      ],
      "source": [
        "print(len(string))\n",
        "print(len(cleaned_string))"
      ]
    },
    {
      "cell_type": "markdown",
      "metadata": {
        "id": "q_KlZx3C0MXv"
      },
      "source": [
        "- Since the lowercase characters are replaced with a blank space, and a blank space is a character of zero length, the length of the `cleaned_string` changed and was reduced"
      ]
    },
    {
      "cell_type": "markdown",
      "metadata": {
        "id": "kgWOPZqIyl9N"
      },
      "source": [
        "- Now, let's try to use this pattern to manipulate one of the reviews in the data."
      ]
    },
    {
      "cell_type": "code",
      "execution_count": 116,
      "metadata": {
        "colab": {
          "base_uri": "https://localhost:8080/"
        },
        "id": "Xq8Obkqkib9X",
        "outputId": "9b068365-5894-4bcf-d2c5-6a2eb3630a44"
      },
      "outputs": [
        {
          "output_type": "stream",
          "name": "stdout",
          "text": [
            "Okay, I know this does'nt project India in a good light. But the overall theme of the movie is not India, it's Shakti. The power of a warlord, and the power of a mother. The relationship between Nandini and her husband and son swallow you up in their warmth. Then things go terribly wrong. The interaction between Nandini and her father in law - the power of their dysfunctional relationship - and the lives changed by it are the strengths of this movie. Shah Rukh Khan's performance seems to be a mere cameo compared to the believable desperation of Karisma Kapoor. It is easy to get caught up in the love, violence and redemption of lives in this film, and find yourself heaving a sigh of relief and sadness at the climax. The musical interludes are strengths, believable and well done.\n",
            "O   , I               '           I                    . B                                         I    ,   '  S     . T                     ,                          . T                        N                                                             . T                            . T                       N                             -                                               -                                                            . S    R    K   '                                                                                 K       K     . I                                      ,                                              ,                                                                     . T                                   ,                         .\n"
          ]
        }
      ],
      "source": [
        "review = data['review'][0]\n",
        "pattern = r'[a-z]'\n",
        "\n",
        "cleaned_review = ''.join(re.sub(pattern,' ',review))\n",
        "\n",
        "print(review)\n",
        "print(cleaned_review)"
      ]
    },
    {
      "cell_type": "markdown",
      "metadata": {
        "id": "uSWSeI-hCZor"
      },
      "source": [
        "- As we can observe, the lowercase letters have been replaced with a whitespace."
      ]
    },
    {
      "cell_type": "markdown",
      "metadata": {
        "id": "0b02RfCwDPAJ"
      },
      "source": [
        "<h2>2. Pattern: [A-Z]</h2>\n",
        "<p><strong>Use Case:</strong> Validating employee IDs that start with uppercase letters.</p>\n",
        "<p><strong>Description:</strong> This pattern matches any single uppercase letter from 'A' to 'Z'. It can be used to check that employee IDs start with a capital letter.</p>\n",
        "<pre>\n",
        "pattern = r'[A-Z]'\n",
        "# Finding the specified pattern and replacing uppercase characters with a blank string\n",
        "new_text = ''.join(re.sub(pattern, ' ', text))\n",
        "</pre>"
      ]
    },
    {
      "cell_type": "code",
      "execution_count": 117,
      "metadata": {
        "colab": {
          "base_uri": "https://localhost:8080/"
        },
        "id": "qh6LnFwFixVG",
        "outputId": "996c1a3e-8acf-43e8-a7ee-d152281cdb2d"
      },
      "outputs": [
        {
          "output_type": "stream",
          "name": "stdout",
          "text": [
            "ID1230\n",
            "  1230\n"
          ]
        }
      ],
      "source": [
        "string = \"ID1230\"\n",
        "pattern = r'[A-Z]'\n",
        "\n",
        "cleaned_string = ''.join(re.sub(pattern,' ',string))\n",
        "\n",
        "print(string)\n",
        "print(cleaned_string)"
      ]
    },
    {
      "cell_type": "markdown",
      "metadata": {
        "id": "P77zG6nfCrhu"
      },
      "source": [
        "- As we can observe, the uppercase letters have been replaced with a whitespace"
      ]
    },
    {
      "cell_type": "code",
      "execution_count": 118,
      "metadata": {
        "colab": {
          "base_uri": "https://localhost:8080/"
        },
        "id": "zD0kDr0miyAD",
        "outputId": "3859b8b3-707a-4470-a87c-655b0f776b32"
      },
      "outputs": [
        {
          "output_type": "stream",
          "name": "stdout",
          "text": [
            "Admittedly, there are some scenes in this movie that seem a little unrealistic. The ravishing woman first panics and then, only a few minutes later, she starts kissing the young lad while the old guy is right next to her. But as the film goes along we learn that she is a little volatile girl (or slut) and that partly explains her behavior. The cinematography of this movie is well done. We get to see the elevator from almost every angle and perspective, and some of those images and scenes really raise the tension. Götz George plays his character well, a wannabe hot-shot getting old and being overpowered by young men like the Jaennicke character. Wolfgang Kieling who I admired in Hitchcock's THE TORN CURTAIN delivers a great performance that, although he doesn't say much, he is by far the best actor in this play. One critic complained about how unrealistic the film was and that in a real case of emergency nothing would really happen. But then again, how realistic are films such as Mission impossible or Phone Booth. Given the fact that we are talking about a movie here, and that in a movie you always have to deal with some scenes that aren't very likely to occur in real life, you can still enjoy this movie. It's a lot better than many things that I see on German TV these days and I think that the vintage 80's style added something to this film.\n",
            " dmittedly, there are some scenes in this movie that seem a little unrealistic.  he ravishing woman first panics and then, only a few minutes later, she starts kissing the young lad while the old guy is right next to her.  ut as the film goes along we learn that she is a little volatile girl (or slut) and that partly explains her behavior.  he cinematography of this movie is well done.  e get to see the elevator from almost every angle and perspective, and some of those images and scenes really raise the tension.  ötz  eorge plays his character well, a wannabe hot-shot getting old and being overpowered by young men like the  aennicke character.  olfgang  ieling who   admired in  itchcock's                  delivers a great performance that, although he doesn't say much, he is by far the best actor in this play.  ne critic complained about how unrealistic the film was and that in a real case of emergency nothing would really happen.  ut then again, how realistic are films such as  ission impossible or  hone  ooth.  iven the fact that we are talking about a movie here, and that in a movie you always have to deal with some scenes that aren't very likely to occur in real life, you can still enjoy this movie.  t's a lot better than many things that   see on  erman    these days and   think that the vintage 80's style added something to this film.\n"
          ]
        }
      ],
      "source": [
        "import re\n",
        "\n",
        "review = data['review'][4]\n",
        "pattern = r'[A-Z]'\n",
        "\n",
        "cleaned_review = ''.join(re.sub(pattern,' ',review))\n",
        "\n",
        "print(review)\n",
        "print(cleaned_review)"
      ]
    },
    {
      "cell_type": "markdown",
      "metadata": {
        "id": "QPky7ZWSC1K6"
      },
      "source": [
        "- Every sentence starts with an uppercase letter.\n",
        "- As we can observe, the uppercase characters have been replaced with a whitespace, along with all other uppercase characters."
      ]
    },
    {
      "cell_type": "markdown",
      "metadata": {
        "id": "gjjZESwTDUMN"
      },
      "source": [
        "<h2>3. Pattern: [0-9]</h2>\n",
        "<p><strong>Use Case:</strong> Extracting the template from a string.</p>\n",
        "<p><strong>Description:</strong> This pattern matches any single digit from '0' to '9'.</p>\n",
        "<pre>\n",
        "pattern = r'[0-9]'\n",
        "# Finding the specified pattern and replacing digit characters with a white space\n",
        "new_text = ''.join(re.sub(pattern, ' ', text))\n",
        "</pre>"
      ]
    },
    {
      "cell_type": "code",
      "execution_count": 119,
      "metadata": {
        "colab": {
          "base_uri": "https://localhost:8080/"
        },
        "id": "B8Jw5lapjhQV",
        "outputId": "0e8154fe-9901-4d71-b0b8-5b38111ccf7d"
      },
      "outputs": [
        {
          "output_type": "stream",
          "name": "stdout",
          "text": [
            "OrderNumber: 12345, TotalAmount: $67.89\n",
            "OrderNumber:      , TotalAmount: $  .  \n"
          ]
        }
      ],
      "source": [
        "import re\n",
        "\n",
        "string = \"OrderNumber: 12345, TotalAmount: $67.89\"\n",
        "pattern = r'[0-9]'\n",
        "\n",
        "cleaned_string = ''.join(re.sub(pattern,' ',string))\n",
        "\n",
        "print(string)\n",
        "print(cleaned_string)"
      ]
    },
    {
      "cell_type": "markdown",
      "metadata": {
        "id": "53qUS8dbDmGy"
      },
      "source": [
        "- There is a particular template in the string:\n",
        "  - It contains an Order Number and Total Amount with some values.\n",
        "  - If we replace the values with whitespace, we can retrieve the template."
      ]
    },
    {
      "cell_type": "code",
      "execution_count": 120,
      "metadata": {
        "colab": {
          "base_uri": "https://localhost:8080/"
        },
        "id": "Fyv4B8VOjhg8",
        "outputId": "245e4996-737f-4f09-c08b-1c87e23be22d"
      },
      "outputs": [
        {
          "output_type": "stream",
          "name": "stdout",
          "text": [
            "The temperature today is 75 degrees Fahrenheit.\n",
            "The temperature today is    degrees Fahrenheit.\n"
          ]
        }
      ],
      "source": [
        "import re\n",
        "\n",
        "string = \"The temperature today is 75 degrees Fahrenheit.\"\n",
        "pattern = r'[0-9]'\n",
        "\n",
        "cleaned_string = ''.join(re.sub(pattern,' ',string))\n",
        "\n",
        "print(string)\n",
        "print(cleaned_string)"
      ]
    },
    {
      "cell_type": "markdown",
      "metadata": {
        "id": "6GVPJws0EDcK"
      },
      "source": [
        "- Imagine there is a simple website that displays the daily temperature in a specific format.\n",
        "  - In the above string, only the temperature value changes while the format remains the same.\n",
        "  - If we replace that value with a whitespace or any other value, we can update the temperature.\n",
        "  - For now, we will retrieve the template alone.\n"
      ]
    },
    {
      "cell_type": "code",
      "execution_count": 121,
      "metadata": {
        "colab": {
          "base_uri": "https://localhost:8080/"
        },
        "id": "_jj9NZTDNJgQ",
        "outputId": "20479bc9-809f-4cf7-97b2-2a2fcacb0c1d"
      },
      "outputs": [
        {
          "output_type": "stream",
          "name": "stdout",
          "text": [
            "This one is a real bomb. We are supposed to believe that Merle Oberon is the sequestered daughter of an ambitious politician who must prove to the Tom DeLay of the 1930s that he is worth supporting as a presidential candidate. Poor Merle can't go anywhere, but is surrounded by politicians and their quacking, quaking wives and supported only by kindly uncle Harry Davenport. She joins her two maids on a blind date and Gary Cooper happens to show up. Some shots of rodeo might have enlivened things, a la \"Misfits,\" but no such luck with this one. Gary later breaks in to a formal dinner, at which Merle is presiding, and, though invited to sit down and join the group, reads them a lecture on their snobbery. Where did this diffident cowboy's sudden eloquence come from? The most excruciating scene in the film is a phantom party that Gary holds in his unfinished house for his absent wife, Merle. Will it never end? One to avoid.\n",
            "This one is a real bomb. We are supposed to believe that Merle Oberon is the sequestered daughter of an ambitious politician who must prove to the Tom DeLay of the     s that he is worth supporting as a presidential candidate. Poor Merle can't go anywhere, but is surrounded by politicians and their quacking, quaking wives and supported only by kindly uncle Harry Davenport. She joins her two maids on a blind date and Gary Cooper happens to show up. Some shots of rodeo might have enlivened things, a la \"Misfits,\" but no such luck with this one. Gary later breaks in to a formal dinner, at which Merle is presiding, and, though invited to sit down and join the group, reads them a lecture on their snobbery. Where did this diffident cowboy's sudden eloquence come from? The most excruciating scene in the film is a phantom party that Gary holds in his unfinished house for his absent wife, Merle. Will it never end? One to avoid.\n"
          ]
        }
      ],
      "source": [
        "import re\n",
        "\n",
        "review = data['review'][905]\n",
        "pattern = r'[0-9]'\n",
        "\n",
        "cleaned_review = ''.join(re.sub(pattern,' ',review))\n",
        "\n",
        "print(review)\n",
        "print(cleaned_review)"
      ]
    },
    {
      "cell_type": "markdown",
      "metadata": {
        "id": "cGRbjl2JFzkN"
      },
      "source": [
        "- As expected the string '1930' has been replaced with a whitespace."
      ]
    },
    {
      "cell_type": "markdown",
      "metadata": {
        "id": "7En_rvCaDYz_"
      },
      "source": [
        "<h2>4. Pattern: [^]</h2>\n",
        "\n",
        "- The ^ character is used as a negation operator in regular expressions.\n",
        "- Any pattern mentioned after the ^ character will be excluded from consideration.\n",
        "\n",
        "<strong>Use Case:</strong> Removing all non-numeric characters from a string of digits.\n",
        "\n",
        "<strong>Description:</strong> The pattern `[^0-9]` matches any character that is not a digit. It can be used to clean up strings that should only contain numbers.\n",
        "\n",
        "```\n",
        "pattern = r'[^0-9]'\n",
        "# Finding the specified pattern and replacing non-digit characters with a blank string\n",
        "new_text = ''.join(re.sub(pattern, ' ', text))\n",
        "```"
      ]
    },
    {
      "cell_type": "code",
      "execution_count": 122,
      "metadata": {
        "colab": {
          "base_uri": "https://localhost:8080/"
        },
        "id": "OxBKUoepkMxJ",
        "outputId": "ccd2512c-7b8b-47a1-dfe3-28bf9668a079"
      },
      "outputs": [
        {
          "output_type": "stream",
          "name": "stdout",
          "text": [
            "OrderNumber: 12345, TotalAmount: $67.89\n",
            "             12345                67 89\n"
          ]
        }
      ],
      "source": [
        "import re\n",
        "\n",
        "string = \"OrderNumber: 12345, TotalAmount: $67.89\"\n",
        "pattern = r'[^0-9]'\n",
        "\n",
        "cleaned_string = ''.join(re.sub(pattern,' ',string))\n",
        "\n",
        "print(string)\n",
        "print(cleaned_string)"
      ]
    },
    {
      "cell_type": "markdown",
      "metadata": {
        "id": "QSvfO14EHR85"
      },
      "source": [
        "- In one of the previous examples, we have retrieved the template.\n",
        "  - To retrieve anything apart from the template, we can use the ^ character."
      ]
    },
    {
      "cell_type": "code",
      "execution_count": 123,
      "metadata": {
        "colab": {
          "base_uri": "https://localhost:8080/"
        },
        "id": "LATIOL6ekNJi",
        "outputId": "0b97845b-33e2-4c0b-af9d-deb6ccefbe20"
      },
      "outputs": [
        {
          "output_type": "stream",
          "name": "stdout",
          "text": [
            "The temperature today is 75 degrees Fahrenheit.\n",
            "                         75                    \n"
          ]
        }
      ],
      "source": [
        "import re\n",
        "\n",
        "string = \"The temperature today is 75 degrees Fahrenheit.\"\n",
        "pattern = r'[^0-9]'\n",
        "\n",
        "cleaned_string = ''.join(re.sub(pattern,' ',string))\n",
        "\n",
        "print(string)\n",
        "print(cleaned_string)"
      ]
    },
    {
      "cell_type": "markdown",
      "metadata": {
        "id": "QnGawEF9HrgQ"
      },
      "source": [
        "- In one of the previous examples, we have retrieved the template.\n",
        "  - To retrieve anything apart from the template, we can use the ^ character."
      ]
    },
    {
      "cell_type": "code",
      "execution_count": 124,
      "metadata": {
        "colab": {
          "base_uri": "https://localhost:8080/"
        },
        "id": "6p5Nj11HNPvm",
        "outputId": "ce54fedd-0034-408b-9a1a-cda82b84f8c5"
      },
      "outputs": [
        {
          "output_type": "stream",
          "name": "stdout",
          "text": [
            "One of the most underrated movies I've seen in a long time, Bill & Ted's Bogus Journey is the second hilarious adventure of Bill S. Preston Esq. and Ted Theodore Logan, aka Wyld Stallyns. There are two ways to look at this film: First, you see dumb dialogue, far fetched plot, juvenile idea. OR.. You see brilliantly downplayed idiots who yet again find themselves in a situation too big for their brains. Throw a Bruce Willis or a Arnold Schwarzeneggar into this plot and it becomes a big blockbuster movie. Bill and Ted go into the story with the same level of sincerity, only it's Bill and Ted. This is a tricky fence to balance on, but when you watch the movie not as a throwaway screwball comedy, but as an adventure featuring two guys who have no business being in an adventure, it becomes so much more.\n",
            "                                                                                                                                                                                                                                                                                                                                                                                                                                                                                                                                                                                                                                                                                                                                                                                                                                         \n"
          ]
        }
      ],
      "source": [
        "import re\n",
        "\n",
        "review = data['review'][13]\n",
        "pattern = r'[^0-9]'\n",
        "\n",
        "cleaned_review = ''.join(re.sub(pattern,' ',review))\n",
        "\n",
        "print(review)\n",
        "print(cleaned_review)"
      ]
    },
    {
      "cell_type": "markdown",
      "metadata": {
        "id": "CpvxS6heHsey"
      },
      "source": [
        "- As the review contains no digits, all characters have been replaced with whitespace."
      ]
    },
    {
      "cell_type": "markdown",
      "metadata": {
        "id": "SFRCizPODcwp"
      },
      "source": [
        "<h2>5. Pattern: [^A-Za-z]</h2>\n",
        "<p><strong>Use Case:</strong> Sanitizing input fields to allow only letters.</p>\n",
        "<p><strong>Description:</strong> This pattern matches any character that is not a letter (either uppercase or lowercase). It can be used to sanitize user input in forms to ensure it only contains alphabetic characters.</p>\n",
        "<pre>\n",
        "pattern = r'[^A-Za-z]'\n",
        "# Finding the specified pattern and replacing non-letter characters with a blank string\n",
        "new_text = ''.join(re.sub(pattern, ' ', text))\n",
        "</pre>"
      ]
    },
    {
      "cell_type": "code",
      "execution_count": 125,
      "metadata": {
        "colab": {
          "base_uri": "https://localhost:8080/"
        },
        "id": "E-BNlqEnk5i0",
        "outputId": "87aa8794-b480-4c47-860c-f883ece2e0f3"
      },
      "outputs": [
        {
          "output_type": "stream",
          "name": "stdout",
          "text": [
            "johan123@gmail.com\n",
            "johan    gmail com\n"
          ]
        }
      ],
      "source": [
        "import re\n",
        "\n",
        "string = \"johan123@gmail.com\"\n",
        "pattern = r'[^A-Za-z]'\n",
        "\n",
        "cleaned_string = ''.join(re.sub(pattern,' ',string))\n",
        "\n",
        "print(string)\n",
        "print(cleaned_string)"
      ]
    },
    {
      "cell_type": "markdown",
      "metadata": {
        "id": "abBTGIFcIFra"
      },
      "source": [
        "- As expected, all characters outside of [A-Za-z] have been replaced with whitespace."
      ]
    },
    {
      "cell_type": "code",
      "execution_count": 126,
      "metadata": {
        "colab": {
          "base_uri": "https://localhost:8080/"
        },
        "id": "fMLyqKkWk5tW",
        "outputId": "b319b78c-e27a-4ecc-9a1a-83064e7feabc"
      },
      "outputs": [
        {
          "output_type": "stream",
          "name": "stdout",
          "text": [
            "OrderNumber: 12345, TotalAmount: $67.89\n",
            "OrderNumber         TotalAmount        \n"
          ]
        }
      ],
      "source": [
        "import re\n",
        "\n",
        "string = \"OrderNumber: 12345, TotalAmount: $67.89\"\n",
        "pattern = r'[^A-Za-z]'\n",
        "\n",
        "cleaned_string = ''.join(re.sub(pattern,' ',string))\n",
        "\n",
        "print(string)\n",
        "print(cleaned_string)"
      ]
    },
    {
      "cell_type": "markdown",
      "metadata": {
        "id": "uyWP8LQXIaHQ"
      },
      "source": [
        "- As expected, all characters outside of [A-Za-z] have been replaced with whitespace.\n",
        "- Additionally, this is another way to retrieve the template, which was discussed in one of the previous examples."
      ]
    },
    {
      "cell_type": "code",
      "execution_count": 127,
      "metadata": {
        "colab": {
          "base_uri": "https://localhost:8080/"
        },
        "id": "8xnxt-L4NWmL",
        "outputId": "cd0a72bc-58c6-43a4-e9a4-d512fd2527ce"
      },
      "outputs": [
        {
          "output_type": "stream",
          "name": "stdout",
          "text": [
            "Having heard so much about the 1990s Cracker series without seeing any of them, I looked forward to this eagerly. Surely the combination of Jimmie McGovern and Robbie Coltrane could not go wrong. How wrong I was! <br /><br />The polemics, backed by frequent, repetitive and violent flashbacks, were overpowering. The production tried to be super-modern, but the flashing boxes and even the childish font irritated. Robbie Coltrane sleep-walked through the two hours, coming up with unexplained and unlikely \"insights\", and the police were portrayed as one-dimensional bumbling idiots. As a result, the tension never built up and the next-to-final scene (no details for fear of spoilers) was as laughably bad a piece of TV drama as I have seen for a long time.<br /><br />No, I don't want to see any more of these, but I will go back to the DVDs of the 1990s series to see if they match their reputation.\n",
            "Having heard so much about the     s Cracker series without seeing any of them  I looked forward to this eagerly  Surely the combination of Jimmie McGovern and Robbie Coltrane could not go wrong  How wrong I was   br    br   The polemics  backed by frequent  repetitive and violent flashbacks  were overpowering  The production tried to be super modern  but the flashing boxes and even the childish font irritated  Robbie Coltrane sleep walked through the two hours  coming up with unexplained and unlikely  insights   and the police were portrayed as one dimensional bumbling idiots  As a result  the tension never built up and the next to final scene  no details for fear of spoilers  was as laughably bad a piece of TV drama as I have seen for a long time  br    br   No  I don t want to see any more of these  but I will go back to the DVDs of the     s series to see if they match their reputation \n"
          ]
        }
      ],
      "source": [
        "import re\n",
        "\n",
        "review = data['review'][7]\n",
        "pattern = r'[^A-Za-z]'\n",
        "\n",
        "cleaned_review = ''.join(re.sub(pattern,' ',review))\n",
        "\n",
        "print(review)\n",
        "print(cleaned_review)"
      ]
    },
    {
      "cell_type": "markdown",
      "metadata": {
        "id": "jI5xp0ojIt5h"
      },
      "source": [
        "- As expected the strings '1900' and '1990' has been replaced with a whitespace."
      ]
    },
    {
      "cell_type": "markdown",
      "metadata": {
        "id": "1weSAtLBGNIq"
      },
      "source": [
        "<h2>6. Pattern: []+</h2>\n",
        "\n",
        "- The + character is used to indicate that the preceding element must occur one or more times.\n",
        "- Any pattern mentioned before the + character will be matched as long as it appears at least once.\n",
        "\n",
        "**Use Case**: Validating hexadecimal color codes.\n",
        "\n",
        "**Description**: The pattern `[a-fA-F0-9]+` matches one or more characters in the range 'a' to 'f' (lowercase) or 'A' to 'F' (uppercase) or 0-9. It can be used to extract or validate parts of hexadecimal color codes.\n",
        "\n",
        "```\n",
        "pattern = r'[a-fA-F]+'\n",
        "# Finding the specified pattern and replacing non-hexadecimal characters with a blank string\n",
        "new_text = ''.join(re.sub(pattern, ' ', text))\n",
        "```\n"
      ]
    },
    {
      "cell_type": "code",
      "execution_count": 128,
      "metadata": {
        "colab": {
          "base_uri": "https://localhost:8080/"
        },
        "id": "VZ2dGJKflL4y",
        "outputId": "ed159c8c-ea52-4c9e-ec50-53c6a2713d26"
      },
      "outputs": [
        {
          "output_type": "stream",
          "name": "stdout",
          "text": [
            "#ff0000 #6a5acd\n",
            "#  # \n"
          ]
        }
      ],
      "source": [
        "import re\n",
        "\n",
        "string = \"#ff0000 #6a5acd\"\n",
        "pattern = r'[a-fA-F0-9]+'\n",
        "\n",
        "cleaned_string = ''.join(re.sub(pattern,' ',string))\n",
        "\n",
        "print(string)\n",
        "print(cleaned_string)"
      ]
    },
    {
      "cell_type": "markdown",
      "metadata": {
        "id": "od5KReAKJ3rc"
      },
      "source": [
        "- ##ff0000 and #6a5acd represents colors in hexadecimal format.\n",
        "\n",
        "- The entire string 'ff0000' is matched as a single pattern since + matches one or more characters specified.\n",
        "\n",
        "- Also, the string '6a5acd' is matched as a single pattern.\n",
        "\n",
        "- Hence, the string 'ff0000' and '6a5acd' will be replaced with a whitespace."
      ]
    },
    {
      "cell_type": "code",
      "execution_count": 129,
      "metadata": {
        "colab": {
          "base_uri": "https://localhost:8080/"
        },
        "id": "9G2JPQTs7p6d",
        "outputId": "71afad43-3a96-4fbf-bb61-b31500073847"
      },
      "outputs": [
        {
          "output_type": "stream",
          "name": "stdout",
          "text": [
            "5\n"
          ]
        }
      ],
      "source": [
        "print(len(cleaned_string))"
      ]
    },
    {
      "cell_type": "markdown",
      "metadata": {
        "id": "5TYR45bv7rzR"
      },
      "source": [
        "- The character '#' is retained and a whitespace between '#ff0000' and '#6a5acd' is retained since it doesn't match with the given pattern\n",
        "\n",
        "- Hence, the length of `cleaned_string` is 5."
      ]
    },
    {
      "cell_type": "code",
      "execution_count": 130,
      "metadata": {
        "colab": {
          "base_uri": "https://localhost:8080/"
        },
        "id": "sDHda8ZoNb73",
        "outputId": "8d2fce97-b38b-4867-bd45-f91da7538b67"
      },
      "outputs": [
        {
          "output_type": "stream",
          "name": "stdout",
          "text": [
            "Given the chance to write, direct and star in my own movie, I would probably choose something about robot women with guns. Anthony Hopkins, however, decided to make possibly the strangest movie anyone has ever seen. \"Slipstream\" is a movie that is so strange that even David Lynch would probably look at the person next to him and say 'What's going on?'.<br /><br />This is a movie where, in one scene, a man crosses the road towards a yellow car facing to the right which suddenly changes into a pink car facing to the left. This is a movie where two characters have a conversation interspersed with shots of random people laughing and insects climbing up walls. This is a movie where a man starts talking about \"Invasion Of The Bodysnatchers\" only for the actor of that particular movie to suddenly show up as himself (and then disappear into thin air). <br /><br />This is a movie that decides to throw the need for a coherent plot straight out of the window and use fifteen different edits whilst doing so, as well as changing from black and white to colour for seemingly no reason at all.<br /><br />I must, however, commend Mr Hopkins for his choice of actors in this movie (some of whom portray multiple characters). All of those involved throw themselves into their roles, even if they probably have no idea what they're actually doing. My favourite here was Christian Slater's thug in a hat who was impressively menacing whilst babbling nonsense and singing the American national anthem. <br /><br />Anthony Hopkins has been quoted saying that he did this movie as a joke and that's possibly the best way to sum up \"Slipstream\". It's a joke on the audience. You'll watch it from beginning to end, trying to understand what is going on and hoping that the answer will come, only to discover that the answer never actually does. What the punchline to this particular joke is, only Anthony Hopkins will ever know.<br /><br />I mentioned David Lynch earlier and I'm a big fan of that particular director. I would guess that Anthony Hopkins shares my love for the likes of \"Twin Peaks\", \"Blue Velvet\" and \"Lost Highway\". However, \"Slipstream\" isn't as satisfying as any of the movies of Lynch despite imitating many of his techniques (although I was surprised to discover that nobody talks backwards in \"Slipstream\"). It's far too chaotic and random - as another reviewer here pointed out, it's the movie version of Alzheimer's disease. No doubt there are a small number out there who are able to watch this and draw something from it. Unfortunately for the rest of us, \"Slipstream\" quickly becomes an annoying and confusing experience that was only made due to Hopkins' involvement.<br /><br />Watch at your own risk.\n",
            "Giv n th   h n  to writ ,  ir t  n  st r in my own movi , I woul  pro ly  hoos  som thing  out ro ot wom n with guns.  nthony Hopkins, how v r,  i  to m k  possi ly th  str ng st movi   nyon  h s  v r s n. \"Slipstr m\" is   movi  th t is so str ng  th t  v n  vi  Lyn h woul  pro ly look  t th  p rson n xt to him  n  s y 'Wh t's going on?'.< r />< r />This is   movi  wh r , in on  s n ,   m n  ross s th  ro  tow r s   y llow  r  ing to th  right whi h su nly  h ng s into   pink  r  ing to th  l t. This is   movi  wh r  two  h r t rs h v     onv rs tion int rsp rs  with shots o  r n om p opl  l ughing  n  ins ts  lim ing up w lls. This is   movi  wh r    m n st rts t lking  out \"Inv sion O  Th   o ysn t h rs\" only  or th   tor o  th t p rti ul r movi  to su nly show up  s hims l  ( n  th n  is pp r into thin  ir). < r />< r />This is   movi  th t  i s to throw th  n   or    oh r nt plot str ight out o  th  win ow  n  us   i t n  i r nt  its whilst  oing so,  s w ll  s  h nging  rom  l k  n  whit  to  olour  or s mingly no r son  t  ll.< r />< r />I must, how v r,  omm n  Mr Hopkins  or his  hoi  o   tors in this movi  (som  o  whom portr y multipl   h r t rs).  ll o  thos  involv  throw th ms lv s into th ir rol s,  v n i  th y pro ly h v  no i  wh t th y'r   tu lly  oing. My  vourit  h r  w s  hristi n Sl t r's thug in   h t who w s impr ssiv ly m n ing whilst  ling nons ns   n  singing th   m ri n n tion l  nth m. < r />< r /> nthony Hopkins h s  n quot  s ying th t h   i  this movi   s   jok   n  th t's possi ly th   st w y to sum up \"Slipstr m\". It's   jok  on th   u i n . You'll w t h it  rom  ginning to  n , trying to un rst n  wh t is going on  n  hoping th t th   nsw r will  om , only to  is ov r th t th   nsw r n v r  tu lly  o s. Wh t th  pun hlin  to this p rti ul r jok  is, only  nthony Hopkins will  v r know.< r />< r />I m ntion   vi  Lyn h  rli r  n  I'm    ig  n o  th t p rti ul r  ir tor. I woul  gu ss th t  nthony Hopkins sh r s my lov   or th  lik s o  \"Twin P ks\", \" lu  V lv t\"  n  \"Lost Highw y\". How v r, \"Slipstr m\" isn't  s s tis ying  s  ny o  th  movi s o  Lyn h  spit  imit ting m ny o  his t hniqu s ( lthough I w s surpris  to  is ov r th t no o y t lks  kw r s in \"Slipstr m\"). It's  r too  h oti   n  r n om -  s  noth r r vi w r h r  point  out, it's th  movi  v rsion o   lzh im r's  is s . No  ou t th r   r    sm ll num r out th r  who  r   l  to w t h this  n   r w som thing  rom it. Un ortun t ly  or th  r st o  us, \"Slipstr m\" qui kly  om s  n  nnoying  n   on using  xp ri n  th t w s only m   u  to Hopkins' involv m nt.< r />< r />W t h  t your own risk.\n"
          ]
        }
      ],
      "source": [
        "import re\n",
        "\n",
        "review = data['review'][21]\n",
        "pattern = r'[a-fA-F0-9]+'\n",
        "\n",
        "cleaned_review = ''.join(re.sub(pattern,' ',review))\n",
        "\n",
        "print(review)\n",
        "print(cleaned_review)"
      ]
    },
    {
      "cell_type": "markdown",
      "metadata": {
        "id": "FJll6RKzKNze"
      },
      "source": [
        "- The above review doesn't contain any digits.\n",
        "- Hence, the characters in the range a-f and A-F has been replaced with a whitespace."
      ]
    },
    {
      "cell_type": "markdown",
      "metadata": {
        "id": "eTR6C-zLHBn4"
      },
      "source": [
        "- Until now, we have been cleaning individual reviews one by one. While this is helpful, it can be time-consuming for larger number of reviews.\n",
        "\n",
        "- To make our process faster and easier, we want to clean all reviews in the DataFrame at once instead of handling them individually.\n",
        "\n",
        "- By using the ***apply*** function in Pandas, we can quickly apply our cleaning function, ***remove_special_characters***, to every review in the DataFrame in one go.\n",
        "\n",
        "- We will define the ***remove_special_characters*** function to remove special characters from the text. Then, we will apply this function to the review column, ensuring all reviews are clean and ready for analysis."
      ]
    },
    {
      "cell_type": "code",
      "execution_count": 131,
      "metadata": {
        "id": "mGR2c6dCvT-Q"
      },
      "outputs": [],
      "source": [
        "# defining a function to remove special characters\n",
        "def remove_special_characters(text):\n",
        "    # Defining the regex pattern to match non-alphanumeric characters\n",
        "    pattern = '[^A-Za-z0-9]+'\n",
        "\n",
        "    # Finding the specified pattern and replacing non-alphanumeric characters with a blank string\n",
        "    new_text = ''.join(re.sub(pattern, ' ', text))\n",
        "\n",
        "    return new_text"
      ]
    },
    {
      "cell_type": "code",
      "execution_count": 132,
      "metadata": {
        "id": "RQv4x8npctFZ"
      },
      "outputs": [],
      "source": [
        "# Applying the function to remove special characters\n",
        "data['cleaned_text'] = data['review'].apply(remove_special_characters)"
      ]
    },
    {
      "cell_type": "code",
      "execution_count": 133,
      "metadata": {
        "colab": {
          "base_uri": "https://localhost:8080/",
          "height": 0
        },
        "id": "rCxMsKChvT79",
        "outputId": "f6eb88fc-375d-4815-d8b8-9d7e22c852ce"
      },
      "outputs": [
        {
          "output_type": "execute_result",
          "data": {
            "text/plain": [
              "                                                                                                                                                                                                                                                                                                                                                                                                                                                                                                                                                                                                                                                                                                                                                                                                                                                                                                                                                                                                                                                                                                                                                                                                                                                                                                                                                                                                                                                                                                                                                                                                                                                                                                                                                                                                                                                                                         review  \\\n",
              "0                                                                                                                                                                                                                                                                                                                                                                                                                                                                                                                                                                                                                                                                                                                                                                                                                                                                                                                                                                                                                                                                          Okay, I know this does'nt project India in a good light. But the overall theme of the movie is not India, it's Shakti. The power of a warlord, and the power of a mother. The relationship between Nandini and her husband and son swallow you up in their warmth. Then things go terribly wrong. The interaction between Nandini and her father in law - the power of their dysfunctional relationship - and the lives changed by it are the strengths of this movie. Shah Rukh Khan's performance seems to be a mere cameo compared to the believable desperation of Karisma Kapoor. It is easy to get caught up in the love, violence and redemption of lives in this film, and find yourself heaving a sigh of relief and sadness at the climax. The musical interludes are strengths, believable and well done.   \n",
              "1  Despite John Travolta's statements in interviews that this was his favorite role of his career, \"Be Cool\" proves to be a disappointing sequel to 1995's witty and clever \"Get Shorty.\"<br /><br />Travolta delivers a pleasant enough performance in this mildly entertaining film, but ultimately the movie falls flat due to an underdeveloped plot, unlikeable characters, and a surprising lack of chemistry between leads Travolta and Uma Thurman. Although there are some laughs, this unfunny dialog example (which appeared frequently in the trailers) kind of says it all: Thurman: Do you dance? Travolta: Hey, I'm from Brooklyn.<br /><br />The film suggests that everyone in the entertainment business is a gangster or aspires to be one, likening it to organized crime. In \"Get Shorty,\" the premise of a gangster \"going legitimate\" by getting into movies was a clever fish-out-of water idea, but in \"Be Cool,\" it seems the biz has entirely gone crooked since then.<br /><br />The film is interestingly casted and the absolute highlight is a \"monolgue\" delivered by The Rock, whose character is an aspiring actor as well as a goon, where he reenacts a scene between Gabrielle Union and Kirsten Dunst from \"Bring It On.\" Vince Vaughan's character thinks he's black and he's often seen dressed as a pimp-- this was quite funny in the first scene that introduces him and gets tired and embarrassing almost immediately afterward.<br /><br />Overall, \"Be Cool\" may be worth a rental for John Travolta die-hards (of which I am one), but you may want to keep your finger close to the fast forward button to get through it without feeling that you wasted too much time. Fans of \"Get Shorty\" may actually wish to avoid this, as the sequel is devoid of most things that made that one a winner. I rate this movie an admittedly harsh 4/10.   \n",
              "2                                                                                                                                                                                                                                                                                                                                                                                                                                                                                                                                                                                                                                                                                 I am a kung fu fan, but not a Woo fan. I have no interest in gangster movies filled with over-the-top gun-play. Now, martial arts; *that's* beautiful! And John Woo surprised me here by producing a highly entertaining kung fu movie, which almost has *too much* fighting, if such a thing is possible! This is good stuff.<br /><br />Many of the fight scenes are very good (and some of them are less good), and the main characters are amusing and likable. The bad guys are a bit too unbelievably evil, but entertaining none the less. You gotta see the Sleeping Wizard!! He can only fight when he's asleep - it's hysterical!<br /><br />Upon repeated viewings, however, Last Hurrah For Chivalry can tend to get a little boring and long-winded, also especially because many of the fight scenes are actually not that good. Hence, I rate it \"only\" a 7 out of 10. But it really is almost an \"8\".<br /><br />All in all one of the better kung fu movies, made smack-dab in the heart of kung fu cinema's prime. All the really good kung fu movies are from the mid- to late 1970ies, with some notable exceptions from the late '60ies and early '70ies (and early '80ies, to be fair).   \n",
              "3                                                                                                                                                                                                                                                                                                                                                                                                                                                                                                                                                                                                                                                                                                                                                                                                                                                                                                                                                                                                                                                                                                                                             He seems to be a control freak. I have heard him comment on \"losing control of the show\" and tell another guest who brought live animals that he had one rule-\"no snakes.\" He needs to hire a comedy writer because his jokes are lame. The only reason I watch him is because he some some great guests and bands. <br /><br />I watched the Craig Ferguson show for a while but his show is even worse. He likes to bull sh** to burn time.I don't think either man has much of a future in late night talk shows.<br /><br />Daily also has the annoying habit of sticking his tongue out to lick his lips. He must do this at least 10 times a show. I do like the Joe Firstman band. Carson Daily needs to lighten up before it is too late.   \n",
              "\n",
              "                                                                                                                                                                                                                                                                                                                                                                                                                                                                                                                                                                                                                                                                                                                                                                                                                                                                                                                                                                                                                                                                                                                                                                                                                                                                                                                                                                                                                                                                                                                                                                                                                                                                                                                                                                                                           cleaned_text  \n",
              "0                                                                                                                                                                                                                                                                                                                                                                                                                                                                                                                                                                                                                                                                                                                                                                                                                                                                                                                                                                                                                    Okay I know this does nt project India in a good light But the overall theme of the movie is not India it s Shakti The power of a warlord and the power of a mother The relationship between Nandini and her husband and son swallow you up in their warmth Then things go terribly wrong The interaction between Nandini and her father in law the power of their dysfunctional relationship and the lives changed by it are the strengths of this movie Shah Rukh Khan s performance seems to be a mere cameo compared to the believable desperation of Karisma Kapoor It is easy to get caught up in the love violence and redemption of lives in this film and find yourself heaving a sigh of relief and sadness at the climax The musical interludes are strengths believable and well done   \n",
              "1  Despite John Travolta s statements in interviews that this was his favorite role of his career Be Cool proves to be a disappointing sequel to 1995 s witty and clever Get Shorty br br Travolta delivers a pleasant enough performance in this mildly entertaining film but ultimately the movie falls flat due to an underdeveloped plot unlikeable characters and a surprising lack of chemistry between leads Travolta and Uma Thurman Although there are some laughs this unfunny dialog example which appeared frequently in the trailers kind of says it all Thurman Do you dance Travolta Hey I m from Brooklyn br br The film suggests that everyone in the entertainment business is a gangster or aspires to be one likening it to organized crime In Get Shorty the premise of a gangster going legitimate by getting into movies was a clever fish out of water idea but in Be Cool it seems the biz has entirely gone crooked since then br br The film is interestingly casted and the absolute highlight is a monolgue delivered by The Rock whose character is an aspiring actor as well as a goon where he reenacts a scene between Gabrielle Union and Kirsten Dunst from Bring It On Vince Vaughan s character thinks he s black and he s often seen dressed as a pimp this was quite funny in the first scene that introduces him and gets tired and embarrassing almost immediately afterward br br Overall Be Cool may be worth a rental for John Travolta die hards of which I am one but you may want to keep your finger close to the fast forward button to get through it without feeling that you wasted too much time Fans of Get Shorty may actually wish to avoid this as the sequel is devoid of most things that made that one a winner I rate this movie an admittedly harsh 4 10   \n",
              "2                                                                                                                                                                                                                                                                                                                                                                                                                                                                                                                                                                                                                                                                      I am a kung fu fan but not a Woo fan I have no interest in gangster movies filled with over the top gun play Now martial arts that s beautiful And John Woo surprised me here by producing a highly entertaining kung fu movie which almost has too much fighting if such a thing is possible This is good stuff br br Many of the fight scenes are very good and some of them are less good and the main characters are amusing and likable The bad guys are a bit too unbelievably evil but entertaining none the less You gotta see the Sleeping Wizard He can only fight when he s asleep it s hysterical br br Upon repeated viewings however Last Hurrah For Chivalry can tend to get a little boring and long winded also especially because many of the fight scenes are actually not that good Hence I rate it only a 7 out of 10 But it really is almost an 8 br br All in all one of the better kung fu movies made smack dab in the heart of kung fu cinema s prime All the really good kung fu movies are from the mid to late 1970ies with some notable exceptions from the late 60ies and early 70ies and early 80ies to be fair   \n",
              "3                                                                                                                                                                                                                                                                                                                                                                                                                                                                                                                                                                                                                                                                                                                                                                                                                                                                                                                                                                                                                                                                                               He seems to be a control freak I have heard him comment on losing control of the show and tell another guest who brought live animals that he had one rule no snakes He needs to hire a comedy writer because his jokes are lame The only reason I watch him is because he some some great guests and bands br br I watched the Craig Ferguson show for a while but his show is even worse He likes to bull sh to burn time I don t think either man has much of a future in late night talk shows br br Daily also has the annoying habit of sticking his tongue out to lick his lips He must do this at least 10 times a show I do like the Joe Firstman band Carson Daily needs to lighten up before it is too late   "
            ],
            "text/html": [
              "\n",
              "  <div id=\"df-a1a39456-4e01-4a50-bb93-b9e1a07bc981\" class=\"colab-df-container\">\n",
              "    <div>\n",
              "<style scoped>\n",
              "    .dataframe tbody tr th:only-of-type {\n",
              "        vertical-align: middle;\n",
              "    }\n",
              "\n",
              "    .dataframe tbody tr th {\n",
              "        vertical-align: top;\n",
              "    }\n",
              "\n",
              "    .dataframe thead th {\n",
              "        text-align: right;\n",
              "    }\n",
              "</style>\n",
              "<table border=\"1\" class=\"dataframe\">\n",
              "  <thead>\n",
              "    <tr style=\"text-align: right;\">\n",
              "      <th></th>\n",
              "      <th>review</th>\n",
              "      <th>cleaned_text</th>\n",
              "    </tr>\n",
              "  </thead>\n",
              "  <tbody>\n",
              "    <tr>\n",
              "      <th>0</th>\n",
              "      <td>Okay, I know this does'nt project India in a good light. But the overall theme of the movie is not India, it's Shakti. The power of a warlord, and the power of a mother. The relationship between Nandini and her husband and son swallow you up in their warmth. Then things go terribly wrong. The interaction between Nandini and her father in law - the power of their dysfunctional relationship - and the lives changed by it are the strengths of this movie. Shah Rukh Khan's performance seems to be a mere cameo compared to the believable desperation of Karisma Kapoor. It is easy to get caught up in the love, violence and redemption of lives in this film, and find yourself heaving a sigh of relief and sadness at the climax. The musical interludes are strengths, believable and well done.</td>\n",
              "      <td>Okay I know this does nt project India in a good light But the overall theme of the movie is not India it s Shakti The power of a warlord and the power of a mother The relationship between Nandini and her husband and son swallow you up in their warmth Then things go terribly wrong The interaction between Nandini and her father in law the power of their dysfunctional relationship and the lives changed by it are the strengths of this movie Shah Rukh Khan s performance seems to be a mere cameo compared to the believable desperation of Karisma Kapoor It is easy to get caught up in the love violence and redemption of lives in this film and find yourself heaving a sigh of relief and sadness at the climax The musical interludes are strengths believable and well done</td>\n",
              "    </tr>\n",
              "    <tr>\n",
              "      <th>1</th>\n",
              "      <td>Despite John Travolta's statements in interviews that this was his favorite role of his career, \"Be Cool\" proves to be a disappointing sequel to 1995's witty and clever \"Get Shorty.\"&lt;br /&gt;&lt;br /&gt;Travolta delivers a pleasant enough performance in this mildly entertaining film, but ultimately the movie falls flat due to an underdeveloped plot, unlikeable characters, and a surprising lack of chemistry between leads Travolta and Uma Thurman. Although there are some laughs, this unfunny dialog example (which appeared frequently in the trailers) kind of says it all: Thurman: Do you dance? Travolta: Hey, I'm from Brooklyn.&lt;br /&gt;&lt;br /&gt;The film suggests that everyone in the entertainment business is a gangster or aspires to be one, likening it to organized crime. In \"Get Shorty,\" the premise of a gangster \"going legitimate\" by getting into movies was a clever fish-out-of water idea, but in \"Be Cool,\" it seems the biz has entirely gone crooked since then.&lt;br /&gt;&lt;br /&gt;The film is interestingly casted and the absolute highlight is a \"monolgue\" delivered by The Rock, whose character is an aspiring actor as well as a goon, where he reenacts a scene between Gabrielle Union and Kirsten Dunst from \"Bring It On.\" Vince Vaughan's character thinks he's black and he's often seen dressed as a pimp-- this was quite funny in the first scene that introduces him and gets tired and embarrassing almost immediately afterward.&lt;br /&gt;&lt;br /&gt;Overall, \"Be Cool\" may be worth a rental for John Travolta die-hards (of which I am one), but you may want to keep your finger close to the fast forward button to get through it without feeling that you wasted too much time. Fans of \"Get Shorty\" may actually wish to avoid this, as the sequel is devoid of most things that made that one a winner. I rate this movie an admittedly harsh 4/10.</td>\n",
              "      <td>Despite John Travolta s statements in interviews that this was his favorite role of his career Be Cool proves to be a disappointing sequel to 1995 s witty and clever Get Shorty br br Travolta delivers a pleasant enough performance in this mildly entertaining film but ultimately the movie falls flat due to an underdeveloped plot unlikeable characters and a surprising lack of chemistry between leads Travolta and Uma Thurman Although there are some laughs this unfunny dialog example which appeared frequently in the trailers kind of says it all Thurman Do you dance Travolta Hey I m from Brooklyn br br The film suggests that everyone in the entertainment business is a gangster or aspires to be one likening it to organized crime In Get Shorty the premise of a gangster going legitimate by getting into movies was a clever fish out of water idea but in Be Cool it seems the biz has entirely gone crooked since then br br The film is interestingly casted and the absolute highlight is a monolgue delivered by The Rock whose character is an aspiring actor as well as a goon where he reenacts a scene between Gabrielle Union and Kirsten Dunst from Bring It On Vince Vaughan s character thinks he s black and he s often seen dressed as a pimp this was quite funny in the first scene that introduces him and gets tired and embarrassing almost immediately afterward br br Overall Be Cool may be worth a rental for John Travolta die hards of which I am one but you may want to keep your finger close to the fast forward button to get through it without feeling that you wasted too much time Fans of Get Shorty may actually wish to avoid this as the sequel is devoid of most things that made that one a winner I rate this movie an admittedly harsh 4 10</td>\n",
              "    </tr>\n",
              "    <tr>\n",
              "      <th>2</th>\n",
              "      <td>I am a kung fu fan, but not a Woo fan. I have no interest in gangster movies filled with over-the-top gun-play. Now, martial arts; *that's* beautiful! And John Woo surprised me here by producing a highly entertaining kung fu movie, which almost has *too much* fighting, if such a thing is possible! This is good stuff.&lt;br /&gt;&lt;br /&gt;Many of the fight scenes are very good (and some of them are less good), and the main characters are amusing and likable. The bad guys are a bit too unbelievably evil, but entertaining none the less. You gotta see the Sleeping Wizard!! He can only fight when he's asleep - it's hysterical!&lt;br /&gt;&lt;br /&gt;Upon repeated viewings, however, Last Hurrah For Chivalry can tend to get a little boring and long-winded, also especially because many of the fight scenes are actually not that good. Hence, I rate it \"only\" a 7 out of 10. But it really is almost an \"8\".&lt;br /&gt;&lt;br /&gt;All in all one of the better kung fu movies, made smack-dab in the heart of kung fu cinema's prime. All the really good kung fu movies are from the mid- to late 1970ies, with some notable exceptions from the late '60ies and early '70ies (and early '80ies, to be fair).</td>\n",
              "      <td>I am a kung fu fan but not a Woo fan I have no interest in gangster movies filled with over the top gun play Now martial arts that s beautiful And John Woo surprised me here by producing a highly entertaining kung fu movie which almost has too much fighting if such a thing is possible This is good stuff br br Many of the fight scenes are very good and some of them are less good and the main characters are amusing and likable The bad guys are a bit too unbelievably evil but entertaining none the less You gotta see the Sleeping Wizard He can only fight when he s asleep it s hysterical br br Upon repeated viewings however Last Hurrah For Chivalry can tend to get a little boring and long winded also especially because many of the fight scenes are actually not that good Hence I rate it only a 7 out of 10 But it really is almost an 8 br br All in all one of the better kung fu movies made smack dab in the heart of kung fu cinema s prime All the really good kung fu movies are from the mid to late 1970ies with some notable exceptions from the late 60ies and early 70ies and early 80ies to be fair</td>\n",
              "    </tr>\n",
              "    <tr>\n",
              "      <th>3</th>\n",
              "      <td>He seems to be a control freak. I have heard him comment on \"losing control of the show\" and tell another guest who brought live animals that he had one rule-\"no snakes.\" He needs to hire a comedy writer because his jokes are lame. The only reason I watch him is because he some some great guests and bands. &lt;br /&gt;&lt;br /&gt;I watched the Craig Ferguson show for a while but his show is even worse. He likes to bull sh** to burn time.I don't think either man has much of a future in late night talk shows.&lt;br /&gt;&lt;br /&gt;Daily also has the annoying habit of sticking his tongue out to lick his lips. He must do this at least 10 times a show. I do like the Joe Firstman band. Carson Daily needs to lighten up before it is too late.</td>\n",
              "      <td>He seems to be a control freak I have heard him comment on losing control of the show and tell another guest who brought live animals that he had one rule no snakes He needs to hire a comedy writer because his jokes are lame The only reason I watch him is because he some some great guests and bands br br I watched the Craig Ferguson show for a while but his show is even worse He likes to bull sh to burn time I don t think either man has much of a future in late night talk shows br br Daily also has the annoying habit of sticking his tongue out to lick his lips He must do this at least 10 times a show I do like the Joe Firstman band Carson Daily needs to lighten up before it is too late</td>\n",
              "    </tr>\n",
              "  </tbody>\n",
              "</table>\n",
              "</div>\n",
              "    <div class=\"colab-df-buttons\">\n",
              "\n",
              "  <div class=\"colab-df-container\">\n",
              "    <button class=\"colab-df-convert\" onclick=\"convertToInteractive('df-a1a39456-4e01-4a50-bb93-b9e1a07bc981')\"\n",
              "            title=\"Convert this dataframe to an interactive table.\"\n",
              "            style=\"display:none;\">\n",
              "\n",
              "  <svg xmlns=\"http://www.w3.org/2000/svg\" height=\"24px\" viewBox=\"0 -960 960 960\">\n",
              "    <path d=\"M120-120v-720h720v720H120Zm60-500h600v-160H180v160Zm220 220h160v-160H400v160Zm0 220h160v-160H400v160ZM180-400h160v-160H180v160Zm440 0h160v-160H620v160ZM180-180h160v-160H180v160Zm440 0h160v-160H620v160Z\"/>\n",
              "  </svg>\n",
              "    </button>\n",
              "\n",
              "  <style>\n",
              "    .colab-df-container {\n",
              "      display:flex;\n",
              "      gap: 12px;\n",
              "    }\n",
              "\n",
              "    .colab-df-convert {\n",
              "      background-color: #E8F0FE;\n",
              "      border: none;\n",
              "      border-radius: 50%;\n",
              "      cursor: pointer;\n",
              "      display: none;\n",
              "      fill: #1967D2;\n",
              "      height: 32px;\n",
              "      padding: 0 0 0 0;\n",
              "      width: 32px;\n",
              "    }\n",
              "\n",
              "    .colab-df-convert:hover {\n",
              "      background-color: #E2EBFA;\n",
              "      box-shadow: 0px 1px 2px rgba(60, 64, 67, 0.3), 0px 1px 3px 1px rgba(60, 64, 67, 0.15);\n",
              "      fill: #174EA6;\n",
              "    }\n",
              "\n",
              "    .colab-df-buttons div {\n",
              "      margin-bottom: 4px;\n",
              "    }\n",
              "\n",
              "    [theme=dark] .colab-df-convert {\n",
              "      background-color: #3B4455;\n",
              "      fill: #D2E3FC;\n",
              "    }\n",
              "\n",
              "    [theme=dark] .colab-df-convert:hover {\n",
              "      background-color: #434B5C;\n",
              "      box-shadow: 0px 1px 3px 1px rgba(0, 0, 0, 0.15);\n",
              "      filter: drop-shadow(0px 1px 2px rgba(0, 0, 0, 0.3));\n",
              "      fill: #FFFFFF;\n",
              "    }\n",
              "  </style>\n",
              "\n",
              "    <script>\n",
              "      const buttonEl =\n",
              "        document.querySelector('#df-a1a39456-4e01-4a50-bb93-b9e1a07bc981 button.colab-df-convert');\n",
              "      buttonEl.style.display =\n",
              "        google.colab.kernel.accessAllowed ? 'block' : 'none';\n",
              "\n",
              "      async function convertToInteractive(key) {\n",
              "        const element = document.querySelector('#df-a1a39456-4e01-4a50-bb93-b9e1a07bc981');\n",
              "        const dataTable =\n",
              "          await google.colab.kernel.invokeFunction('convertToInteractive',\n",
              "                                                    [key], {});\n",
              "        if (!dataTable) return;\n",
              "\n",
              "        const docLinkHtml = 'Like what you see? Visit the ' +\n",
              "          '<a target=\"_blank\" href=https://colab.research.google.com/notebooks/data_table.ipynb>data table notebook</a>'\n",
              "          + ' to learn more about interactive tables.';\n",
              "        element.innerHTML = '';\n",
              "        dataTable['output_type'] = 'display_data';\n",
              "        await google.colab.output.renderOutput(dataTable, element);\n",
              "        const docLink = document.createElement('div');\n",
              "        docLink.innerHTML = docLinkHtml;\n",
              "        element.appendChild(docLink);\n",
              "      }\n",
              "    </script>\n",
              "  </div>\n",
              "\n",
              "\n",
              "<div id=\"df-c8cad27c-c81f-4ce0-94a5-1b83e040e1a1\">\n",
              "  <button class=\"colab-df-quickchart\" onclick=\"quickchart('df-c8cad27c-c81f-4ce0-94a5-1b83e040e1a1')\"\n",
              "            title=\"Suggest charts\"\n",
              "            style=\"display:none;\">\n",
              "\n",
              "<svg xmlns=\"http://www.w3.org/2000/svg\" height=\"24px\"viewBox=\"0 0 24 24\"\n",
              "     width=\"24px\">\n",
              "    <g>\n",
              "        <path d=\"M19 3H5c-1.1 0-2 .9-2 2v14c0 1.1.9 2 2 2h14c1.1 0 2-.9 2-2V5c0-1.1-.9-2-2-2zM9 17H7v-7h2v7zm4 0h-2V7h2v10zm4 0h-2v-4h2v4z\"/>\n",
              "    </g>\n",
              "</svg>\n",
              "  </button>\n",
              "\n",
              "<style>\n",
              "  .colab-df-quickchart {\n",
              "      --bg-color: #E8F0FE;\n",
              "      --fill-color: #1967D2;\n",
              "      --hover-bg-color: #E2EBFA;\n",
              "      --hover-fill-color: #174EA6;\n",
              "      --disabled-fill-color: #AAA;\n",
              "      --disabled-bg-color: #DDD;\n",
              "  }\n",
              "\n",
              "  [theme=dark] .colab-df-quickchart {\n",
              "      --bg-color: #3B4455;\n",
              "      --fill-color: #D2E3FC;\n",
              "      --hover-bg-color: #434B5C;\n",
              "      --hover-fill-color: #FFFFFF;\n",
              "      --disabled-bg-color: #3B4455;\n",
              "      --disabled-fill-color: #666;\n",
              "  }\n",
              "\n",
              "  .colab-df-quickchart {\n",
              "    background-color: var(--bg-color);\n",
              "    border: none;\n",
              "    border-radius: 50%;\n",
              "    cursor: pointer;\n",
              "    display: none;\n",
              "    fill: var(--fill-color);\n",
              "    height: 32px;\n",
              "    padding: 0;\n",
              "    width: 32px;\n",
              "  }\n",
              "\n",
              "  .colab-df-quickchart:hover {\n",
              "    background-color: var(--hover-bg-color);\n",
              "    box-shadow: 0 1px 2px rgba(60, 64, 67, 0.3), 0 1px 3px 1px rgba(60, 64, 67, 0.15);\n",
              "    fill: var(--button-hover-fill-color);\n",
              "  }\n",
              "\n",
              "  .colab-df-quickchart-complete:disabled,\n",
              "  .colab-df-quickchart-complete:disabled:hover {\n",
              "    background-color: var(--disabled-bg-color);\n",
              "    fill: var(--disabled-fill-color);\n",
              "    box-shadow: none;\n",
              "  }\n",
              "\n",
              "  .colab-df-spinner {\n",
              "    border: 2px solid var(--fill-color);\n",
              "    border-color: transparent;\n",
              "    border-bottom-color: var(--fill-color);\n",
              "    animation:\n",
              "      spin 1s steps(1) infinite;\n",
              "  }\n",
              "\n",
              "  @keyframes spin {\n",
              "    0% {\n",
              "      border-color: transparent;\n",
              "      border-bottom-color: var(--fill-color);\n",
              "      border-left-color: var(--fill-color);\n",
              "    }\n",
              "    20% {\n",
              "      border-color: transparent;\n",
              "      border-left-color: var(--fill-color);\n",
              "      border-top-color: var(--fill-color);\n",
              "    }\n",
              "    30% {\n",
              "      border-color: transparent;\n",
              "      border-left-color: var(--fill-color);\n",
              "      border-top-color: var(--fill-color);\n",
              "      border-right-color: var(--fill-color);\n",
              "    }\n",
              "    40% {\n",
              "      border-color: transparent;\n",
              "      border-right-color: var(--fill-color);\n",
              "      border-top-color: var(--fill-color);\n",
              "    }\n",
              "    60% {\n",
              "      border-color: transparent;\n",
              "      border-right-color: var(--fill-color);\n",
              "    }\n",
              "    80% {\n",
              "      border-color: transparent;\n",
              "      border-right-color: var(--fill-color);\n",
              "      border-bottom-color: var(--fill-color);\n",
              "    }\n",
              "    90% {\n",
              "      border-color: transparent;\n",
              "      border-bottom-color: var(--fill-color);\n",
              "    }\n",
              "  }\n",
              "</style>\n",
              "\n",
              "  <script>\n",
              "    async function quickchart(key) {\n",
              "      const quickchartButtonEl =\n",
              "        document.querySelector('#' + key + ' button');\n",
              "      quickchartButtonEl.disabled = true;  // To prevent multiple clicks.\n",
              "      quickchartButtonEl.classList.add('colab-df-spinner');\n",
              "      try {\n",
              "        const charts = await google.colab.kernel.invokeFunction(\n",
              "            'suggestCharts', [key], {});\n",
              "      } catch (error) {\n",
              "        console.error('Error during call to suggestCharts:', error);\n",
              "      }\n",
              "      quickchartButtonEl.classList.remove('colab-df-spinner');\n",
              "      quickchartButtonEl.classList.add('colab-df-quickchart-complete');\n",
              "    }\n",
              "    (() => {\n",
              "      let quickchartButtonEl =\n",
              "        document.querySelector('#df-c8cad27c-c81f-4ce0-94a5-1b83e040e1a1 button');\n",
              "      quickchartButtonEl.style.display =\n",
              "        google.colab.kernel.accessAllowed ? 'block' : 'none';\n",
              "    })();\n",
              "  </script>\n",
              "</div>\n",
              "\n",
              "    </div>\n",
              "  </div>\n"
            ],
            "application/vnd.google.colaboratory.intrinsic+json": {
              "type": "dataframe",
              "summary": "{\n  \"name\": \"data\",\n  \"rows\": 4,\n  \"fields\": [\n    {\n      \"column\": \"review\",\n      \"properties\": {\n        \"dtype\": \"string\",\n        \"num_unique_values\": 4,\n        \"samples\": [\n          \"Despite John Travolta's statements in interviews that this was his favorite role of his career, \\\"Be Cool\\\" proves to be a disappointing sequel to 1995's witty and clever \\\"Get Shorty.\\\"<br /><br />Travolta delivers a pleasant enough performance in this mildly entertaining film, but ultimately the movie falls flat due to an underdeveloped plot, unlikeable characters, and a surprising lack of chemistry between leads Travolta and Uma Thurman. Although there are some laughs, this unfunny dialog example (which appeared frequently in the trailers) kind of says it all: Thurman: Do you dance? Travolta: Hey, I'm from Brooklyn.<br /><br />The film suggests that everyone in the entertainment business is a gangster or aspires to be one, likening it to organized crime. In \\\"Get Shorty,\\\" the premise of a gangster \\\"going legitimate\\\" by getting into movies was a clever fish-out-of water idea, but in \\\"Be Cool,\\\" it seems the biz has entirely gone crooked since then.<br /><br />The film is interestingly casted and the absolute highlight is a \\\"monolgue\\\" delivered by The Rock, whose character is an aspiring actor as well as a goon, where he reenacts a scene between Gabrielle Union and Kirsten Dunst from \\\"Bring It On.\\\" Vince Vaughan's character thinks he's black and he's often seen dressed as a pimp-- this was quite funny in the first scene that introduces him and gets tired and embarrassing almost immediately afterward.<br /><br />Overall, \\\"Be Cool\\\" may be worth a rental for John Travolta die-hards (of which I am one), but you may want to keep your finger close to the fast forward button to get through it without feeling that you wasted too much time. Fans of \\\"Get Shorty\\\" may actually wish to avoid this, as the sequel is devoid of most things that made that one a winner. I rate this movie an admittedly harsh 4/10.\",\n          \"He seems to be a control freak. I have heard him comment on \\\"losing control of the show\\\" and tell another guest who brought live animals that he had one rule-\\\"no snakes.\\\" He needs to hire a comedy writer because his jokes are lame. The only reason I watch him is because he some some great guests and bands. <br /><br />I watched the Craig Ferguson show for a while but his show is even worse. He likes to bull sh** to burn time.I don't think either man has much of a future in late night talk shows.<br /><br />Daily also has the annoying habit of sticking his tongue out to lick his lips. He must do this at least 10 times a show. I do like the Joe Firstman band. Carson Daily needs to lighten up before it is too late.\",\n          \"Okay, I know this does'nt project India in a good light. But the overall theme of the movie is not India, it's Shakti. The power of a warlord, and the power of a mother. The relationship between Nandini and her husband and son swallow you up in their warmth. Then things go terribly wrong. The interaction between Nandini and her father in law - the power of their dysfunctional relationship - and the lives changed by it are the strengths of this movie. Shah Rukh Khan's performance seems to be a mere cameo compared to the believable desperation of Karisma Kapoor. It is easy to get caught up in the love, violence and redemption of lives in this film, and find yourself heaving a sigh of relief and sadness at the climax. The musical interludes are strengths, believable and well done.\"\n        ],\n        \"semantic_type\": \"\",\n        \"description\": \"\"\n      }\n    },\n    {\n      \"column\": \"cleaned_text\",\n      \"properties\": {\n        \"dtype\": \"string\",\n        \"num_unique_values\": 4,\n        \"samples\": [\n          \"Despite John Travolta s statements in interviews that this was his favorite role of his career Be Cool proves to be a disappointing sequel to 1995 s witty and clever Get Shorty br br Travolta delivers a pleasant enough performance in this mildly entertaining film but ultimately the movie falls flat due to an underdeveloped plot unlikeable characters and a surprising lack of chemistry between leads Travolta and Uma Thurman Although there are some laughs this unfunny dialog example which appeared frequently in the trailers kind of says it all Thurman Do you dance Travolta Hey I m from Brooklyn br br The film suggests that everyone in the entertainment business is a gangster or aspires to be one likening it to organized crime In Get Shorty the premise of a gangster going legitimate by getting into movies was a clever fish out of water idea but in Be Cool it seems the biz has entirely gone crooked since then br br The film is interestingly casted and the absolute highlight is a monolgue delivered by The Rock whose character is an aspiring actor as well as a goon where he reenacts a scene between Gabrielle Union and Kirsten Dunst from Bring It On Vince Vaughan s character thinks he s black and he s often seen dressed as a pimp this was quite funny in the first scene that introduces him and gets tired and embarrassing almost immediately afterward br br Overall Be Cool may be worth a rental for John Travolta die hards of which I am one but you may want to keep your finger close to the fast forward button to get through it without feeling that you wasted too much time Fans of Get Shorty may actually wish to avoid this as the sequel is devoid of most things that made that one a winner I rate this movie an admittedly harsh 4 10 \",\n          \"He seems to be a control freak I have heard him comment on losing control of the show and tell another guest who brought live animals that he had one rule no snakes He needs to hire a comedy writer because his jokes are lame The only reason I watch him is because he some some great guests and bands br br I watched the Craig Ferguson show for a while but his show is even worse He likes to bull sh to burn time I don t think either man has much of a future in late night talk shows br br Daily also has the annoying habit of sticking his tongue out to lick his lips He must do this at least 10 times a show I do like the Joe Firstman band Carson Daily needs to lighten up before it is too late \",\n          \"Okay I know this does nt project India in a good light But the overall theme of the movie is not India it s Shakti The power of a warlord and the power of a mother The relationship between Nandini and her husband and son swallow you up in their warmth Then things go terribly wrong The interaction between Nandini and her father in law the power of their dysfunctional relationship and the lives changed by it are the strengths of this movie Shah Rukh Khan s performance seems to be a mere cameo compared to the believable desperation of Karisma Kapoor It is easy to get caught up in the love violence and redemption of lives in this film and find yourself heaving a sigh of relief and sadness at the climax The musical interludes are strengths believable and well done \"\n        ],\n        \"semantic_type\": \"\",\n        \"description\": \"\"\n      }\n    }\n  ]\n}"
            }
          },
          "metadata": {},
          "execution_count": 133
        }
      ],
      "source": [
        "# checking a couple of instances of cleaned data\n",
        "data.loc[0:3, ['review','cleaned_text']]"
      ]
    },
    {
      "cell_type": "markdown",
      "metadata": {
        "id": "QpsuDWLnyJFw"
      },
      "source": [
        "- We can observe that regex simply removed the special characters and retained the alphabets and numbers."
      ]
    },
    {
      "cell_type": "markdown",
      "metadata": {
        "id": "2DftSZK9yQ74"
      },
      "source": [
        "### **Lowercasing**"
      ]
    },
    {
      "cell_type": "markdown",
      "metadata": {
        "id": "btbl4O1tIpW1"
      },
      "source": [
        "<h2>Why is Lowercasing Important in Text Preprocessing?</h2>\n",
        "\n",
        "- It ensures that all words are in the same format, which helps maintain consistency across the dataset.\n",
        "  - This means \"Dog\" and \"dog\" are treated as the same word.\n",
        "\n",
        "- Converting text to lowercase simplifies the data, making it easier to process and analyze."
      ]
    },
    {
      "cell_type": "markdown",
      "metadata": {
        "id": "1eiMJHNoJI0t"
      },
      "source": [
        "<h2>How to Implement Lowercasing?</h2>\n",
        "\n",
        "- The `lower()` method is a built-in string method in Python that converts all uppercase characters in a string to lowercase.\n",
        "- This is useful for standardizing text data.\n",
        "\n",
        "<p><strong>Example:</strong></p>\n",
        "\n",
        "<pre>\n",
        "input_string = \"Hello, World!\"\n",
        "\n",
        "lowercased_string = input_string.lower()\n",
        "\n",
        "print(lowercased_string)\n",
        "</pre>\n",
        "\n",
        ">**Output** : hello, world!\n"
      ]
    },
    {
      "cell_type": "code",
      "execution_count": 134,
      "metadata": {
        "colab": {
          "base_uri": "https://localhost:8080/"
        },
        "id": "f2lVK2_Ulcp8",
        "outputId": "75911e5e-6cd3-4526-bf99-ddb8375f923f"
      },
      "outputs": [
        {
          "output_type": "stream",
          "name": "stdout",
          "text": [
            "the quick brown fox\n"
          ]
        }
      ],
      "source": [
        "string = \"The Quick Brown Fox\"\n",
        "\n",
        "lowercased_string = string.lower()\n",
        "\n",
        "print(lowercased_string)"
      ]
    },
    {
      "cell_type": "markdown",
      "metadata": {
        "id": "xdm9ScKJK3l5"
      },
      "source": [
        "- As we can see, the characters in the `string` have been converted to lowercase.\""
      ]
    },
    {
      "cell_type": "markdown",
      "metadata": {
        "id": "Eg6ZjM8IYC9i"
      },
      "source": [
        "- Now, let's try to use this pattern to manipulate one of the reviews in the data."
      ]
    },
    {
      "cell_type": "code",
      "execution_count": 135,
      "metadata": {
        "colab": {
          "base_uri": "https://localhost:8080/"
        },
        "id": "qsznyceiOGVr",
        "outputId": "9b3f4439-c41f-456f-b6b8-18d878a5a8c5"
      },
      "outputs": [
        {
          "output_type": "stream",
          "name": "stdout",
          "text": [
            "wow! fantastic film in my opinion, i wasn't expecting it to be this good! i was captivated from start to finish- it's a very well made and educational film that really gives us a fascinating insight into the trials darwin had to go through in order to convey his ideas to the world, chronicling his life as he writes \"origin of the species\"; fighting both personal demons as well as the ignorant society of the time in order to do so. he struggles hard with his mind, body and soul as personal matters get to breaking point and even his family seems to slip away...whilst the rest of the world stand against him as he knows that his findings literally shake the very foundations of their lives, culture and meaning of existence. it's a subtle movie (not over-exaggerated in any way in that typical hollywood way, this is a bbc produced british film) yet thankfully very powerful in meaning and this is thanks to the amazing well directed scenes as well as the superb acting by bettany. connelly acts as more of a light supporting role but i did enjoy her in this and she's as good as to be expected as always, her chemistry alongside her husband was definitely strong and endearing, you could feel the connection, and their real-life husband/wife bond definitely shines through their performances. but the star of the show is definitely bettany and he does a brilliant job, a very touching performance- i both understood and sympathised with him as he battled his own degrading health and impending \"insanity\" to try to understand what he has uncovered and come to terms with what it all really is and means as he found his thinking contradict his feelings, and found himself losing it all including his wife who of course was a firm believer in religion and a strict christian whilst he was in the realm of science, two worlds which could not see eye to eye, so their relationship was at stake too.<br /><br />anyway- a really very good, well acted emotional drama and dare i say i did shed a tear during the tragic climax which was truly heartbreaking as well as beautifully poignant and moving. the film is symbolic and very intellectually artistic as well, in fact i can't wait to watch it again as there was a lot to take in first time round which i missed. easily one of the best films i've seen this year.\n"
          ]
        }
      ],
      "source": [
        "review = data['review'][10]\n",
        "\n",
        "lowercased_review = review.lower()\n",
        "\n",
        "print(lowercased_review)"
      ]
    },
    {
      "cell_type": "markdown",
      "metadata": {
        "id": "aOwkt9EcLITx"
      },
      "source": [
        "- As we can see, the characters in the `review` have been converted to lowercase.\""
      ]
    },
    {
      "cell_type": "markdown",
      "metadata": {
        "id": "_GT_2v-KKtog"
      },
      "source": [
        "- Until now, we have been converting text to lowercase for individual reviews one by one. While this method works, it can be inefficient when dealing with a larger number of reviews.\n",
        "\n",
        "- To streamline our process, we want to convert all reviews in the DataFrame to lowercase at once instead of handling each one separately.\n",
        "\n",
        "- By using the `str.lower()` method in Pandas, we can efficiently apply the lowercase transformation to every review in the DataFrame in a single operation.\n",
        "\n",
        "- We will apply the `str.lower()` method to the review column, ensuring that all reviews are standardized and ready for analysis."
      ]
    },
    {
      "cell_type": "code",
      "execution_count": 136,
      "metadata": {
        "id": "JLOmMLSLRJT0"
      },
      "outputs": [],
      "source": [
        "# changing the case of the text data to lower case\n",
        "data['cleaned_text'] = data['cleaned_text'].str.lower()"
      ]
    },
    {
      "cell_type": "code",
      "execution_count": 137,
      "metadata": {
        "colab": {
          "base_uri": "https://localhost:8080/",
          "height": 0
        },
        "id": "P80CyzprdHH1",
        "outputId": "1b36a3d1-e2bd-4da2-bbf6-32e195bb250a"
      },
      "outputs": [
        {
          "output_type": "execute_result",
          "data": {
            "text/plain": [
              "                                                                                                                                                                                                                                                                                                                                                                                                                                                                                                                                                                                                                                                                                                                                                                                                                                                                                                                                                                                                                                                                                                                                                                                                                                                                                                                                                                                                                                                                                                                                                                                                                                                                                                                                                                                                                                                                                         review  \\\n",
              "0                                                                                                                                                                                                                                                                                                                                                                                                                                                                                                                                                                                                                                                                                                                                                                                                                                                                                                                                                                                                                                                                          Okay, I know this does'nt project India in a good light. But the overall theme of the movie is not India, it's Shakti. The power of a warlord, and the power of a mother. The relationship between Nandini and her husband and son swallow you up in their warmth. Then things go terribly wrong. The interaction between Nandini and her father in law - the power of their dysfunctional relationship - and the lives changed by it are the strengths of this movie. Shah Rukh Khan's performance seems to be a mere cameo compared to the believable desperation of Karisma Kapoor. It is easy to get caught up in the love, violence and redemption of lives in this film, and find yourself heaving a sigh of relief and sadness at the climax. The musical interludes are strengths, believable and well done.   \n",
              "1  Despite John Travolta's statements in interviews that this was his favorite role of his career, \"Be Cool\" proves to be a disappointing sequel to 1995's witty and clever \"Get Shorty.\"<br /><br />Travolta delivers a pleasant enough performance in this mildly entertaining film, but ultimately the movie falls flat due to an underdeveloped plot, unlikeable characters, and a surprising lack of chemistry between leads Travolta and Uma Thurman. Although there are some laughs, this unfunny dialog example (which appeared frequently in the trailers) kind of says it all: Thurman: Do you dance? Travolta: Hey, I'm from Brooklyn.<br /><br />The film suggests that everyone in the entertainment business is a gangster or aspires to be one, likening it to organized crime. In \"Get Shorty,\" the premise of a gangster \"going legitimate\" by getting into movies was a clever fish-out-of water idea, but in \"Be Cool,\" it seems the biz has entirely gone crooked since then.<br /><br />The film is interestingly casted and the absolute highlight is a \"monolgue\" delivered by The Rock, whose character is an aspiring actor as well as a goon, where he reenacts a scene between Gabrielle Union and Kirsten Dunst from \"Bring It On.\" Vince Vaughan's character thinks he's black and he's often seen dressed as a pimp-- this was quite funny in the first scene that introduces him and gets tired and embarrassing almost immediately afterward.<br /><br />Overall, \"Be Cool\" may be worth a rental for John Travolta die-hards (of which I am one), but you may want to keep your finger close to the fast forward button to get through it without feeling that you wasted too much time. Fans of \"Get Shorty\" may actually wish to avoid this, as the sequel is devoid of most things that made that one a winner. I rate this movie an admittedly harsh 4/10.   \n",
              "2                                                                                                                                                                                                                                                                                                                                                                                                                                                                                                                                                                                                                                                                                 I am a kung fu fan, but not a Woo fan. I have no interest in gangster movies filled with over-the-top gun-play. Now, martial arts; *that's* beautiful! And John Woo surprised me here by producing a highly entertaining kung fu movie, which almost has *too much* fighting, if such a thing is possible! This is good stuff.<br /><br />Many of the fight scenes are very good (and some of them are less good), and the main characters are amusing and likable. The bad guys are a bit too unbelievably evil, but entertaining none the less. You gotta see the Sleeping Wizard!! He can only fight when he's asleep - it's hysterical!<br /><br />Upon repeated viewings, however, Last Hurrah For Chivalry can tend to get a little boring and long-winded, also especially because many of the fight scenes are actually not that good. Hence, I rate it \"only\" a 7 out of 10. But it really is almost an \"8\".<br /><br />All in all one of the better kung fu movies, made smack-dab in the heart of kung fu cinema's prime. All the really good kung fu movies are from the mid- to late 1970ies, with some notable exceptions from the late '60ies and early '70ies (and early '80ies, to be fair).   \n",
              "3                                                                                                                                                                                                                                                                                                                                                                                                                                                                                                                                                                                                                                                                                                                                                                                                                                                                                                                                                                                                                                                                                                                                             He seems to be a control freak. I have heard him comment on \"losing control of the show\" and tell another guest who brought live animals that he had one rule-\"no snakes.\" He needs to hire a comedy writer because his jokes are lame. The only reason I watch him is because he some some great guests and bands. <br /><br />I watched the Craig Ferguson show for a while but his show is even worse. He likes to bull sh** to burn time.I don't think either man has much of a future in late night talk shows.<br /><br />Daily also has the annoying habit of sticking his tongue out to lick his lips. He must do this at least 10 times a show. I do like the Joe Firstman band. Carson Daily needs to lighten up before it is too late.   \n",
              "\n",
              "                                                                                                                                                                                                                                                                                                                                                                                                                                                                                                                                                                                                                                                                                                                                                                                                                                                                                                                                                                                                                                                                                                                                                                                                                                                                                                                                                                                                                                                                                                                                                                                                                                                                                                                                                                                                           cleaned_text  \n",
              "0                                                                                                                                                                                                                                                                                                                                                                                                                                                                                                                                                                                                                                                                                                                                                                                                                                                                                                                                                                                                                    okay i know this does nt project india in a good light but the overall theme of the movie is not india it s shakti the power of a warlord and the power of a mother the relationship between nandini and her husband and son swallow you up in their warmth then things go terribly wrong the interaction between nandini and her father in law the power of their dysfunctional relationship and the lives changed by it are the strengths of this movie shah rukh khan s performance seems to be a mere cameo compared to the believable desperation of karisma kapoor it is easy to get caught up in the love violence and redemption of lives in this film and find yourself heaving a sigh of relief and sadness at the climax the musical interludes are strengths believable and well done   \n",
              "1  despite john travolta s statements in interviews that this was his favorite role of his career be cool proves to be a disappointing sequel to 1995 s witty and clever get shorty br br travolta delivers a pleasant enough performance in this mildly entertaining film but ultimately the movie falls flat due to an underdeveloped plot unlikeable characters and a surprising lack of chemistry between leads travolta and uma thurman although there are some laughs this unfunny dialog example which appeared frequently in the trailers kind of says it all thurman do you dance travolta hey i m from brooklyn br br the film suggests that everyone in the entertainment business is a gangster or aspires to be one likening it to organized crime in get shorty the premise of a gangster going legitimate by getting into movies was a clever fish out of water idea but in be cool it seems the biz has entirely gone crooked since then br br the film is interestingly casted and the absolute highlight is a monolgue delivered by the rock whose character is an aspiring actor as well as a goon where he reenacts a scene between gabrielle union and kirsten dunst from bring it on vince vaughan s character thinks he s black and he s often seen dressed as a pimp this was quite funny in the first scene that introduces him and gets tired and embarrassing almost immediately afterward br br overall be cool may be worth a rental for john travolta die hards of which i am one but you may want to keep your finger close to the fast forward button to get through it without feeling that you wasted too much time fans of get shorty may actually wish to avoid this as the sequel is devoid of most things that made that one a winner i rate this movie an admittedly harsh 4 10   \n",
              "2                                                                                                                                                                                                                                                                                                                                                                                                                                                                                                                                                                                                                                                                      i am a kung fu fan but not a woo fan i have no interest in gangster movies filled with over the top gun play now martial arts that s beautiful and john woo surprised me here by producing a highly entertaining kung fu movie which almost has too much fighting if such a thing is possible this is good stuff br br many of the fight scenes are very good and some of them are less good and the main characters are amusing and likable the bad guys are a bit too unbelievably evil but entertaining none the less you gotta see the sleeping wizard he can only fight when he s asleep it s hysterical br br upon repeated viewings however last hurrah for chivalry can tend to get a little boring and long winded also especially because many of the fight scenes are actually not that good hence i rate it only a 7 out of 10 but it really is almost an 8 br br all in all one of the better kung fu movies made smack dab in the heart of kung fu cinema s prime all the really good kung fu movies are from the mid to late 1970ies with some notable exceptions from the late 60ies and early 70ies and early 80ies to be fair   \n",
              "3                                                                                                                                                                                                                                                                                                                                                                                                                                                                                                                                                                                                                                                                                                                                                                                                                                                                                                                                                                                                                                                                                               he seems to be a control freak i have heard him comment on losing control of the show and tell another guest who brought live animals that he had one rule no snakes he needs to hire a comedy writer because his jokes are lame the only reason i watch him is because he some some great guests and bands br br i watched the craig ferguson show for a while but his show is even worse he likes to bull sh to burn time i don t think either man has much of a future in late night talk shows br br daily also has the annoying habit of sticking his tongue out to lick his lips he must do this at least 10 times a show i do like the joe firstman band carson daily needs to lighten up before it is too late   "
            ],
            "text/html": [
              "\n",
              "  <div id=\"df-883cc835-1234-48b5-8dee-3b21df38c715\" class=\"colab-df-container\">\n",
              "    <div>\n",
              "<style scoped>\n",
              "    .dataframe tbody tr th:only-of-type {\n",
              "        vertical-align: middle;\n",
              "    }\n",
              "\n",
              "    .dataframe tbody tr th {\n",
              "        vertical-align: top;\n",
              "    }\n",
              "\n",
              "    .dataframe thead th {\n",
              "        text-align: right;\n",
              "    }\n",
              "</style>\n",
              "<table border=\"1\" class=\"dataframe\">\n",
              "  <thead>\n",
              "    <tr style=\"text-align: right;\">\n",
              "      <th></th>\n",
              "      <th>review</th>\n",
              "      <th>cleaned_text</th>\n",
              "    </tr>\n",
              "  </thead>\n",
              "  <tbody>\n",
              "    <tr>\n",
              "      <th>0</th>\n",
              "      <td>Okay, I know this does'nt project India in a good light. But the overall theme of the movie is not India, it's Shakti. The power of a warlord, and the power of a mother. The relationship between Nandini and her husband and son swallow you up in their warmth. Then things go terribly wrong. The interaction between Nandini and her father in law - the power of their dysfunctional relationship - and the lives changed by it are the strengths of this movie. Shah Rukh Khan's performance seems to be a mere cameo compared to the believable desperation of Karisma Kapoor. It is easy to get caught up in the love, violence and redemption of lives in this film, and find yourself heaving a sigh of relief and sadness at the climax. The musical interludes are strengths, believable and well done.</td>\n",
              "      <td>okay i know this does nt project india in a good light but the overall theme of the movie is not india it s shakti the power of a warlord and the power of a mother the relationship between nandini and her husband and son swallow you up in their warmth then things go terribly wrong the interaction between nandini and her father in law the power of their dysfunctional relationship and the lives changed by it are the strengths of this movie shah rukh khan s performance seems to be a mere cameo compared to the believable desperation of karisma kapoor it is easy to get caught up in the love violence and redemption of lives in this film and find yourself heaving a sigh of relief and sadness at the climax the musical interludes are strengths believable and well done</td>\n",
              "    </tr>\n",
              "    <tr>\n",
              "      <th>1</th>\n",
              "      <td>Despite John Travolta's statements in interviews that this was his favorite role of his career, \"Be Cool\" proves to be a disappointing sequel to 1995's witty and clever \"Get Shorty.\"&lt;br /&gt;&lt;br /&gt;Travolta delivers a pleasant enough performance in this mildly entertaining film, but ultimately the movie falls flat due to an underdeveloped plot, unlikeable characters, and a surprising lack of chemistry between leads Travolta and Uma Thurman. Although there are some laughs, this unfunny dialog example (which appeared frequently in the trailers) kind of says it all: Thurman: Do you dance? Travolta: Hey, I'm from Brooklyn.&lt;br /&gt;&lt;br /&gt;The film suggests that everyone in the entertainment business is a gangster or aspires to be one, likening it to organized crime. In \"Get Shorty,\" the premise of a gangster \"going legitimate\" by getting into movies was a clever fish-out-of water idea, but in \"Be Cool,\" it seems the biz has entirely gone crooked since then.&lt;br /&gt;&lt;br /&gt;The film is interestingly casted and the absolute highlight is a \"monolgue\" delivered by The Rock, whose character is an aspiring actor as well as a goon, where he reenacts a scene between Gabrielle Union and Kirsten Dunst from \"Bring It On.\" Vince Vaughan's character thinks he's black and he's often seen dressed as a pimp-- this was quite funny in the first scene that introduces him and gets tired and embarrassing almost immediately afterward.&lt;br /&gt;&lt;br /&gt;Overall, \"Be Cool\" may be worth a rental for John Travolta die-hards (of which I am one), but you may want to keep your finger close to the fast forward button to get through it without feeling that you wasted too much time. Fans of \"Get Shorty\" may actually wish to avoid this, as the sequel is devoid of most things that made that one a winner. I rate this movie an admittedly harsh 4/10.</td>\n",
              "      <td>despite john travolta s statements in interviews that this was his favorite role of his career be cool proves to be a disappointing sequel to 1995 s witty and clever get shorty br br travolta delivers a pleasant enough performance in this mildly entertaining film but ultimately the movie falls flat due to an underdeveloped plot unlikeable characters and a surprising lack of chemistry between leads travolta and uma thurman although there are some laughs this unfunny dialog example which appeared frequently in the trailers kind of says it all thurman do you dance travolta hey i m from brooklyn br br the film suggests that everyone in the entertainment business is a gangster or aspires to be one likening it to organized crime in get shorty the premise of a gangster going legitimate by getting into movies was a clever fish out of water idea but in be cool it seems the biz has entirely gone crooked since then br br the film is interestingly casted and the absolute highlight is a monolgue delivered by the rock whose character is an aspiring actor as well as a goon where he reenacts a scene between gabrielle union and kirsten dunst from bring it on vince vaughan s character thinks he s black and he s often seen dressed as a pimp this was quite funny in the first scene that introduces him and gets tired and embarrassing almost immediately afterward br br overall be cool may be worth a rental for john travolta die hards of which i am one but you may want to keep your finger close to the fast forward button to get through it without feeling that you wasted too much time fans of get shorty may actually wish to avoid this as the sequel is devoid of most things that made that one a winner i rate this movie an admittedly harsh 4 10</td>\n",
              "    </tr>\n",
              "    <tr>\n",
              "      <th>2</th>\n",
              "      <td>I am a kung fu fan, but not a Woo fan. I have no interest in gangster movies filled with over-the-top gun-play. Now, martial arts; *that's* beautiful! And John Woo surprised me here by producing a highly entertaining kung fu movie, which almost has *too much* fighting, if such a thing is possible! This is good stuff.&lt;br /&gt;&lt;br /&gt;Many of the fight scenes are very good (and some of them are less good), and the main characters are amusing and likable. The bad guys are a bit too unbelievably evil, but entertaining none the less. You gotta see the Sleeping Wizard!! He can only fight when he's asleep - it's hysterical!&lt;br /&gt;&lt;br /&gt;Upon repeated viewings, however, Last Hurrah For Chivalry can tend to get a little boring and long-winded, also especially because many of the fight scenes are actually not that good. Hence, I rate it \"only\" a 7 out of 10. But it really is almost an \"8\".&lt;br /&gt;&lt;br /&gt;All in all one of the better kung fu movies, made smack-dab in the heart of kung fu cinema's prime. All the really good kung fu movies are from the mid- to late 1970ies, with some notable exceptions from the late '60ies and early '70ies (and early '80ies, to be fair).</td>\n",
              "      <td>i am a kung fu fan but not a woo fan i have no interest in gangster movies filled with over the top gun play now martial arts that s beautiful and john woo surprised me here by producing a highly entertaining kung fu movie which almost has too much fighting if such a thing is possible this is good stuff br br many of the fight scenes are very good and some of them are less good and the main characters are amusing and likable the bad guys are a bit too unbelievably evil but entertaining none the less you gotta see the sleeping wizard he can only fight when he s asleep it s hysterical br br upon repeated viewings however last hurrah for chivalry can tend to get a little boring and long winded also especially because many of the fight scenes are actually not that good hence i rate it only a 7 out of 10 but it really is almost an 8 br br all in all one of the better kung fu movies made smack dab in the heart of kung fu cinema s prime all the really good kung fu movies are from the mid to late 1970ies with some notable exceptions from the late 60ies and early 70ies and early 80ies to be fair</td>\n",
              "    </tr>\n",
              "    <tr>\n",
              "      <th>3</th>\n",
              "      <td>He seems to be a control freak. I have heard him comment on \"losing control of the show\" and tell another guest who brought live animals that he had one rule-\"no snakes.\" He needs to hire a comedy writer because his jokes are lame. The only reason I watch him is because he some some great guests and bands. &lt;br /&gt;&lt;br /&gt;I watched the Craig Ferguson show for a while but his show is even worse. He likes to bull sh** to burn time.I don't think either man has much of a future in late night talk shows.&lt;br /&gt;&lt;br /&gt;Daily also has the annoying habit of sticking his tongue out to lick his lips. He must do this at least 10 times a show. I do like the Joe Firstman band. Carson Daily needs to lighten up before it is too late.</td>\n",
              "      <td>he seems to be a control freak i have heard him comment on losing control of the show and tell another guest who brought live animals that he had one rule no snakes he needs to hire a comedy writer because his jokes are lame the only reason i watch him is because he some some great guests and bands br br i watched the craig ferguson show for a while but his show is even worse he likes to bull sh to burn time i don t think either man has much of a future in late night talk shows br br daily also has the annoying habit of sticking his tongue out to lick his lips he must do this at least 10 times a show i do like the joe firstman band carson daily needs to lighten up before it is too late</td>\n",
              "    </tr>\n",
              "  </tbody>\n",
              "</table>\n",
              "</div>\n",
              "    <div class=\"colab-df-buttons\">\n",
              "\n",
              "  <div class=\"colab-df-container\">\n",
              "    <button class=\"colab-df-convert\" onclick=\"convertToInteractive('df-883cc835-1234-48b5-8dee-3b21df38c715')\"\n",
              "            title=\"Convert this dataframe to an interactive table.\"\n",
              "            style=\"display:none;\">\n",
              "\n",
              "  <svg xmlns=\"http://www.w3.org/2000/svg\" height=\"24px\" viewBox=\"0 -960 960 960\">\n",
              "    <path d=\"M120-120v-720h720v720H120Zm60-500h600v-160H180v160Zm220 220h160v-160H400v160Zm0 220h160v-160H400v160ZM180-400h160v-160H180v160Zm440 0h160v-160H620v160ZM180-180h160v-160H180v160Zm440 0h160v-160H620v160Z\"/>\n",
              "  </svg>\n",
              "    </button>\n",
              "\n",
              "  <style>\n",
              "    .colab-df-container {\n",
              "      display:flex;\n",
              "      gap: 12px;\n",
              "    }\n",
              "\n",
              "    .colab-df-convert {\n",
              "      background-color: #E8F0FE;\n",
              "      border: none;\n",
              "      border-radius: 50%;\n",
              "      cursor: pointer;\n",
              "      display: none;\n",
              "      fill: #1967D2;\n",
              "      height: 32px;\n",
              "      padding: 0 0 0 0;\n",
              "      width: 32px;\n",
              "    }\n",
              "\n",
              "    .colab-df-convert:hover {\n",
              "      background-color: #E2EBFA;\n",
              "      box-shadow: 0px 1px 2px rgba(60, 64, 67, 0.3), 0px 1px 3px 1px rgba(60, 64, 67, 0.15);\n",
              "      fill: #174EA6;\n",
              "    }\n",
              "\n",
              "    .colab-df-buttons div {\n",
              "      margin-bottom: 4px;\n",
              "    }\n",
              "\n",
              "    [theme=dark] .colab-df-convert {\n",
              "      background-color: #3B4455;\n",
              "      fill: #D2E3FC;\n",
              "    }\n",
              "\n",
              "    [theme=dark] .colab-df-convert:hover {\n",
              "      background-color: #434B5C;\n",
              "      box-shadow: 0px 1px 3px 1px rgba(0, 0, 0, 0.15);\n",
              "      filter: drop-shadow(0px 1px 2px rgba(0, 0, 0, 0.3));\n",
              "      fill: #FFFFFF;\n",
              "    }\n",
              "  </style>\n",
              "\n",
              "    <script>\n",
              "      const buttonEl =\n",
              "        document.querySelector('#df-883cc835-1234-48b5-8dee-3b21df38c715 button.colab-df-convert');\n",
              "      buttonEl.style.display =\n",
              "        google.colab.kernel.accessAllowed ? 'block' : 'none';\n",
              "\n",
              "      async function convertToInteractive(key) {\n",
              "        const element = document.querySelector('#df-883cc835-1234-48b5-8dee-3b21df38c715');\n",
              "        const dataTable =\n",
              "          await google.colab.kernel.invokeFunction('convertToInteractive',\n",
              "                                                    [key], {});\n",
              "        if (!dataTable) return;\n",
              "\n",
              "        const docLinkHtml = 'Like what you see? Visit the ' +\n",
              "          '<a target=\"_blank\" href=https://colab.research.google.com/notebooks/data_table.ipynb>data table notebook</a>'\n",
              "          + ' to learn more about interactive tables.';\n",
              "        element.innerHTML = '';\n",
              "        dataTable['output_type'] = 'display_data';\n",
              "        await google.colab.output.renderOutput(dataTable, element);\n",
              "        const docLink = document.createElement('div');\n",
              "        docLink.innerHTML = docLinkHtml;\n",
              "        element.appendChild(docLink);\n",
              "      }\n",
              "    </script>\n",
              "  </div>\n",
              "\n",
              "\n",
              "<div id=\"df-2016b55b-0a92-44e2-8de7-630d2a0c3239\">\n",
              "  <button class=\"colab-df-quickchart\" onclick=\"quickchart('df-2016b55b-0a92-44e2-8de7-630d2a0c3239')\"\n",
              "            title=\"Suggest charts\"\n",
              "            style=\"display:none;\">\n",
              "\n",
              "<svg xmlns=\"http://www.w3.org/2000/svg\" height=\"24px\"viewBox=\"0 0 24 24\"\n",
              "     width=\"24px\">\n",
              "    <g>\n",
              "        <path d=\"M19 3H5c-1.1 0-2 .9-2 2v14c0 1.1.9 2 2 2h14c1.1 0 2-.9 2-2V5c0-1.1-.9-2-2-2zM9 17H7v-7h2v7zm4 0h-2V7h2v10zm4 0h-2v-4h2v4z\"/>\n",
              "    </g>\n",
              "</svg>\n",
              "  </button>\n",
              "\n",
              "<style>\n",
              "  .colab-df-quickchart {\n",
              "      --bg-color: #E8F0FE;\n",
              "      --fill-color: #1967D2;\n",
              "      --hover-bg-color: #E2EBFA;\n",
              "      --hover-fill-color: #174EA6;\n",
              "      --disabled-fill-color: #AAA;\n",
              "      --disabled-bg-color: #DDD;\n",
              "  }\n",
              "\n",
              "  [theme=dark] .colab-df-quickchart {\n",
              "      --bg-color: #3B4455;\n",
              "      --fill-color: #D2E3FC;\n",
              "      --hover-bg-color: #434B5C;\n",
              "      --hover-fill-color: #FFFFFF;\n",
              "      --disabled-bg-color: #3B4455;\n",
              "      --disabled-fill-color: #666;\n",
              "  }\n",
              "\n",
              "  .colab-df-quickchart {\n",
              "    background-color: var(--bg-color);\n",
              "    border: none;\n",
              "    border-radius: 50%;\n",
              "    cursor: pointer;\n",
              "    display: none;\n",
              "    fill: var(--fill-color);\n",
              "    height: 32px;\n",
              "    padding: 0;\n",
              "    width: 32px;\n",
              "  }\n",
              "\n",
              "  .colab-df-quickchart:hover {\n",
              "    background-color: var(--hover-bg-color);\n",
              "    box-shadow: 0 1px 2px rgba(60, 64, 67, 0.3), 0 1px 3px 1px rgba(60, 64, 67, 0.15);\n",
              "    fill: var(--button-hover-fill-color);\n",
              "  }\n",
              "\n",
              "  .colab-df-quickchart-complete:disabled,\n",
              "  .colab-df-quickchart-complete:disabled:hover {\n",
              "    background-color: var(--disabled-bg-color);\n",
              "    fill: var(--disabled-fill-color);\n",
              "    box-shadow: none;\n",
              "  }\n",
              "\n",
              "  .colab-df-spinner {\n",
              "    border: 2px solid var(--fill-color);\n",
              "    border-color: transparent;\n",
              "    border-bottom-color: var(--fill-color);\n",
              "    animation:\n",
              "      spin 1s steps(1) infinite;\n",
              "  }\n",
              "\n",
              "  @keyframes spin {\n",
              "    0% {\n",
              "      border-color: transparent;\n",
              "      border-bottom-color: var(--fill-color);\n",
              "      border-left-color: var(--fill-color);\n",
              "    }\n",
              "    20% {\n",
              "      border-color: transparent;\n",
              "      border-left-color: var(--fill-color);\n",
              "      border-top-color: var(--fill-color);\n",
              "    }\n",
              "    30% {\n",
              "      border-color: transparent;\n",
              "      border-left-color: var(--fill-color);\n",
              "      border-top-color: var(--fill-color);\n",
              "      border-right-color: var(--fill-color);\n",
              "    }\n",
              "    40% {\n",
              "      border-color: transparent;\n",
              "      border-right-color: var(--fill-color);\n",
              "      border-top-color: var(--fill-color);\n",
              "    }\n",
              "    60% {\n",
              "      border-color: transparent;\n",
              "      border-right-color: var(--fill-color);\n",
              "    }\n",
              "    80% {\n",
              "      border-color: transparent;\n",
              "      border-right-color: var(--fill-color);\n",
              "      border-bottom-color: var(--fill-color);\n",
              "    }\n",
              "    90% {\n",
              "      border-color: transparent;\n",
              "      border-bottom-color: var(--fill-color);\n",
              "    }\n",
              "  }\n",
              "</style>\n",
              "\n",
              "  <script>\n",
              "    async function quickchart(key) {\n",
              "      const quickchartButtonEl =\n",
              "        document.querySelector('#' + key + ' button');\n",
              "      quickchartButtonEl.disabled = true;  // To prevent multiple clicks.\n",
              "      quickchartButtonEl.classList.add('colab-df-spinner');\n",
              "      try {\n",
              "        const charts = await google.colab.kernel.invokeFunction(\n",
              "            'suggestCharts', [key], {});\n",
              "      } catch (error) {\n",
              "        console.error('Error during call to suggestCharts:', error);\n",
              "      }\n",
              "      quickchartButtonEl.classList.remove('colab-df-spinner');\n",
              "      quickchartButtonEl.classList.add('colab-df-quickchart-complete');\n",
              "    }\n",
              "    (() => {\n",
              "      let quickchartButtonEl =\n",
              "        document.querySelector('#df-2016b55b-0a92-44e2-8de7-630d2a0c3239 button');\n",
              "      quickchartButtonEl.style.display =\n",
              "        google.colab.kernel.accessAllowed ? 'block' : 'none';\n",
              "    })();\n",
              "  </script>\n",
              "</div>\n",
              "\n",
              "    </div>\n",
              "  </div>\n"
            ],
            "application/vnd.google.colaboratory.intrinsic+json": {
              "type": "dataframe",
              "summary": "{\n  \"name\": \"data\",\n  \"rows\": 4,\n  \"fields\": [\n    {\n      \"column\": \"review\",\n      \"properties\": {\n        \"dtype\": \"string\",\n        \"num_unique_values\": 4,\n        \"samples\": [\n          \"Despite John Travolta's statements in interviews that this was his favorite role of his career, \\\"Be Cool\\\" proves to be a disappointing sequel to 1995's witty and clever \\\"Get Shorty.\\\"<br /><br />Travolta delivers a pleasant enough performance in this mildly entertaining film, but ultimately the movie falls flat due to an underdeveloped plot, unlikeable characters, and a surprising lack of chemistry between leads Travolta and Uma Thurman. Although there are some laughs, this unfunny dialog example (which appeared frequently in the trailers) kind of says it all: Thurman: Do you dance? Travolta: Hey, I'm from Brooklyn.<br /><br />The film suggests that everyone in the entertainment business is a gangster or aspires to be one, likening it to organized crime. In \\\"Get Shorty,\\\" the premise of a gangster \\\"going legitimate\\\" by getting into movies was a clever fish-out-of water idea, but in \\\"Be Cool,\\\" it seems the biz has entirely gone crooked since then.<br /><br />The film is interestingly casted and the absolute highlight is a \\\"monolgue\\\" delivered by The Rock, whose character is an aspiring actor as well as a goon, where he reenacts a scene between Gabrielle Union and Kirsten Dunst from \\\"Bring It On.\\\" Vince Vaughan's character thinks he's black and he's often seen dressed as a pimp-- this was quite funny in the first scene that introduces him and gets tired and embarrassing almost immediately afterward.<br /><br />Overall, \\\"Be Cool\\\" may be worth a rental for John Travolta die-hards (of which I am one), but you may want to keep your finger close to the fast forward button to get through it without feeling that you wasted too much time. Fans of \\\"Get Shorty\\\" may actually wish to avoid this, as the sequel is devoid of most things that made that one a winner. I rate this movie an admittedly harsh 4/10.\",\n          \"He seems to be a control freak. I have heard him comment on \\\"losing control of the show\\\" and tell another guest who brought live animals that he had one rule-\\\"no snakes.\\\" He needs to hire a comedy writer because his jokes are lame. The only reason I watch him is because he some some great guests and bands. <br /><br />I watched the Craig Ferguson show for a while but his show is even worse. He likes to bull sh** to burn time.I don't think either man has much of a future in late night talk shows.<br /><br />Daily also has the annoying habit of sticking his tongue out to lick his lips. He must do this at least 10 times a show. I do like the Joe Firstman band. Carson Daily needs to lighten up before it is too late.\",\n          \"Okay, I know this does'nt project India in a good light. But the overall theme of the movie is not India, it's Shakti. The power of a warlord, and the power of a mother. The relationship between Nandini and her husband and son swallow you up in their warmth. Then things go terribly wrong. The interaction between Nandini and her father in law - the power of their dysfunctional relationship - and the lives changed by it are the strengths of this movie. Shah Rukh Khan's performance seems to be a mere cameo compared to the believable desperation of Karisma Kapoor. It is easy to get caught up in the love, violence and redemption of lives in this film, and find yourself heaving a sigh of relief and sadness at the climax. The musical interludes are strengths, believable and well done.\"\n        ],\n        \"semantic_type\": \"\",\n        \"description\": \"\"\n      }\n    },\n    {\n      \"column\": \"cleaned_text\",\n      \"properties\": {\n        \"dtype\": \"string\",\n        \"num_unique_values\": 4,\n        \"samples\": [\n          \"despite john travolta s statements in interviews that this was his favorite role of his career be cool proves to be a disappointing sequel to 1995 s witty and clever get shorty br br travolta delivers a pleasant enough performance in this mildly entertaining film but ultimately the movie falls flat due to an underdeveloped plot unlikeable characters and a surprising lack of chemistry between leads travolta and uma thurman although there are some laughs this unfunny dialog example which appeared frequently in the trailers kind of says it all thurman do you dance travolta hey i m from brooklyn br br the film suggests that everyone in the entertainment business is a gangster or aspires to be one likening it to organized crime in get shorty the premise of a gangster going legitimate by getting into movies was a clever fish out of water idea but in be cool it seems the biz has entirely gone crooked since then br br the film is interestingly casted and the absolute highlight is a monolgue delivered by the rock whose character is an aspiring actor as well as a goon where he reenacts a scene between gabrielle union and kirsten dunst from bring it on vince vaughan s character thinks he s black and he s often seen dressed as a pimp this was quite funny in the first scene that introduces him and gets tired and embarrassing almost immediately afterward br br overall be cool may be worth a rental for john travolta die hards of which i am one but you may want to keep your finger close to the fast forward button to get through it without feeling that you wasted too much time fans of get shorty may actually wish to avoid this as the sequel is devoid of most things that made that one a winner i rate this movie an admittedly harsh 4 10 \",\n          \"he seems to be a control freak i have heard him comment on losing control of the show and tell another guest who brought live animals that he had one rule no snakes he needs to hire a comedy writer because his jokes are lame the only reason i watch him is because he some some great guests and bands br br i watched the craig ferguson show for a while but his show is even worse he likes to bull sh to burn time i don t think either man has much of a future in late night talk shows br br daily also has the annoying habit of sticking his tongue out to lick his lips he must do this at least 10 times a show i do like the joe firstman band carson daily needs to lighten up before it is too late \",\n          \"okay i know this does nt project india in a good light but the overall theme of the movie is not india it s shakti the power of a warlord and the power of a mother the relationship between nandini and her husband and son swallow you up in their warmth then things go terribly wrong the interaction between nandini and her father in law the power of their dysfunctional relationship and the lives changed by it are the strengths of this movie shah rukh khan s performance seems to be a mere cameo compared to the believable desperation of karisma kapoor it is easy to get caught up in the love violence and redemption of lives in this film and find yourself heaving a sigh of relief and sadness at the climax the musical interludes are strengths believable and well done \"\n        ],\n        \"semantic_type\": \"\",\n        \"description\": \"\"\n      }\n    }\n  ]\n}"
            }
          },
          "metadata": {},
          "execution_count": 137
        }
      ],
      "source": [
        "# checking a couple of instances of cleaned data\n",
        "data.loc[0:3, ['review','cleaned_text']]"
      ]
    },
    {
      "cell_type": "markdown",
      "metadata": {
        "id": "dF_kFCAxyg6L"
      },
      "source": [
        "- We can observe that all the text has now successfully been converted to lower case."
      ]
    },
    {
      "cell_type": "markdown",
      "metadata": {
        "id": "hLoWwpxzylZH"
      },
      "source": [
        "### **Removing extra whitespace**"
      ]
    },
    {
      "cell_type": "markdown",
      "metadata": {
        "id": "14sbXM3FLRQC"
      },
      "source": [
        "<h2>Why is Removing Extra Spaces Important in Text Preprocessing?</h2>\n",
        "\n",
        "- Removing extra spaces ensures uniformity in the text, making it easier to analyze and process.\n",
        "\n",
        "- Extra spaces can unnecessarily increase the size of the text data. By eliminating them, the overall storage requirements are reduced, leading to more efficient data handling and processing."
      ]
    },
    {
      "cell_type": "markdown",
      "metadata": {
        "id": "vZcp_UwnLRQE"
      },
      "source": [
        "<h2>How to Implement Lowercasing?</h2>\n",
        "\n",
        "- The `strip()` method is a built-in string method in Python that removes leading and trailing whitespace from a string.\n",
        "- This is useful for cleaning up user input and ensuring consistent formatting in text data.\n",
        "\n",
        "**Example:**\n",
        "<pre>\n",
        "input_string = \"Hello, World! \"\n",
        "\n",
        "stripped_string = input_string.strip()\n",
        "\n",
        "print(stripped_string)\n",
        "</pre>\n",
        "\n",
        "> **Output :** Hello, World!\n"
      ]
    },
    {
      "cell_type": "code",
      "execution_count": 138,
      "metadata": {
        "colab": {
          "base_uri": "https://localhost:8080/"
        },
        "id": "1CjhS2IqlofD",
        "outputId": "1aeb7a32-27da-4f09-f239-139961fbd051"
      },
      "outputs": [
        {
          "output_type": "stream",
          "name": "stdout",
          "text": [
            "johan@gmail.com\n"
          ]
        }
      ],
      "source": [
        "string = \" johan@gmail.com \"\n",
        "\n",
        "stripped_string = string.strip()\n",
        "\n",
        "print(stripped_string)"
      ]
    },
    {
      "cell_type": "markdown",
      "metadata": {
        "id": "cEbwxVoAL3Id"
      },
      "source": [
        "- As expected, the trailing and leading whitespace has been removed."
      ]
    },
    {
      "cell_type": "markdown",
      "metadata": {
        "id": "1JvonK5JYEzt"
      },
      "source": [
        "- Now, let's try to use this pattern to manipulate one of the reviews in the data."
      ]
    },
    {
      "cell_type": "code",
      "execution_count": 139,
      "metadata": {
        "colab": {
          "base_uri": "https://localhost:8080/"
        },
        "id": "kGze8cnTOMkG",
        "outputId": "fc275a65-b3f9-4440-b9c0-95f25a52c5ef"
      },
      "outputs": [
        {
          "output_type": "stream",
          "name": "stdout",
          "text": [
            "Night Crossing' is about an enormous barrier designed not to keep enemies out but to keep its own people in<br /><br />'Night Crossing' is about a very long border fencer equipped with silent alarms and automatic firing systems<br /><br />'Night Crossing' is about the denial of the basic human rights of life, liberty, and the pursuit of happiness<br /><br />'Night Crossing' is about the fear and pain that afflict so many families<br /><br />'Night Crossing' is about one attempt to risk a crossing through the border zone<br /><br />'Night Crossing' is about a loving father whose only desire is to give his boys what should never have been taken away from them<br /><br />'Night Crossing' is about a disturbed mother who wants her babies and her husband alive<br /><br />'Night Crossing' is about a caring husband who wants his family to be together but in a better place<br /><br />'Night Crossing' is about children who want to be free to reach at anytime the sky<br /><br />'Night Crossing' is about a hot-air balloon handcrafted and built by two families <br /><br />'Night Crossing' is about a balloon which could go just high enough to crash or catch fire and explode<br /><br />'Night Crossing' is about two determined men who want their family to climb into a hot air balloon and float away to 'liberty'<br /><br />'Night Crossing' is about the fear of getting caught by an evil regime<br /><br />'Night Crossing' is about a sensible man who can't let bad dreams stop him<br /><br />'Night Crossing' is about an icy policeman who wants every lookout tower on full alert<br /><br />With exquisite music by Jerry Goldsmith, Delbert Mann's 'Night Crossing' makes us realize the true value of freedom<br /><br />Final thoughts: <br /><br />There are a few moments in everyone's life, certainly in public lives, that can define a person...<br /><br />For those of us old enough to remember the Reagan presidency, seeing the clips again in the wake of his death makes it seem like those events happened just yesterday, or last week. The voice, the expressions, are all so familiar. But for a large percentage of people, these events might as well have happened fifty years ago, if not more. They are part of the distant past. President Reagan is a name, and not much more. President Gorbachev is another name, and not much more. So how can we remember these two men who had such a huge impact on their country?<br /><br />Reagan and Gorbachev worked together to tear down the Berlin Wall and to steer their superpower nations away from nuclear confrontation\n",
            "Night Crossing' is about an enormous barrier designed not to keep enemies out but to keep its own people in<br /><br />'Night Crossing' is about a very long border fencer equipped with silent alarms and automatic firing systems<br /><br />'Night Crossing' is about the denial of the basic human rights of life, liberty, and the pursuit of happiness<br /><br />'Night Crossing' is about the fear and pain that afflict so many families<br /><br />'Night Crossing' is about one attempt to risk a crossing through the border zone<br /><br />'Night Crossing' is about a loving father whose only desire is to give his boys what should never have been taken away from them<br /><br />'Night Crossing' is about a disturbed mother who wants her babies and her husband alive<br /><br />'Night Crossing' is about a caring husband who wants his family to be together but in a better place<br /><br />'Night Crossing' is about children who want to be free to reach at anytime the sky<br /><br />'Night Crossing' is about a hot-air balloon handcrafted and built by two families <br /><br />'Night Crossing' is about a balloon which could go just high enough to crash or catch fire and explode<br /><br />'Night Crossing' is about two determined men who want their family to climb into a hot air balloon and float away to 'liberty'<br /><br />'Night Crossing' is about the fear of getting caught by an evil regime<br /><br />'Night Crossing' is about a sensible man who can't let bad dreams stop him<br /><br />'Night Crossing' is about an icy policeman who wants every lookout tower on full alert<br /><br />With exquisite music by Jerry Goldsmith, Delbert Mann's 'Night Crossing' makes us realize the true value of freedom<br /><br />Final thoughts: <br /><br />There are a few moments in everyone's life, certainly in public lives, that can define a person...<br /><br />For those of us old enough to remember the Reagan presidency, seeing the clips again in the wake of his death makes it seem like those events happened just yesterday, or last week. The voice, the expressions, are all so familiar. But for a large percentage of people, these events might as well have happened fifty years ago, if not more. They are part of the distant past. President Reagan is a name, and not much more. President Gorbachev is another name, and not much more. So how can we remember these two men who had such a huge impact on their country?<br /><br />Reagan and Gorbachev worked together to tear down the Berlin Wall and to steer their superpower nations away from nuclear confrontation\n"
          ]
        }
      ],
      "source": [
        "review = data['review'][178]\n",
        "\n",
        "stripped_review = review.strip()\n",
        "\n",
        "print(review)\n",
        "print(stripped_review)"
      ]
    },
    {
      "cell_type": "markdown",
      "metadata": {
        "id": "PJBphEGuMZLS"
      },
      "source": [
        "- As expected, the leading whitespace has been removed."
      ]
    },
    {
      "cell_type": "markdown",
      "metadata": {
        "id": "fKQV2RZoLRQG"
      },
      "source": [
        "- Until now, we have been removing leading and trailing whitespace from individual reviews one by one. While this method is effective, it can be time-consuming when working with a large number of reviews.\n",
        "\n",
        "- To make our process more efficient, we want to remove extra spaces from all reviews in the DataFrame simultaneously instead of handling each one separately.\n",
        "\n",
        "- By utilizing the ***str.strip()*** method in Pandas, we can easily eliminate leading and trailing whitespace from every review in the DataFrame in a single operation.\n",
        "\n",
        "- We will apply the ***str.strip()*** method to the review column, ensuring that all reviews are cleaned and formatted consistently for analysis."
      ]
    },
    {
      "cell_type": "code",
      "execution_count": 140,
      "metadata": {
        "id": "CjJN53m8RWCW"
      },
      "outputs": [],
      "source": [
        "# removing extra whitespaces from the text\n",
        "data['cleaned_text'] = data['cleaned_text'].str.strip()"
      ]
    },
    {
      "cell_type": "code",
      "execution_count": 141,
      "metadata": {
        "colab": {
          "base_uri": "https://localhost:8080/",
          "height": 0
        },
        "id": "yCx3mBXiHRax",
        "outputId": "268066b8-02f6-4190-ce68-33c9a2ef2a2e"
      },
      "outputs": [
        {
          "output_type": "execute_result",
          "data": {
            "text/plain": [
              "                                                                                                                                                                                                                                                                                                                                                                                                                                                                                                                                                                                                                                                                                                                                                                                                                                                                                                                                                                                                                                                                                                                                                                                                                                                                                                                                                                                                                                                                                                                                                                                                                                                                                                                                                                                                                                                                                         review  \\\n",
              "0                                                                                                                                                                                                                                                                                                                                                                                                                                                                                                                                                                                                                                                                                                                                                                                                                                                                                                                                                                                                                                                                          Okay, I know this does'nt project India in a good light. But the overall theme of the movie is not India, it's Shakti. The power of a warlord, and the power of a mother. The relationship between Nandini and her husband and son swallow you up in their warmth. Then things go terribly wrong. The interaction between Nandini and her father in law - the power of their dysfunctional relationship - and the lives changed by it are the strengths of this movie. Shah Rukh Khan's performance seems to be a mere cameo compared to the believable desperation of Karisma Kapoor. It is easy to get caught up in the love, violence and redemption of lives in this film, and find yourself heaving a sigh of relief and sadness at the climax. The musical interludes are strengths, believable and well done.   \n",
              "1  Despite John Travolta's statements in interviews that this was his favorite role of his career, \"Be Cool\" proves to be a disappointing sequel to 1995's witty and clever \"Get Shorty.\"<br /><br />Travolta delivers a pleasant enough performance in this mildly entertaining film, but ultimately the movie falls flat due to an underdeveloped plot, unlikeable characters, and a surprising lack of chemistry between leads Travolta and Uma Thurman. Although there are some laughs, this unfunny dialog example (which appeared frequently in the trailers) kind of says it all: Thurman: Do you dance? Travolta: Hey, I'm from Brooklyn.<br /><br />The film suggests that everyone in the entertainment business is a gangster or aspires to be one, likening it to organized crime. In \"Get Shorty,\" the premise of a gangster \"going legitimate\" by getting into movies was a clever fish-out-of water idea, but in \"Be Cool,\" it seems the biz has entirely gone crooked since then.<br /><br />The film is interestingly casted and the absolute highlight is a \"monolgue\" delivered by The Rock, whose character is an aspiring actor as well as a goon, where he reenacts a scene between Gabrielle Union and Kirsten Dunst from \"Bring It On.\" Vince Vaughan's character thinks he's black and he's often seen dressed as a pimp-- this was quite funny in the first scene that introduces him and gets tired and embarrassing almost immediately afterward.<br /><br />Overall, \"Be Cool\" may be worth a rental for John Travolta die-hards (of which I am one), but you may want to keep your finger close to the fast forward button to get through it without feeling that you wasted too much time. Fans of \"Get Shorty\" may actually wish to avoid this, as the sequel is devoid of most things that made that one a winner. I rate this movie an admittedly harsh 4/10.   \n",
              "2                                                                                                                                                                                                                                                                                                                                                                                                                                                                                                                                                                                                                                                                                 I am a kung fu fan, but not a Woo fan. I have no interest in gangster movies filled with over-the-top gun-play. Now, martial arts; *that's* beautiful! And John Woo surprised me here by producing a highly entertaining kung fu movie, which almost has *too much* fighting, if such a thing is possible! This is good stuff.<br /><br />Many of the fight scenes are very good (and some of them are less good), and the main characters are amusing and likable. The bad guys are a bit too unbelievably evil, but entertaining none the less. You gotta see the Sleeping Wizard!! He can only fight when he's asleep - it's hysterical!<br /><br />Upon repeated viewings, however, Last Hurrah For Chivalry can tend to get a little boring and long-winded, also especially because many of the fight scenes are actually not that good. Hence, I rate it \"only\" a 7 out of 10. But it really is almost an \"8\".<br /><br />All in all one of the better kung fu movies, made smack-dab in the heart of kung fu cinema's prime. All the really good kung fu movies are from the mid- to late 1970ies, with some notable exceptions from the late '60ies and early '70ies (and early '80ies, to be fair).   \n",
              "3                                                                                                                                                                                                                                                                                                                                                                                                                                                                                                                                                                                                                                                                                                                                                                                                                                                                                                                                                                                                                                                                                                                                             He seems to be a control freak. I have heard him comment on \"losing control of the show\" and tell another guest who brought live animals that he had one rule-\"no snakes.\" He needs to hire a comedy writer because his jokes are lame. The only reason I watch him is because he some some great guests and bands. <br /><br />I watched the Craig Ferguson show for a while but his show is even worse. He likes to bull sh** to burn time.I don't think either man has much of a future in late night talk shows.<br /><br />Daily also has the annoying habit of sticking his tongue out to lick his lips. He must do this at least 10 times a show. I do like the Joe Firstman band. Carson Daily needs to lighten up before it is too late.   \n",
              "\n",
              "                                                                                                                                                                                                                                                                                                                                                                                                                                                                                                                                                                                                                                                                                                                                                                                                                                                                                                                                                                                                                                                                                                                                                                                                                                                                                                                                                                                                                                                                                                                                                                                                                                                                                                                                                                                                          cleaned_text  \n",
              "0                                                                                                                                                                                                                                                                                                                                                                                                                                                                                                                                                                                                                                                                                                                                                                                                                                                                                                                                                                                                                    okay i know this does nt project india in a good light but the overall theme of the movie is not india it s shakti the power of a warlord and the power of a mother the relationship between nandini and her husband and son swallow you up in their warmth then things go terribly wrong the interaction between nandini and her father in law the power of their dysfunctional relationship and the lives changed by it are the strengths of this movie shah rukh khan s performance seems to be a mere cameo compared to the believable desperation of karisma kapoor it is easy to get caught up in the love violence and redemption of lives in this film and find yourself heaving a sigh of relief and sadness at the climax the musical interludes are strengths believable and well done  \n",
              "1  despite john travolta s statements in interviews that this was his favorite role of his career be cool proves to be a disappointing sequel to 1995 s witty and clever get shorty br br travolta delivers a pleasant enough performance in this mildly entertaining film but ultimately the movie falls flat due to an underdeveloped plot unlikeable characters and a surprising lack of chemistry between leads travolta and uma thurman although there are some laughs this unfunny dialog example which appeared frequently in the trailers kind of says it all thurman do you dance travolta hey i m from brooklyn br br the film suggests that everyone in the entertainment business is a gangster or aspires to be one likening it to organized crime in get shorty the premise of a gangster going legitimate by getting into movies was a clever fish out of water idea but in be cool it seems the biz has entirely gone crooked since then br br the film is interestingly casted and the absolute highlight is a monolgue delivered by the rock whose character is an aspiring actor as well as a goon where he reenacts a scene between gabrielle union and kirsten dunst from bring it on vince vaughan s character thinks he s black and he s often seen dressed as a pimp this was quite funny in the first scene that introduces him and gets tired and embarrassing almost immediately afterward br br overall be cool may be worth a rental for john travolta die hards of which i am one but you may want to keep your finger close to the fast forward button to get through it without feeling that you wasted too much time fans of get shorty may actually wish to avoid this as the sequel is devoid of most things that made that one a winner i rate this movie an admittedly harsh 4 10  \n",
              "2                                                                                                                                                                                                                                                                                                                                                                                                                                                                                                                                                                                                                                                                      i am a kung fu fan but not a woo fan i have no interest in gangster movies filled with over the top gun play now martial arts that s beautiful and john woo surprised me here by producing a highly entertaining kung fu movie which almost has too much fighting if such a thing is possible this is good stuff br br many of the fight scenes are very good and some of them are less good and the main characters are amusing and likable the bad guys are a bit too unbelievably evil but entertaining none the less you gotta see the sleeping wizard he can only fight when he s asleep it s hysterical br br upon repeated viewings however last hurrah for chivalry can tend to get a little boring and long winded also especially because many of the fight scenes are actually not that good hence i rate it only a 7 out of 10 but it really is almost an 8 br br all in all one of the better kung fu movies made smack dab in the heart of kung fu cinema s prime all the really good kung fu movies are from the mid to late 1970ies with some notable exceptions from the late 60ies and early 70ies and early 80ies to be fair  \n",
              "3                                                                                                                                                                                                                                                                                                                                                                                                                                                                                                                                                                                                                                                                                                                                                                                                                                                                                                                                                                                                                                                                                               he seems to be a control freak i have heard him comment on losing control of the show and tell another guest who brought live animals that he had one rule no snakes he needs to hire a comedy writer because his jokes are lame the only reason i watch him is because he some some great guests and bands br br i watched the craig ferguson show for a while but his show is even worse he likes to bull sh to burn time i don t think either man has much of a future in late night talk shows br br daily also has the annoying habit of sticking his tongue out to lick his lips he must do this at least 10 times a show i do like the joe firstman band carson daily needs to lighten up before it is too late  "
            ],
            "text/html": [
              "\n",
              "  <div id=\"df-cb62397f-a19c-4621-9fc1-51ffdc194cda\" class=\"colab-df-container\">\n",
              "    <div>\n",
              "<style scoped>\n",
              "    .dataframe tbody tr th:only-of-type {\n",
              "        vertical-align: middle;\n",
              "    }\n",
              "\n",
              "    .dataframe tbody tr th {\n",
              "        vertical-align: top;\n",
              "    }\n",
              "\n",
              "    .dataframe thead th {\n",
              "        text-align: right;\n",
              "    }\n",
              "</style>\n",
              "<table border=\"1\" class=\"dataframe\">\n",
              "  <thead>\n",
              "    <tr style=\"text-align: right;\">\n",
              "      <th></th>\n",
              "      <th>review</th>\n",
              "      <th>cleaned_text</th>\n",
              "    </tr>\n",
              "  </thead>\n",
              "  <tbody>\n",
              "    <tr>\n",
              "      <th>0</th>\n",
              "      <td>Okay, I know this does'nt project India in a good light. But the overall theme of the movie is not India, it's Shakti. The power of a warlord, and the power of a mother. The relationship between Nandini and her husband and son swallow you up in their warmth. Then things go terribly wrong. The interaction between Nandini and her father in law - the power of their dysfunctional relationship - and the lives changed by it are the strengths of this movie. Shah Rukh Khan's performance seems to be a mere cameo compared to the believable desperation of Karisma Kapoor. It is easy to get caught up in the love, violence and redemption of lives in this film, and find yourself heaving a sigh of relief and sadness at the climax. The musical interludes are strengths, believable and well done.</td>\n",
              "      <td>okay i know this does nt project india in a good light but the overall theme of the movie is not india it s shakti the power of a warlord and the power of a mother the relationship between nandini and her husband and son swallow you up in their warmth then things go terribly wrong the interaction between nandini and her father in law the power of their dysfunctional relationship and the lives changed by it are the strengths of this movie shah rukh khan s performance seems to be a mere cameo compared to the believable desperation of karisma kapoor it is easy to get caught up in the love violence and redemption of lives in this film and find yourself heaving a sigh of relief and sadness at the climax the musical interludes are strengths believable and well done</td>\n",
              "    </tr>\n",
              "    <tr>\n",
              "      <th>1</th>\n",
              "      <td>Despite John Travolta's statements in interviews that this was his favorite role of his career, \"Be Cool\" proves to be a disappointing sequel to 1995's witty and clever \"Get Shorty.\"&lt;br /&gt;&lt;br /&gt;Travolta delivers a pleasant enough performance in this mildly entertaining film, but ultimately the movie falls flat due to an underdeveloped plot, unlikeable characters, and a surprising lack of chemistry between leads Travolta and Uma Thurman. Although there are some laughs, this unfunny dialog example (which appeared frequently in the trailers) kind of says it all: Thurman: Do you dance? Travolta: Hey, I'm from Brooklyn.&lt;br /&gt;&lt;br /&gt;The film suggests that everyone in the entertainment business is a gangster or aspires to be one, likening it to organized crime. In \"Get Shorty,\" the premise of a gangster \"going legitimate\" by getting into movies was a clever fish-out-of water idea, but in \"Be Cool,\" it seems the biz has entirely gone crooked since then.&lt;br /&gt;&lt;br /&gt;The film is interestingly casted and the absolute highlight is a \"monolgue\" delivered by The Rock, whose character is an aspiring actor as well as a goon, where he reenacts a scene between Gabrielle Union and Kirsten Dunst from \"Bring It On.\" Vince Vaughan's character thinks he's black and he's often seen dressed as a pimp-- this was quite funny in the first scene that introduces him and gets tired and embarrassing almost immediately afterward.&lt;br /&gt;&lt;br /&gt;Overall, \"Be Cool\" may be worth a rental for John Travolta die-hards (of which I am one), but you may want to keep your finger close to the fast forward button to get through it without feeling that you wasted too much time. Fans of \"Get Shorty\" may actually wish to avoid this, as the sequel is devoid of most things that made that one a winner. I rate this movie an admittedly harsh 4/10.</td>\n",
              "      <td>despite john travolta s statements in interviews that this was his favorite role of his career be cool proves to be a disappointing sequel to 1995 s witty and clever get shorty br br travolta delivers a pleasant enough performance in this mildly entertaining film but ultimately the movie falls flat due to an underdeveloped plot unlikeable characters and a surprising lack of chemistry between leads travolta and uma thurman although there are some laughs this unfunny dialog example which appeared frequently in the trailers kind of says it all thurman do you dance travolta hey i m from brooklyn br br the film suggests that everyone in the entertainment business is a gangster or aspires to be one likening it to organized crime in get shorty the premise of a gangster going legitimate by getting into movies was a clever fish out of water idea but in be cool it seems the biz has entirely gone crooked since then br br the film is interestingly casted and the absolute highlight is a monolgue delivered by the rock whose character is an aspiring actor as well as a goon where he reenacts a scene between gabrielle union and kirsten dunst from bring it on vince vaughan s character thinks he s black and he s often seen dressed as a pimp this was quite funny in the first scene that introduces him and gets tired and embarrassing almost immediately afterward br br overall be cool may be worth a rental for john travolta die hards of which i am one but you may want to keep your finger close to the fast forward button to get through it without feeling that you wasted too much time fans of get shorty may actually wish to avoid this as the sequel is devoid of most things that made that one a winner i rate this movie an admittedly harsh 4 10</td>\n",
              "    </tr>\n",
              "    <tr>\n",
              "      <th>2</th>\n",
              "      <td>I am a kung fu fan, but not a Woo fan. I have no interest in gangster movies filled with over-the-top gun-play. Now, martial arts; *that's* beautiful! And John Woo surprised me here by producing a highly entertaining kung fu movie, which almost has *too much* fighting, if such a thing is possible! This is good stuff.&lt;br /&gt;&lt;br /&gt;Many of the fight scenes are very good (and some of them are less good), and the main characters are amusing and likable. The bad guys are a bit too unbelievably evil, but entertaining none the less. You gotta see the Sleeping Wizard!! He can only fight when he's asleep - it's hysterical!&lt;br /&gt;&lt;br /&gt;Upon repeated viewings, however, Last Hurrah For Chivalry can tend to get a little boring and long-winded, also especially because many of the fight scenes are actually not that good. Hence, I rate it \"only\" a 7 out of 10. But it really is almost an \"8\".&lt;br /&gt;&lt;br /&gt;All in all one of the better kung fu movies, made smack-dab in the heart of kung fu cinema's prime. All the really good kung fu movies are from the mid- to late 1970ies, with some notable exceptions from the late '60ies and early '70ies (and early '80ies, to be fair).</td>\n",
              "      <td>i am a kung fu fan but not a woo fan i have no interest in gangster movies filled with over the top gun play now martial arts that s beautiful and john woo surprised me here by producing a highly entertaining kung fu movie which almost has too much fighting if such a thing is possible this is good stuff br br many of the fight scenes are very good and some of them are less good and the main characters are amusing and likable the bad guys are a bit too unbelievably evil but entertaining none the less you gotta see the sleeping wizard he can only fight when he s asleep it s hysterical br br upon repeated viewings however last hurrah for chivalry can tend to get a little boring and long winded also especially because many of the fight scenes are actually not that good hence i rate it only a 7 out of 10 but it really is almost an 8 br br all in all one of the better kung fu movies made smack dab in the heart of kung fu cinema s prime all the really good kung fu movies are from the mid to late 1970ies with some notable exceptions from the late 60ies and early 70ies and early 80ies to be fair</td>\n",
              "    </tr>\n",
              "    <tr>\n",
              "      <th>3</th>\n",
              "      <td>He seems to be a control freak. I have heard him comment on \"losing control of the show\" and tell another guest who brought live animals that he had one rule-\"no snakes.\" He needs to hire a comedy writer because his jokes are lame. The only reason I watch him is because he some some great guests and bands. &lt;br /&gt;&lt;br /&gt;I watched the Craig Ferguson show for a while but his show is even worse. He likes to bull sh** to burn time.I don't think either man has much of a future in late night talk shows.&lt;br /&gt;&lt;br /&gt;Daily also has the annoying habit of sticking his tongue out to lick his lips. He must do this at least 10 times a show. I do like the Joe Firstman band. Carson Daily needs to lighten up before it is too late.</td>\n",
              "      <td>he seems to be a control freak i have heard him comment on losing control of the show and tell another guest who brought live animals that he had one rule no snakes he needs to hire a comedy writer because his jokes are lame the only reason i watch him is because he some some great guests and bands br br i watched the craig ferguson show for a while but his show is even worse he likes to bull sh to burn time i don t think either man has much of a future in late night talk shows br br daily also has the annoying habit of sticking his tongue out to lick his lips he must do this at least 10 times a show i do like the joe firstman band carson daily needs to lighten up before it is too late</td>\n",
              "    </tr>\n",
              "  </tbody>\n",
              "</table>\n",
              "</div>\n",
              "    <div class=\"colab-df-buttons\">\n",
              "\n",
              "  <div class=\"colab-df-container\">\n",
              "    <button class=\"colab-df-convert\" onclick=\"convertToInteractive('df-cb62397f-a19c-4621-9fc1-51ffdc194cda')\"\n",
              "            title=\"Convert this dataframe to an interactive table.\"\n",
              "            style=\"display:none;\">\n",
              "\n",
              "  <svg xmlns=\"http://www.w3.org/2000/svg\" height=\"24px\" viewBox=\"0 -960 960 960\">\n",
              "    <path d=\"M120-120v-720h720v720H120Zm60-500h600v-160H180v160Zm220 220h160v-160H400v160Zm0 220h160v-160H400v160ZM180-400h160v-160H180v160Zm440 0h160v-160H620v160ZM180-180h160v-160H180v160Zm440 0h160v-160H620v160Z\"/>\n",
              "  </svg>\n",
              "    </button>\n",
              "\n",
              "  <style>\n",
              "    .colab-df-container {\n",
              "      display:flex;\n",
              "      gap: 12px;\n",
              "    }\n",
              "\n",
              "    .colab-df-convert {\n",
              "      background-color: #E8F0FE;\n",
              "      border: none;\n",
              "      border-radius: 50%;\n",
              "      cursor: pointer;\n",
              "      display: none;\n",
              "      fill: #1967D2;\n",
              "      height: 32px;\n",
              "      padding: 0 0 0 0;\n",
              "      width: 32px;\n",
              "    }\n",
              "\n",
              "    .colab-df-convert:hover {\n",
              "      background-color: #E2EBFA;\n",
              "      box-shadow: 0px 1px 2px rgba(60, 64, 67, 0.3), 0px 1px 3px 1px rgba(60, 64, 67, 0.15);\n",
              "      fill: #174EA6;\n",
              "    }\n",
              "\n",
              "    .colab-df-buttons div {\n",
              "      margin-bottom: 4px;\n",
              "    }\n",
              "\n",
              "    [theme=dark] .colab-df-convert {\n",
              "      background-color: #3B4455;\n",
              "      fill: #D2E3FC;\n",
              "    }\n",
              "\n",
              "    [theme=dark] .colab-df-convert:hover {\n",
              "      background-color: #434B5C;\n",
              "      box-shadow: 0px 1px 3px 1px rgba(0, 0, 0, 0.15);\n",
              "      filter: drop-shadow(0px 1px 2px rgba(0, 0, 0, 0.3));\n",
              "      fill: #FFFFFF;\n",
              "    }\n",
              "  </style>\n",
              "\n",
              "    <script>\n",
              "      const buttonEl =\n",
              "        document.querySelector('#df-cb62397f-a19c-4621-9fc1-51ffdc194cda button.colab-df-convert');\n",
              "      buttonEl.style.display =\n",
              "        google.colab.kernel.accessAllowed ? 'block' : 'none';\n",
              "\n",
              "      async function convertToInteractive(key) {\n",
              "        const element = document.querySelector('#df-cb62397f-a19c-4621-9fc1-51ffdc194cda');\n",
              "        const dataTable =\n",
              "          await google.colab.kernel.invokeFunction('convertToInteractive',\n",
              "                                                    [key], {});\n",
              "        if (!dataTable) return;\n",
              "\n",
              "        const docLinkHtml = 'Like what you see? Visit the ' +\n",
              "          '<a target=\"_blank\" href=https://colab.research.google.com/notebooks/data_table.ipynb>data table notebook</a>'\n",
              "          + ' to learn more about interactive tables.';\n",
              "        element.innerHTML = '';\n",
              "        dataTable['output_type'] = 'display_data';\n",
              "        await google.colab.output.renderOutput(dataTable, element);\n",
              "        const docLink = document.createElement('div');\n",
              "        docLink.innerHTML = docLinkHtml;\n",
              "        element.appendChild(docLink);\n",
              "      }\n",
              "    </script>\n",
              "  </div>\n",
              "\n",
              "\n",
              "<div id=\"df-860e1320-a244-4898-8efa-eb7ea78d4e6a\">\n",
              "  <button class=\"colab-df-quickchart\" onclick=\"quickchart('df-860e1320-a244-4898-8efa-eb7ea78d4e6a')\"\n",
              "            title=\"Suggest charts\"\n",
              "            style=\"display:none;\">\n",
              "\n",
              "<svg xmlns=\"http://www.w3.org/2000/svg\" height=\"24px\"viewBox=\"0 0 24 24\"\n",
              "     width=\"24px\">\n",
              "    <g>\n",
              "        <path d=\"M19 3H5c-1.1 0-2 .9-2 2v14c0 1.1.9 2 2 2h14c1.1 0 2-.9 2-2V5c0-1.1-.9-2-2-2zM9 17H7v-7h2v7zm4 0h-2V7h2v10zm4 0h-2v-4h2v4z\"/>\n",
              "    </g>\n",
              "</svg>\n",
              "  </button>\n",
              "\n",
              "<style>\n",
              "  .colab-df-quickchart {\n",
              "      --bg-color: #E8F0FE;\n",
              "      --fill-color: #1967D2;\n",
              "      --hover-bg-color: #E2EBFA;\n",
              "      --hover-fill-color: #174EA6;\n",
              "      --disabled-fill-color: #AAA;\n",
              "      --disabled-bg-color: #DDD;\n",
              "  }\n",
              "\n",
              "  [theme=dark] .colab-df-quickchart {\n",
              "      --bg-color: #3B4455;\n",
              "      --fill-color: #D2E3FC;\n",
              "      --hover-bg-color: #434B5C;\n",
              "      --hover-fill-color: #FFFFFF;\n",
              "      --disabled-bg-color: #3B4455;\n",
              "      --disabled-fill-color: #666;\n",
              "  }\n",
              "\n",
              "  .colab-df-quickchart {\n",
              "    background-color: var(--bg-color);\n",
              "    border: none;\n",
              "    border-radius: 50%;\n",
              "    cursor: pointer;\n",
              "    display: none;\n",
              "    fill: var(--fill-color);\n",
              "    height: 32px;\n",
              "    padding: 0;\n",
              "    width: 32px;\n",
              "  }\n",
              "\n",
              "  .colab-df-quickchart:hover {\n",
              "    background-color: var(--hover-bg-color);\n",
              "    box-shadow: 0 1px 2px rgba(60, 64, 67, 0.3), 0 1px 3px 1px rgba(60, 64, 67, 0.15);\n",
              "    fill: var(--button-hover-fill-color);\n",
              "  }\n",
              "\n",
              "  .colab-df-quickchart-complete:disabled,\n",
              "  .colab-df-quickchart-complete:disabled:hover {\n",
              "    background-color: var(--disabled-bg-color);\n",
              "    fill: var(--disabled-fill-color);\n",
              "    box-shadow: none;\n",
              "  }\n",
              "\n",
              "  .colab-df-spinner {\n",
              "    border: 2px solid var(--fill-color);\n",
              "    border-color: transparent;\n",
              "    border-bottom-color: var(--fill-color);\n",
              "    animation:\n",
              "      spin 1s steps(1) infinite;\n",
              "  }\n",
              "\n",
              "  @keyframes spin {\n",
              "    0% {\n",
              "      border-color: transparent;\n",
              "      border-bottom-color: var(--fill-color);\n",
              "      border-left-color: var(--fill-color);\n",
              "    }\n",
              "    20% {\n",
              "      border-color: transparent;\n",
              "      border-left-color: var(--fill-color);\n",
              "      border-top-color: var(--fill-color);\n",
              "    }\n",
              "    30% {\n",
              "      border-color: transparent;\n",
              "      border-left-color: var(--fill-color);\n",
              "      border-top-color: var(--fill-color);\n",
              "      border-right-color: var(--fill-color);\n",
              "    }\n",
              "    40% {\n",
              "      border-color: transparent;\n",
              "      border-right-color: var(--fill-color);\n",
              "      border-top-color: var(--fill-color);\n",
              "    }\n",
              "    60% {\n",
              "      border-color: transparent;\n",
              "      border-right-color: var(--fill-color);\n",
              "    }\n",
              "    80% {\n",
              "      border-color: transparent;\n",
              "      border-right-color: var(--fill-color);\n",
              "      border-bottom-color: var(--fill-color);\n",
              "    }\n",
              "    90% {\n",
              "      border-color: transparent;\n",
              "      border-bottom-color: var(--fill-color);\n",
              "    }\n",
              "  }\n",
              "</style>\n",
              "\n",
              "  <script>\n",
              "    async function quickchart(key) {\n",
              "      const quickchartButtonEl =\n",
              "        document.querySelector('#' + key + ' button');\n",
              "      quickchartButtonEl.disabled = true;  // To prevent multiple clicks.\n",
              "      quickchartButtonEl.classList.add('colab-df-spinner');\n",
              "      try {\n",
              "        const charts = await google.colab.kernel.invokeFunction(\n",
              "            'suggestCharts', [key], {});\n",
              "      } catch (error) {\n",
              "        console.error('Error during call to suggestCharts:', error);\n",
              "      }\n",
              "      quickchartButtonEl.classList.remove('colab-df-spinner');\n",
              "      quickchartButtonEl.classList.add('colab-df-quickchart-complete');\n",
              "    }\n",
              "    (() => {\n",
              "      let quickchartButtonEl =\n",
              "        document.querySelector('#df-860e1320-a244-4898-8efa-eb7ea78d4e6a button');\n",
              "      quickchartButtonEl.style.display =\n",
              "        google.colab.kernel.accessAllowed ? 'block' : 'none';\n",
              "    })();\n",
              "  </script>\n",
              "</div>\n",
              "\n",
              "    </div>\n",
              "  </div>\n"
            ],
            "application/vnd.google.colaboratory.intrinsic+json": {
              "type": "dataframe",
              "summary": "{\n  \"name\": \"data\",\n  \"rows\": 4,\n  \"fields\": [\n    {\n      \"column\": \"review\",\n      \"properties\": {\n        \"dtype\": \"string\",\n        \"num_unique_values\": 4,\n        \"samples\": [\n          \"Despite John Travolta's statements in interviews that this was his favorite role of his career, \\\"Be Cool\\\" proves to be a disappointing sequel to 1995's witty and clever \\\"Get Shorty.\\\"<br /><br />Travolta delivers a pleasant enough performance in this mildly entertaining film, but ultimately the movie falls flat due to an underdeveloped plot, unlikeable characters, and a surprising lack of chemistry between leads Travolta and Uma Thurman. Although there are some laughs, this unfunny dialog example (which appeared frequently in the trailers) kind of says it all: Thurman: Do you dance? Travolta: Hey, I'm from Brooklyn.<br /><br />The film suggests that everyone in the entertainment business is a gangster or aspires to be one, likening it to organized crime. In \\\"Get Shorty,\\\" the premise of a gangster \\\"going legitimate\\\" by getting into movies was a clever fish-out-of water idea, but in \\\"Be Cool,\\\" it seems the biz has entirely gone crooked since then.<br /><br />The film is interestingly casted and the absolute highlight is a \\\"monolgue\\\" delivered by The Rock, whose character is an aspiring actor as well as a goon, where he reenacts a scene between Gabrielle Union and Kirsten Dunst from \\\"Bring It On.\\\" Vince Vaughan's character thinks he's black and he's often seen dressed as a pimp-- this was quite funny in the first scene that introduces him and gets tired and embarrassing almost immediately afterward.<br /><br />Overall, \\\"Be Cool\\\" may be worth a rental for John Travolta die-hards (of which I am one), but you may want to keep your finger close to the fast forward button to get through it without feeling that you wasted too much time. Fans of \\\"Get Shorty\\\" may actually wish to avoid this, as the sequel is devoid of most things that made that one a winner. I rate this movie an admittedly harsh 4/10.\",\n          \"He seems to be a control freak. I have heard him comment on \\\"losing control of the show\\\" and tell another guest who brought live animals that he had one rule-\\\"no snakes.\\\" He needs to hire a comedy writer because his jokes are lame. The only reason I watch him is because he some some great guests and bands. <br /><br />I watched the Craig Ferguson show for a while but his show is even worse. He likes to bull sh** to burn time.I don't think either man has much of a future in late night talk shows.<br /><br />Daily also has the annoying habit of sticking his tongue out to lick his lips. He must do this at least 10 times a show. I do like the Joe Firstman band. Carson Daily needs to lighten up before it is too late.\",\n          \"Okay, I know this does'nt project India in a good light. But the overall theme of the movie is not India, it's Shakti. The power of a warlord, and the power of a mother. The relationship between Nandini and her husband and son swallow you up in their warmth. Then things go terribly wrong. The interaction between Nandini and her father in law - the power of their dysfunctional relationship - and the lives changed by it are the strengths of this movie. Shah Rukh Khan's performance seems to be a mere cameo compared to the believable desperation of Karisma Kapoor. It is easy to get caught up in the love, violence and redemption of lives in this film, and find yourself heaving a sigh of relief and sadness at the climax. The musical interludes are strengths, believable and well done.\"\n        ],\n        \"semantic_type\": \"\",\n        \"description\": \"\"\n      }\n    },\n    {\n      \"column\": \"cleaned_text\",\n      \"properties\": {\n        \"dtype\": \"string\",\n        \"num_unique_values\": 4,\n        \"samples\": [\n          \"despite john travolta s statements in interviews that this was his favorite role of his career be cool proves to be a disappointing sequel to 1995 s witty and clever get shorty br br travolta delivers a pleasant enough performance in this mildly entertaining film but ultimately the movie falls flat due to an underdeveloped plot unlikeable characters and a surprising lack of chemistry between leads travolta and uma thurman although there are some laughs this unfunny dialog example which appeared frequently in the trailers kind of says it all thurman do you dance travolta hey i m from brooklyn br br the film suggests that everyone in the entertainment business is a gangster or aspires to be one likening it to organized crime in get shorty the premise of a gangster going legitimate by getting into movies was a clever fish out of water idea but in be cool it seems the biz has entirely gone crooked since then br br the film is interestingly casted and the absolute highlight is a monolgue delivered by the rock whose character is an aspiring actor as well as a goon where he reenacts a scene between gabrielle union and kirsten dunst from bring it on vince vaughan s character thinks he s black and he s often seen dressed as a pimp this was quite funny in the first scene that introduces him and gets tired and embarrassing almost immediately afterward br br overall be cool may be worth a rental for john travolta die hards of which i am one but you may want to keep your finger close to the fast forward button to get through it without feeling that you wasted too much time fans of get shorty may actually wish to avoid this as the sequel is devoid of most things that made that one a winner i rate this movie an admittedly harsh 4 10\",\n          \"he seems to be a control freak i have heard him comment on losing control of the show and tell another guest who brought live animals that he had one rule no snakes he needs to hire a comedy writer because his jokes are lame the only reason i watch him is because he some some great guests and bands br br i watched the craig ferguson show for a while but his show is even worse he likes to bull sh to burn time i don t think either man has much of a future in late night talk shows br br daily also has the annoying habit of sticking his tongue out to lick his lips he must do this at least 10 times a show i do like the joe firstman band carson daily needs to lighten up before it is too late\",\n          \"okay i know this does nt project india in a good light but the overall theme of the movie is not india it s shakti the power of a warlord and the power of a mother the relationship between nandini and her husband and son swallow you up in their warmth then things go terribly wrong the interaction between nandini and her father in law the power of their dysfunctional relationship and the lives changed by it are the strengths of this movie shah rukh khan s performance seems to be a mere cameo compared to the believable desperation of karisma kapoor it is easy to get caught up in the love violence and redemption of lives in this film and find yourself heaving a sigh of relief and sadness at the climax the musical interludes are strengths believable and well done\"\n        ],\n        \"semantic_type\": \"\",\n        \"description\": \"\"\n      }\n    }\n  ]\n}"
            }
          },
          "metadata": {},
          "execution_count": 141
        }
      ],
      "source": [
        "# checking a couple of instances of cleaned data\n",
        "data.loc[0:3, ['review','cleaned_text']]"
      ]
    },
    {
      "cell_type": "markdown",
      "metadata": {
        "id": "ycZQiIR9yxBk"
      },
      "source": [
        "* The above code will remove the white spaces in the text"
      ]
    },
    {
      "cell_type": "markdown",
      "metadata": {
        "id": "EwVOVENFz9fJ"
      },
      "source": [
        "### **Removing stopwords**"
      ]
    },
    {
      "cell_type": "markdown",
      "metadata": {
        "id": "ddYQH3ef0AUj"
      },
      "source": [
        "<h2>Why is Removing Stop Words Important?<h2>\n",
        "\n",
        "- Stop words are common words (like \"and,\" \"the,\" and \"is\") that are often excluded from text analysis because they add little meaning to the content.\n",
        "\n",
        "- Excluding frequently occurring words helps emphasize the more significant terms in the text, improving analysis quality.\n",
        "\n",
        "- Removing pronouns and articles, commonly categorized as stop words, minimizes irrelevant information, allowing algorithms to better identify patterns."
      ]
    },
    {
      "cell_type": "markdown",
      "metadata": {
        "id": "cI4bg4EGQM5K"
      },
      "source": [
        "<h2>How to implement stop word removal?</h2>\n",
        "\n",
        "- Start by using a pre-defined list of stop words to identify common words that can be excluded from our analysis.\n",
        "\n",
        "- Downloading a stop words dataset ensures we have an updated collection of these words for accurate filtering.\n",
        "\n",
        "- As the text data grows, manually removing stop words can become tedious and inefficient.\n",
        "\n",
        "- Implementing an automated method to filter out stop words saves time"
      ]
    },
    {
      "cell_type": "markdown",
      "metadata": {
        "id": "t3hi9V3HNl7O"
      },
      "source": [
        "- NLTK (Natural Language Toolkit) is a Python library designed for working with human language data (text) and provides tools for various natural language processing tasks.\n",
        "\n",
        "- NLTK is widely used in academic and research settings, supported by an active community that contributes to its development and documentation, making it a valuable resource for learning and experimentation in NLP.\n",
        "\n",
        "- It is imported using the statement `import nltk`"
      ]
    },
    {
      "cell_type": "code",
      "execution_count": 142,
      "metadata": {
        "id": "W48xWVI5NwVC"
      },
      "outputs": [],
      "source": [
        "import nltk"
      ]
    },
    {
      "cell_type": "markdown",
      "metadata": {
        "id": "QZErYrs2RFoU"
      },
      "source": [
        "- NLTK has a module called stopwords that provides a list of common stop words based on the English language.\n",
        "\n",
        "- This list includes frequently used words that typically do not add significant meaning to text analysis.\n",
        "\n",
        "- We can download this stop words list using the statement `nltk.download('stopwords')`"
      ]
    },
    {
      "cell_type": "code",
      "execution_count": 143,
      "metadata": {
        "colab": {
          "base_uri": "https://localhost:8080/"
        },
        "id": "d8MVsWRLOGdi",
        "outputId": "6b466f6b-176a-4ec4-8e3c-94513135dec0"
      },
      "outputs": [
        {
          "output_type": "stream",
          "name": "stderr",
          "text": [
            "[nltk_data] Downloading package stopwords to /root/nltk_data...\n",
            "[nltk_data]   Package stopwords is already up-to-date!\n"
          ]
        },
        {
          "output_type": "execute_result",
          "data": {
            "text/plain": [
              "True"
            ]
          },
          "metadata": {},
          "execution_count": 143
        }
      ],
      "source": [
        "nltk.download('stopwords')"
      ]
    },
    {
      "cell_type": "markdown",
      "metadata": {
        "id": "wHgjFCmzOJr2"
      },
      "source": [
        "- Once we have downloaded the list, we can use the `corpus` module from `nltk` to load the stopwords"
      ]
    },
    {
      "cell_type": "code",
      "execution_count": 144,
      "metadata": {
        "id": "1oLN35jRORhQ"
      },
      "outputs": [],
      "source": [
        "from nltk.corpus import stopwords"
      ]
    },
    {
      "cell_type": "markdown",
      "metadata": {
        "id": "mKEQCwrNOT_r"
      },
      "source": [
        "- To access the stopwords in the english language, we can use the `words` method from the stopwords module and pass 'english' as the argument.\n",
        "\n",
        "- We will list out the first 10 stopwords"
      ]
    },
    {
      "cell_type": "code",
      "execution_count": 145,
      "metadata": {
        "colab": {
          "base_uri": "https://localhost:8080/"
        },
        "id": "b-duQjJ5Qzfq",
        "outputId": "cacc7294-9251-4c14-96ca-5e88a6004c5c"
      },
      "outputs": [
        {
          "output_type": "execute_result",
          "data": {
            "text/plain": [
              "['i', 'me', 'my', 'myself', 'we', 'our', 'ours', 'ourselves', 'you', \"you're\"]"
            ]
          },
          "metadata": {},
          "execution_count": 145
        }
      ],
      "source": [
        "stopwords.words('english')[:10]"
      ]
    },
    {
      "cell_type": "markdown",
      "metadata": {
        "id": "07xqkA3dRd7z"
      },
      "source": [
        "Using the NLTK stop words list, we can filter reviews by keeping only the words not in this list, allowing us to focus on meaningful content and enhance the quality of our analysis."
      ]
    },
    {
      "cell_type": "markdown",
      "metadata": {
        "id": "7mKCV0pfO5jM"
      },
      "source": [
        "- Suppose you have a list of words, and you are interested in converting it into a sentence as a string."
      ]
    },
    {
      "cell_type": "code",
      "execution_count": 146,
      "metadata": {
        "id": "85gv_0QiPOsf"
      },
      "outputs": [],
      "source": [
        "list_of_words = [\"I\",\"love\",\"Text\",\"Preprocessing\"]"
      ]
    },
    {
      "cell_type": "markdown",
      "metadata": {
        "id": "ZY_ZOhmePUUD"
      },
      "source": [
        "- This is where the join method comes to rescue.\n",
        "\n",
        "  - The `join()` method takes all items in a list and joins them into one string with a seaparator.\n",
        "\n",
        "  - A string must be specified as the separator.\n",
        "\n",
        "  - **Syntax :** string.join(list)"
      ]
    },
    {
      "cell_type": "code",
      "execution_count": 147,
      "metadata": {
        "colab": {
          "base_uri": "https://localhost:8080/",
          "height": 0
        },
        "id": "1MD4X6IqPloX",
        "outputId": "d1b74dac-e4b3-454e-c355-085d0b37619d"
      },
      "outputs": [
        {
          "output_type": "execute_result",
          "data": {
            "text/plain": [
              "'IspacelovespaceTextspacePreprocessing'"
            ],
            "application/vnd.google.colaboratory.intrinsic+json": {
              "type": "string"
            }
          },
          "metadata": {},
          "execution_count": 147
        }
      ],
      "source": [
        "'space'.join(list_of_words)"
      ]
    },
    {
      "cell_type": "markdown",
      "metadata": {
        "id": "JOaY1UQ1Pyt6"
      },
      "source": [
        "- As we can observe, the string 'space' has been added between each element in the list, thus forming a sentence."
      ]
    },
    {
      "cell_type": "code",
      "execution_count": 148,
      "metadata": {
        "colab": {
          "base_uri": "https://localhost:8080/",
          "height": 0
        },
        "id": "Z9awtA-6P_Zm",
        "outputId": "2cc21834-19a5-42a0-ca39-9cc42a48e4f6"
      },
      "outputs": [
        {
          "output_type": "execute_result",
          "data": {
            "text/plain": [
              "'I love Text Preprocessing'"
            ],
            "application/vnd.google.colaboratory.intrinsic+json": {
              "type": "string"
            }
          },
          "metadata": {},
          "execution_count": 148
        }
      ],
      "source": [
        "' '.join(list_of_words)"
      ]
    },
    {
      "cell_type": "markdown",
      "metadata": {
        "id": "xhMK4BeHQCvw"
      },
      "source": [
        "- As we can observe, a whitespace has been added between each element in the list, thus forming a sentence."
      ]
    },
    {
      "cell_type": "markdown",
      "metadata": {
        "id": "RXLZ-M2LUQTU"
      },
      "source": [
        "\n",
        "<h2>1. Splitting the Text</h2>\n",
        "<p>\n",
        "    The first step involves splitting the input <code>text</code> into individual words using the <code>split()</code> method. This method separates the text at each space and creates a list of words.\n",
        "</p>\n",
        "<pre><code>words = text.split()</code></pre>\n",
        "\n",
        "<h2>2. Removing Stop Words</h2>\n",
        "<p>\n",
        "    Next, we remove the English stop words from the list of words. We use a list comprehension to iterate through each word in the <code>words</code> list and check if it is not present in the stop words list obtained from <code>stopwords.words('english')</code>.\n",
        "</p>\n",
        "<pre><code>[word for word in words if word not in stopwords.words('english')]</code></pre>\n",
        "\n",
        "<h2>3. Creating the New Text</h2>\n",
        "<p>\n",
        "    Finally, the remaining words (those not in the stop words list) are joined back together into a single string using the <code>join()</code> method. This creates a new text string that contains only the meaningful words.\n",
        "</p>\n",
        "<pre><code>new_text = ' '.join([word for word in words if word not in stopwords.words('english')])</code></pre>\n",
        "\n",
        "<h2>4. Result</h2>\n",
        "<p>\n",
        "    The resulting <code>new_text</code> variable now holds the filtered text, free of common English stop words, which allows for a more relevant analysis of the content.\n",
        "</p>\n"
      ]
    },
    {
      "cell_type": "code",
      "execution_count": 149,
      "metadata": {
        "colab": {
          "base_uri": "https://localhost:8080/"
        },
        "id": "pQFSIwLhVIPk",
        "outputId": "97114001-c902-4e6e-ab11-9c32c210375a"
      },
      "outputs": [
        {
          "output_type": "stream",
          "name": "stdout",
          "text": [
            "The quick brown fox jumps over the lazy dog.\n",
            "The quick brown fox jumps lazy dog.\n"
          ]
        }
      ],
      "source": [
        "string = \"The quick brown fox jumps over the lazy dog.\"\n",
        "\n",
        "words = string.split(' ')\n",
        "\n",
        "new_text = ' '.join([word for word in words if word not in stopwords.words('english')])\n",
        "\n",
        "print(string)\n",
        "\n",
        "print(new_text)"
      ]
    },
    {
      "cell_type": "markdown",
      "metadata": {
        "id": "Q450TQ2RQMOs"
      },
      "source": [
        "- As we can observe, the stopwords have been removed.\n",
        "- Additionally, we can note that the stopwords are 'over' and 'the', as they are not present in `new_text`."
      ]
    },
    {
      "cell_type": "code",
      "execution_count": 150,
      "metadata": {
        "colab": {
          "base_uri": "https://localhost:8080/"
        },
        "id": "PnaYor_tl0Gn",
        "outputId": "9600016c-fdff-40f3-f20f-cf094978af42"
      },
      "outputs": [
        {
          "output_type": "stream",
          "name": "stdout",
          "text": [
            "In order to succeed, you must first believe that you can.\n",
            "In order succeed, must first believe can.\n"
          ]
        }
      ],
      "source": [
        "string = \"In order to succeed, you must first believe that you can.\"\n",
        "\n",
        "words = string.split(' ')\n",
        "\n",
        "new_text = ' '.join([word for word in words if word not in stopwords.words('english')])\n",
        "\n",
        "print(string)\n",
        "\n",
        "print(new_text)"
      ]
    },
    {
      "cell_type": "markdown",
      "metadata": {
        "id": "ijUL6rI8QezU"
      },
      "source": [
        "- As we can observe, the stopwords have been removed.\n",
        "- Additionally, we can note that the stopwords are 'to', 'you' and 'that', as they are not present in `new_text`."
      ]
    },
    {
      "cell_type": "markdown",
      "metadata": {
        "id": "lPmIA_VUYIp9"
      },
      "source": [
        "- Now, let's try to use this pattern to manipulate one of the reviews in the data."
      ]
    },
    {
      "cell_type": "code",
      "execution_count": 151,
      "metadata": {
        "colab": {
          "base_uri": "https://localhost:8080/"
        },
        "id": "fOhZoqHbOS3V",
        "outputId": "1f388266-5afd-4769-a59c-c102b0ac5160"
      },
      "outputs": [
        {
          "output_type": "stream",
          "name": "stdout",
          "text": [
            "['I', 'think', 'the', 'movie', 'was', 'one', 'sided', 'I', 'watched', 'it', 'recently', 'and', 'find', 'the', 'documentary', 'typical', 'of', 'western', 'movie', 'makers', 'that', 'was', 'biased', 'without', 'substance.', 'The', 'fact', 'is', 'prostitution', 'do', 'exist', 'everywhere', 'in', 'the', 'world', 'not', 'in', 'Tanzania', 'alone', 'and', 'not', 'because', 'of', 'this', 'fish', 'business,', 'there', 'prostitutes', 'were', 'there', 'way', 'before', 'the', 'Russian', 'and', 'other', 'business', 'people', 'arrived', 'in', 'Mwanza.', 'Poverty', 'is', 'indeed', 'endemic', 'in', 'Africa', 'let', 'alone', 'Tanzania', 'and', 'this', 'is', 'not', 'because', 'of', 'fish', 'fillet', 'business,', 'in', 'fact', 'the', 'fish', 'industry', 'has', 'helped', 'millions', 'to', 'support', 'their', 'families', 'on', 'their', 'daily', 'life.', 'This', 'movie', 'just', 'tarnish', 'the', 'good', 'image', 'of', 'this', 'peace', 'loving', 'country.', 'As', 'for', 'the', 'arms', 'trade', 'the', 'film', 'could', 'not', 'substantiate', 'if', 'there', 'is', 'any', 'truth', 'in', 'that', 'indeed', 'looking', 'critically', 'at', 'the', 'films', 'one', 'is', 'doubting', 'the', 'authenticity', 'of', 'the', 'film', 'maker,', 'it', 'seems', 'that', 'their', 'trying', 'to', 'prove', 'their', 'point', 'by', 'using', 'a', 'few', 'characters', 'which', 'can', 'be', 'done', 'for', 'anything', 'really.', 'Yes', 'Tanzania', 'is', 'a', 'poor', 'country', 'yes', 'there', 'are', 'prostitutes', 'and', 'street', 'children', 'but', 'they', 'are', 'not', 'the', 'product', 'this', 'business,', 'it', 'is', 'just', 'a', 'common', 'scenario', 'in', 'most', 'poor', 'countries', 'indeed', 'the', 'world', 'over', 'even', 'in', 'the', 'western', 'world...What', 'a', 'load', 'of', 'rubbish.<br', '/><br', '/>The', 'pilot', 'themselves', 'are', 'talking', 'of', 'sending', 'weapons', 'to', 'Angola', 'which', 'is', 'more', 'than', '2000km', 'south', 'of', 'Tanzania', 'and', 'the', 'war', 'was', 'in', 'DRC', 'also', 'miles', 'away', 'from', 'Mwanza,', 'the', 'director', 'could', 'not', 'give', 'evidence', 'how', 'these', 'weapons', 'were', 'transported', 'from', 'Mwanza', 'to', 'DRC!<br', '/><br', '/>In', 'short', 'the', 'films', 'lacks', 'focus', 'and', 'respectability,', 'it', 'is', 'quite', 'easy', 'to', 'find', 'the', 'character', 'anywhere', 'in', 'Africa', 'and', 'has', 'nothing', 'to', 'do', \"Darwin's\", 'nightmare', 'or', 'fish', 'fillet...What', 'a', 'load', 'of', 'rubbish!<br', '/><br', '/>The', 'truth', 'is', 'the', 'Nile', 'perch', 'has', 'not', 'decimated', 'all', 'other', 'species', 'in', 'the', 'lake', 'contrary', 'to', 'what', 'the', 'movie', 'portrays', 'and', 'also', 'less', 'than', '25%', 'of', 'all', 'catches', 'from', 'lake', 'Victoria', 'are', 'exported', 'the', 'rest', 'is', 'consumed', 'locally', 'so', 'lets', 'get', 'that', 'one', 'right.']\n",
            "I think movie one sided I watched recently find documentary typical western movie makers biased without substance. The fact prostitution exist everywhere world Tanzania alone fish business, prostitutes way Russian business people arrived Mwanza. Poverty indeed endemic Africa let alone Tanzania fish fillet business, fact fish industry helped millions support families daily life. This movie tarnish good image peace loving country. As arms trade film could substantiate truth indeed looking critically films one doubting authenticity film maker, seems trying prove point using characters done anything really. Yes Tanzania poor country yes prostitutes street children product business, common scenario poor countries indeed world even western world...What load rubbish.<br /><br />The pilot talking sending weapons Angola 2000km south Tanzania war DRC also miles away Mwanza, director could give evidence weapons transported Mwanza DRC!<br /><br />In short films lacks focus respectability, quite easy find character anywhere Africa nothing Darwin's nightmare fish fillet...What load rubbish!<br /><br />The truth Nile perch decimated species lake contrary movie portrays also less 25% catches lake Victoria exported rest consumed locally lets get one right.\n"
          ]
        }
      ],
      "source": [
        "review = data['review'][25]\n",
        "\n",
        "words = review.split(' ')\n",
        "\n",
        "new_text = ' '.join([word for word in words if word not in stopwords.words('english')])\n",
        "\n",
        "\n",
        "print(words)\n",
        "print(new_text)"
      ]
    },
    {
      "cell_type": "markdown",
      "metadata": {
        "id": "ay32sKc_QngK"
      },
      "source": [
        "- As we can observe, the stopwords have been removed.\n"
      ]
    },
    {
      "cell_type": "markdown",
      "metadata": {
        "id": "B9vTluh-U3sm"
      },
      "source": [
        "- Until now, we have been removing stop words from individual reviews one by one. While this method is effective, it can be inefficient when processing a larger number of reviews.\n",
        "\n",
        "- To streamline our process, we want to remove stop words from all reviews in the DataFrame at once instead of handling each one separately.\n",
        "\n",
        "- By defining a function called ***remove_stopwords*** using the NLTK library, we can efficiently apply the stop word removal to every review in the DataFrame in a single operation.\n",
        "\n",
        "  - This function splits the text into separate words, removes English language stop words, and then joins the remaining words back into a single string, ensuring that all reviews are cleaned and ready for analysis.\n",
        "\n",
        "- To implement this, we will apply the ***remove_stopwords*** function to the review column in our DataFrame using the Pandas ***apply()*** method, allowing us to filter out common stop words from each review and enhance the quality of our text analysis."
      ]
    },
    {
      "cell_type": "code",
      "execution_count": 152,
      "metadata": {
        "id": "Zof2x5co2X8g"
      },
      "outputs": [],
      "source": [
        "# defining a function to remove stop words using the NLTK library\n",
        "def remove_stopwords(text):\n",
        "    # Split text into separate words\n",
        "    words = text.split()\n",
        "\n",
        "    # Removing English language stopwords\n",
        "    new_text = ' '.join([word for word in words if word not in stopwords.words('english')])\n",
        "\n",
        "    return new_text"
      ]
    },
    {
      "cell_type": "code",
      "execution_count": 153,
      "metadata": {
        "id": "XtmKZqDwfOlt"
      },
      "outputs": [],
      "source": [
        "# Applying the function to remove stop words using the NLTK library\n",
        "data['cleaned_text_without_stopwords'] = data['cleaned_text'].apply(remove_stopwords)"
      ]
    },
    {
      "cell_type": "code",
      "execution_count": 154,
      "metadata": {
        "colab": {
          "base_uri": "https://localhost:8080/",
          "height": 0
        },
        "id": "zikSkmBDfsu9",
        "outputId": "3dd4f9b6-3865-40bb-fc9e-ae6d6402ab61"
      },
      "outputs": [
        {
          "output_type": "execute_result",
          "data": {
            "text/plain": [
              "                                                                                                                                                                                                                                                                                                                                                                                                                                                                                                                                                                                                                                                                                                                                                                                                                                                                                                                                                                                                                                                                                                                                                                                                                                                                                                                                                                                                                                                                                                                                                                                                                                                                                                                                                                                                          cleaned_text  \\\n",
              "0                                                                                                                                                                                                                                                                                                                                                                                                                                                                                                                                                                                                                                                                                                                                                                                                                                                                                                                                                                                                                    okay i know this does nt project india in a good light but the overall theme of the movie is not india it s shakti the power of a warlord and the power of a mother the relationship between nandini and her husband and son swallow you up in their warmth then things go terribly wrong the interaction between nandini and her father in law the power of their dysfunctional relationship and the lives changed by it are the strengths of this movie shah rukh khan s performance seems to be a mere cameo compared to the believable desperation of karisma kapoor it is easy to get caught up in the love violence and redemption of lives in this film and find yourself heaving a sigh of relief and sadness at the climax the musical interludes are strengths believable and well done   \n",
              "1  despite john travolta s statements in interviews that this was his favorite role of his career be cool proves to be a disappointing sequel to 1995 s witty and clever get shorty br br travolta delivers a pleasant enough performance in this mildly entertaining film but ultimately the movie falls flat due to an underdeveloped plot unlikeable characters and a surprising lack of chemistry between leads travolta and uma thurman although there are some laughs this unfunny dialog example which appeared frequently in the trailers kind of says it all thurman do you dance travolta hey i m from brooklyn br br the film suggests that everyone in the entertainment business is a gangster or aspires to be one likening it to organized crime in get shorty the premise of a gangster going legitimate by getting into movies was a clever fish out of water idea but in be cool it seems the biz has entirely gone crooked since then br br the film is interestingly casted and the absolute highlight is a monolgue delivered by the rock whose character is an aspiring actor as well as a goon where he reenacts a scene between gabrielle union and kirsten dunst from bring it on vince vaughan s character thinks he s black and he s often seen dressed as a pimp this was quite funny in the first scene that introduces him and gets tired and embarrassing almost immediately afterward br br overall be cool may be worth a rental for john travolta die hards of which i am one but you may want to keep your finger close to the fast forward button to get through it without feeling that you wasted too much time fans of get shorty may actually wish to avoid this as the sequel is devoid of most things that made that one a winner i rate this movie an admittedly harsh 4 10   \n",
              "2                                                                                                                                                                                                                                                                                                                                                                                                                                                                                                                                                                                                                                                                      i am a kung fu fan but not a woo fan i have no interest in gangster movies filled with over the top gun play now martial arts that s beautiful and john woo surprised me here by producing a highly entertaining kung fu movie which almost has too much fighting if such a thing is possible this is good stuff br br many of the fight scenes are very good and some of them are less good and the main characters are amusing and likable the bad guys are a bit too unbelievably evil but entertaining none the less you gotta see the sleeping wizard he can only fight when he s asleep it s hysterical br br upon repeated viewings however last hurrah for chivalry can tend to get a little boring and long winded also especially because many of the fight scenes are actually not that good hence i rate it only a 7 out of 10 but it really is almost an 8 br br all in all one of the better kung fu movies made smack dab in the heart of kung fu cinema s prime all the really good kung fu movies are from the mid to late 1970ies with some notable exceptions from the late 60ies and early 70ies and early 80ies to be fair   \n",
              "3                                                                                                                                                                                                                                                                                                                                                                                                                                                                                                                                                                                                                                                                                                                                                                                                                                                                                                                                                                                                                                                                                               he seems to be a control freak i have heard him comment on losing control of the show and tell another guest who brought live animals that he had one rule no snakes he needs to hire a comedy writer because his jokes are lame the only reason i watch him is because he some some great guests and bands br br i watched the craig ferguson show for a while but his show is even worse he likes to bull sh to burn time i don t think either man has much of a future in late night talk shows br br daily also has the annoying habit of sticking his tongue out to lick his lips he must do this at least 10 times a show i do like the joe firstman band carson daily needs to lighten up before it is too late   \n",
              "\n",
              "                                                                                                                                                                                                                                                                                                                                                                                                                                                                                                                                                                                                                                                                                                                                                                                                                                                                                                                                                                                                                                                                                                                                                                                                                                                               cleaned_text_without_stopwords  \n",
              "0                                                                                                                                                                                                                                                                                                                                                                                                                                                                                                                                                                                                                                                                                                                                                                           okay know nt project india good light overall theme movie india shakti power warlord power mother relationship nandini husband son swallow warmth things go terribly wrong interaction nandini father law power dysfunctional relationship lives changed strengths movie shah rukh khan performance seems mere cameo compared believable desperation karisma kapoor easy get caught love violence redemption lives film find heaving sigh relief sadness climax musical interludes strengths believable well done  \n",
              "1  despite john travolta statements interviews favorite role career cool proves disappointing sequel 1995 witty clever get shorty br br travolta delivers pleasant enough performance mildly entertaining film ultimately movie falls flat due underdeveloped plot unlikeable characters surprising lack chemistry leads travolta uma thurman although laughs unfunny dialog example appeared frequently trailers kind says thurman dance travolta hey brooklyn br br film suggests everyone entertainment business gangster aspires one likening organized crime get shorty premise gangster going legitimate getting movies clever fish water idea cool seems biz entirely gone crooked since br br film interestingly casted absolute highlight monolgue delivered rock whose character aspiring actor well goon reenacts scene gabrielle union kirsten dunst bring vince vaughan character thinks black often seen dressed pimp quite funny first scene introduces gets tired embarrassing almost immediately afterward br br overall cool may worth rental john travolta die hards one may want keep finger close fast forward button get without feeling wasted much time fans get shorty may actually wish avoid sequel devoid things made one winner rate movie admittedly harsh 4 10  \n",
              "2                                                                                                                                                                                                                                                                                                                                                                                                                                                                                                                                          kung fu fan woo fan interest gangster movies filled top gun play martial arts beautiful john woo surprised producing highly entertaining kung fu movie almost much fighting thing possible good stuff br br many fight scenes good less good main characters amusing likable bad guys bit unbelievably evil entertaining none less gotta see sleeping wizard fight asleep hysterical br br upon repeated viewings however last hurrah chivalry tend get little boring long winded also especially many fight scenes actually good hence rate 7 10 really almost 8 br br one better kung fu movies made smack dab heart kung fu cinema prime really good kung fu movies mid late 1970ies notable exceptions late 60ies early 70ies early 80ies fair  \n",
              "3                                                                                                                                                                                                                                                                                                                                                                                                                                                                                                                                                                                                                                                                                                                                                                                                                                    seems control freak heard comment losing control show tell another guest brought live animals one rule snakes needs hire comedy writer jokes lame reason watch great guests bands br br watched craig ferguson show show even worse likes bull sh burn time think either man much future late night talk shows br br daily also annoying habit sticking tongue lick lips must least 10 times show like joe firstman band carson daily needs lighten late  "
            ],
            "text/html": [
              "\n",
              "  <div id=\"df-7c980d5d-77e3-4c8e-9766-65d761f3707e\" class=\"colab-df-container\">\n",
              "    <div>\n",
              "<style scoped>\n",
              "    .dataframe tbody tr th:only-of-type {\n",
              "        vertical-align: middle;\n",
              "    }\n",
              "\n",
              "    .dataframe tbody tr th {\n",
              "        vertical-align: top;\n",
              "    }\n",
              "\n",
              "    .dataframe thead th {\n",
              "        text-align: right;\n",
              "    }\n",
              "</style>\n",
              "<table border=\"1\" class=\"dataframe\">\n",
              "  <thead>\n",
              "    <tr style=\"text-align: right;\">\n",
              "      <th></th>\n",
              "      <th>cleaned_text</th>\n",
              "      <th>cleaned_text_without_stopwords</th>\n",
              "    </tr>\n",
              "  </thead>\n",
              "  <tbody>\n",
              "    <tr>\n",
              "      <th>0</th>\n",
              "      <td>okay i know this does nt project india in a good light but the overall theme of the movie is not india it s shakti the power of a warlord and the power of a mother the relationship between nandini and her husband and son swallow you up in their warmth then things go terribly wrong the interaction between nandini and her father in law the power of their dysfunctional relationship and the lives changed by it are the strengths of this movie shah rukh khan s performance seems to be a mere cameo compared to the believable desperation of karisma kapoor it is easy to get caught up in the love violence and redemption of lives in this film and find yourself heaving a sigh of relief and sadness at the climax the musical interludes are strengths believable and well done</td>\n",
              "      <td>okay know nt project india good light overall theme movie india shakti power warlord power mother relationship nandini husband son swallow warmth things go terribly wrong interaction nandini father law power dysfunctional relationship lives changed strengths movie shah rukh khan performance seems mere cameo compared believable desperation karisma kapoor easy get caught love violence redemption lives film find heaving sigh relief sadness climax musical interludes strengths believable well done</td>\n",
              "    </tr>\n",
              "    <tr>\n",
              "      <th>1</th>\n",
              "      <td>despite john travolta s statements in interviews that this was his favorite role of his career be cool proves to be a disappointing sequel to 1995 s witty and clever get shorty br br travolta delivers a pleasant enough performance in this mildly entertaining film but ultimately the movie falls flat due to an underdeveloped plot unlikeable characters and a surprising lack of chemistry between leads travolta and uma thurman although there are some laughs this unfunny dialog example which appeared frequently in the trailers kind of says it all thurman do you dance travolta hey i m from brooklyn br br the film suggests that everyone in the entertainment business is a gangster or aspires to be one likening it to organized crime in get shorty the premise of a gangster going legitimate by getting into movies was a clever fish out of water idea but in be cool it seems the biz has entirely gone crooked since then br br the film is interestingly casted and the absolute highlight is a monolgue delivered by the rock whose character is an aspiring actor as well as a goon where he reenacts a scene between gabrielle union and kirsten dunst from bring it on vince vaughan s character thinks he s black and he s often seen dressed as a pimp this was quite funny in the first scene that introduces him and gets tired and embarrassing almost immediately afterward br br overall be cool may be worth a rental for john travolta die hards of which i am one but you may want to keep your finger close to the fast forward button to get through it without feeling that you wasted too much time fans of get shorty may actually wish to avoid this as the sequel is devoid of most things that made that one a winner i rate this movie an admittedly harsh 4 10</td>\n",
              "      <td>despite john travolta statements interviews favorite role career cool proves disappointing sequel 1995 witty clever get shorty br br travolta delivers pleasant enough performance mildly entertaining film ultimately movie falls flat due underdeveloped plot unlikeable characters surprising lack chemistry leads travolta uma thurman although laughs unfunny dialog example appeared frequently trailers kind says thurman dance travolta hey brooklyn br br film suggests everyone entertainment business gangster aspires one likening organized crime get shorty premise gangster going legitimate getting movies clever fish water idea cool seems biz entirely gone crooked since br br film interestingly casted absolute highlight monolgue delivered rock whose character aspiring actor well goon reenacts scene gabrielle union kirsten dunst bring vince vaughan character thinks black often seen dressed pimp quite funny first scene introduces gets tired embarrassing almost immediately afterward br br overall cool may worth rental john travolta die hards one may want keep finger close fast forward button get without feeling wasted much time fans get shorty may actually wish avoid sequel devoid things made one winner rate movie admittedly harsh 4 10</td>\n",
              "    </tr>\n",
              "    <tr>\n",
              "      <th>2</th>\n",
              "      <td>i am a kung fu fan but not a woo fan i have no interest in gangster movies filled with over the top gun play now martial arts that s beautiful and john woo surprised me here by producing a highly entertaining kung fu movie which almost has too much fighting if such a thing is possible this is good stuff br br many of the fight scenes are very good and some of them are less good and the main characters are amusing and likable the bad guys are a bit too unbelievably evil but entertaining none the less you gotta see the sleeping wizard he can only fight when he s asleep it s hysterical br br upon repeated viewings however last hurrah for chivalry can tend to get a little boring and long winded also especially because many of the fight scenes are actually not that good hence i rate it only a 7 out of 10 but it really is almost an 8 br br all in all one of the better kung fu movies made smack dab in the heart of kung fu cinema s prime all the really good kung fu movies are from the mid to late 1970ies with some notable exceptions from the late 60ies and early 70ies and early 80ies to be fair</td>\n",
              "      <td>kung fu fan woo fan interest gangster movies filled top gun play martial arts beautiful john woo surprised producing highly entertaining kung fu movie almost much fighting thing possible good stuff br br many fight scenes good less good main characters amusing likable bad guys bit unbelievably evil entertaining none less gotta see sleeping wizard fight asleep hysterical br br upon repeated viewings however last hurrah chivalry tend get little boring long winded also especially many fight scenes actually good hence rate 7 10 really almost 8 br br one better kung fu movies made smack dab heart kung fu cinema prime really good kung fu movies mid late 1970ies notable exceptions late 60ies early 70ies early 80ies fair</td>\n",
              "    </tr>\n",
              "    <tr>\n",
              "      <th>3</th>\n",
              "      <td>he seems to be a control freak i have heard him comment on losing control of the show and tell another guest who brought live animals that he had one rule no snakes he needs to hire a comedy writer because his jokes are lame the only reason i watch him is because he some some great guests and bands br br i watched the craig ferguson show for a while but his show is even worse he likes to bull sh to burn time i don t think either man has much of a future in late night talk shows br br daily also has the annoying habit of sticking his tongue out to lick his lips he must do this at least 10 times a show i do like the joe firstman band carson daily needs to lighten up before it is too late</td>\n",
              "      <td>seems control freak heard comment losing control show tell another guest brought live animals one rule snakes needs hire comedy writer jokes lame reason watch great guests bands br br watched craig ferguson show show even worse likes bull sh burn time think either man much future late night talk shows br br daily also annoying habit sticking tongue lick lips must least 10 times show like joe firstman band carson daily needs lighten late</td>\n",
              "    </tr>\n",
              "  </tbody>\n",
              "</table>\n",
              "</div>\n",
              "    <div class=\"colab-df-buttons\">\n",
              "\n",
              "  <div class=\"colab-df-container\">\n",
              "    <button class=\"colab-df-convert\" onclick=\"convertToInteractive('df-7c980d5d-77e3-4c8e-9766-65d761f3707e')\"\n",
              "            title=\"Convert this dataframe to an interactive table.\"\n",
              "            style=\"display:none;\">\n",
              "\n",
              "  <svg xmlns=\"http://www.w3.org/2000/svg\" height=\"24px\" viewBox=\"0 -960 960 960\">\n",
              "    <path d=\"M120-120v-720h720v720H120Zm60-500h600v-160H180v160Zm220 220h160v-160H400v160Zm0 220h160v-160H400v160ZM180-400h160v-160H180v160Zm440 0h160v-160H620v160ZM180-180h160v-160H180v160Zm440 0h160v-160H620v160Z\"/>\n",
              "  </svg>\n",
              "    </button>\n",
              "\n",
              "  <style>\n",
              "    .colab-df-container {\n",
              "      display:flex;\n",
              "      gap: 12px;\n",
              "    }\n",
              "\n",
              "    .colab-df-convert {\n",
              "      background-color: #E8F0FE;\n",
              "      border: none;\n",
              "      border-radius: 50%;\n",
              "      cursor: pointer;\n",
              "      display: none;\n",
              "      fill: #1967D2;\n",
              "      height: 32px;\n",
              "      padding: 0 0 0 0;\n",
              "      width: 32px;\n",
              "    }\n",
              "\n",
              "    .colab-df-convert:hover {\n",
              "      background-color: #E2EBFA;\n",
              "      box-shadow: 0px 1px 2px rgba(60, 64, 67, 0.3), 0px 1px 3px 1px rgba(60, 64, 67, 0.15);\n",
              "      fill: #174EA6;\n",
              "    }\n",
              "\n",
              "    .colab-df-buttons div {\n",
              "      margin-bottom: 4px;\n",
              "    }\n",
              "\n",
              "    [theme=dark] .colab-df-convert {\n",
              "      background-color: #3B4455;\n",
              "      fill: #D2E3FC;\n",
              "    }\n",
              "\n",
              "    [theme=dark] .colab-df-convert:hover {\n",
              "      background-color: #434B5C;\n",
              "      box-shadow: 0px 1px 3px 1px rgba(0, 0, 0, 0.15);\n",
              "      filter: drop-shadow(0px 1px 2px rgba(0, 0, 0, 0.3));\n",
              "      fill: #FFFFFF;\n",
              "    }\n",
              "  </style>\n",
              "\n",
              "    <script>\n",
              "      const buttonEl =\n",
              "        document.querySelector('#df-7c980d5d-77e3-4c8e-9766-65d761f3707e button.colab-df-convert');\n",
              "      buttonEl.style.display =\n",
              "        google.colab.kernel.accessAllowed ? 'block' : 'none';\n",
              "\n",
              "      async function convertToInteractive(key) {\n",
              "        const element = document.querySelector('#df-7c980d5d-77e3-4c8e-9766-65d761f3707e');\n",
              "        const dataTable =\n",
              "          await google.colab.kernel.invokeFunction('convertToInteractive',\n",
              "                                                    [key], {});\n",
              "        if (!dataTable) return;\n",
              "\n",
              "        const docLinkHtml = 'Like what you see? Visit the ' +\n",
              "          '<a target=\"_blank\" href=https://colab.research.google.com/notebooks/data_table.ipynb>data table notebook</a>'\n",
              "          + ' to learn more about interactive tables.';\n",
              "        element.innerHTML = '';\n",
              "        dataTable['output_type'] = 'display_data';\n",
              "        await google.colab.output.renderOutput(dataTable, element);\n",
              "        const docLink = document.createElement('div');\n",
              "        docLink.innerHTML = docLinkHtml;\n",
              "        element.appendChild(docLink);\n",
              "      }\n",
              "    </script>\n",
              "  </div>\n",
              "\n",
              "\n",
              "<div id=\"df-67f2871d-3f08-4f62-a181-0174d5435d21\">\n",
              "  <button class=\"colab-df-quickchart\" onclick=\"quickchart('df-67f2871d-3f08-4f62-a181-0174d5435d21')\"\n",
              "            title=\"Suggest charts\"\n",
              "            style=\"display:none;\">\n",
              "\n",
              "<svg xmlns=\"http://www.w3.org/2000/svg\" height=\"24px\"viewBox=\"0 0 24 24\"\n",
              "     width=\"24px\">\n",
              "    <g>\n",
              "        <path d=\"M19 3H5c-1.1 0-2 .9-2 2v14c0 1.1.9 2 2 2h14c1.1 0 2-.9 2-2V5c0-1.1-.9-2-2-2zM9 17H7v-7h2v7zm4 0h-2V7h2v10zm4 0h-2v-4h2v4z\"/>\n",
              "    </g>\n",
              "</svg>\n",
              "  </button>\n",
              "\n",
              "<style>\n",
              "  .colab-df-quickchart {\n",
              "      --bg-color: #E8F0FE;\n",
              "      --fill-color: #1967D2;\n",
              "      --hover-bg-color: #E2EBFA;\n",
              "      --hover-fill-color: #174EA6;\n",
              "      --disabled-fill-color: #AAA;\n",
              "      --disabled-bg-color: #DDD;\n",
              "  }\n",
              "\n",
              "  [theme=dark] .colab-df-quickchart {\n",
              "      --bg-color: #3B4455;\n",
              "      --fill-color: #D2E3FC;\n",
              "      --hover-bg-color: #434B5C;\n",
              "      --hover-fill-color: #FFFFFF;\n",
              "      --disabled-bg-color: #3B4455;\n",
              "      --disabled-fill-color: #666;\n",
              "  }\n",
              "\n",
              "  .colab-df-quickchart {\n",
              "    background-color: var(--bg-color);\n",
              "    border: none;\n",
              "    border-radius: 50%;\n",
              "    cursor: pointer;\n",
              "    display: none;\n",
              "    fill: var(--fill-color);\n",
              "    height: 32px;\n",
              "    padding: 0;\n",
              "    width: 32px;\n",
              "  }\n",
              "\n",
              "  .colab-df-quickchart:hover {\n",
              "    background-color: var(--hover-bg-color);\n",
              "    box-shadow: 0 1px 2px rgba(60, 64, 67, 0.3), 0 1px 3px 1px rgba(60, 64, 67, 0.15);\n",
              "    fill: var(--button-hover-fill-color);\n",
              "  }\n",
              "\n",
              "  .colab-df-quickchart-complete:disabled,\n",
              "  .colab-df-quickchart-complete:disabled:hover {\n",
              "    background-color: var(--disabled-bg-color);\n",
              "    fill: var(--disabled-fill-color);\n",
              "    box-shadow: none;\n",
              "  }\n",
              "\n",
              "  .colab-df-spinner {\n",
              "    border: 2px solid var(--fill-color);\n",
              "    border-color: transparent;\n",
              "    border-bottom-color: var(--fill-color);\n",
              "    animation:\n",
              "      spin 1s steps(1) infinite;\n",
              "  }\n",
              "\n",
              "  @keyframes spin {\n",
              "    0% {\n",
              "      border-color: transparent;\n",
              "      border-bottom-color: var(--fill-color);\n",
              "      border-left-color: var(--fill-color);\n",
              "    }\n",
              "    20% {\n",
              "      border-color: transparent;\n",
              "      border-left-color: var(--fill-color);\n",
              "      border-top-color: var(--fill-color);\n",
              "    }\n",
              "    30% {\n",
              "      border-color: transparent;\n",
              "      border-left-color: var(--fill-color);\n",
              "      border-top-color: var(--fill-color);\n",
              "      border-right-color: var(--fill-color);\n",
              "    }\n",
              "    40% {\n",
              "      border-color: transparent;\n",
              "      border-right-color: var(--fill-color);\n",
              "      border-top-color: var(--fill-color);\n",
              "    }\n",
              "    60% {\n",
              "      border-color: transparent;\n",
              "      border-right-color: var(--fill-color);\n",
              "    }\n",
              "    80% {\n",
              "      border-color: transparent;\n",
              "      border-right-color: var(--fill-color);\n",
              "      border-bottom-color: var(--fill-color);\n",
              "    }\n",
              "    90% {\n",
              "      border-color: transparent;\n",
              "      border-bottom-color: var(--fill-color);\n",
              "    }\n",
              "  }\n",
              "</style>\n",
              "\n",
              "  <script>\n",
              "    async function quickchart(key) {\n",
              "      const quickchartButtonEl =\n",
              "        document.querySelector('#' + key + ' button');\n",
              "      quickchartButtonEl.disabled = true;  // To prevent multiple clicks.\n",
              "      quickchartButtonEl.classList.add('colab-df-spinner');\n",
              "      try {\n",
              "        const charts = await google.colab.kernel.invokeFunction(\n",
              "            'suggestCharts', [key], {});\n",
              "      } catch (error) {\n",
              "        console.error('Error during call to suggestCharts:', error);\n",
              "      }\n",
              "      quickchartButtonEl.classList.remove('colab-df-spinner');\n",
              "      quickchartButtonEl.classList.add('colab-df-quickchart-complete');\n",
              "    }\n",
              "    (() => {\n",
              "      let quickchartButtonEl =\n",
              "        document.querySelector('#df-67f2871d-3f08-4f62-a181-0174d5435d21 button');\n",
              "      quickchartButtonEl.style.display =\n",
              "        google.colab.kernel.accessAllowed ? 'block' : 'none';\n",
              "    })();\n",
              "  </script>\n",
              "</div>\n",
              "\n",
              "    </div>\n",
              "  </div>\n"
            ],
            "application/vnd.google.colaboratory.intrinsic+json": {
              "type": "dataframe",
              "summary": "{\n  \"name\": \"data\",\n  \"rows\": 4,\n  \"fields\": [\n    {\n      \"column\": \"cleaned_text\",\n      \"properties\": {\n        \"dtype\": \"string\",\n        \"num_unique_values\": 4,\n        \"samples\": [\n          \"despite john travolta s statements in interviews that this was his favorite role of his career be cool proves to be a disappointing sequel to 1995 s witty and clever get shorty br br travolta delivers a pleasant enough performance in this mildly entertaining film but ultimately the movie falls flat due to an underdeveloped plot unlikeable characters and a surprising lack of chemistry between leads travolta and uma thurman although there are some laughs this unfunny dialog example which appeared frequently in the trailers kind of says it all thurman do you dance travolta hey i m from brooklyn br br the film suggests that everyone in the entertainment business is a gangster or aspires to be one likening it to organized crime in get shorty the premise of a gangster going legitimate by getting into movies was a clever fish out of water idea but in be cool it seems the biz has entirely gone crooked since then br br the film is interestingly casted and the absolute highlight is a monolgue delivered by the rock whose character is an aspiring actor as well as a goon where he reenacts a scene between gabrielle union and kirsten dunst from bring it on vince vaughan s character thinks he s black and he s often seen dressed as a pimp this was quite funny in the first scene that introduces him and gets tired and embarrassing almost immediately afterward br br overall be cool may be worth a rental for john travolta die hards of which i am one but you may want to keep your finger close to the fast forward button to get through it without feeling that you wasted too much time fans of get shorty may actually wish to avoid this as the sequel is devoid of most things that made that one a winner i rate this movie an admittedly harsh 4 10\",\n          \"he seems to be a control freak i have heard him comment on losing control of the show and tell another guest who brought live animals that he had one rule no snakes he needs to hire a comedy writer because his jokes are lame the only reason i watch him is because he some some great guests and bands br br i watched the craig ferguson show for a while but his show is even worse he likes to bull sh to burn time i don t think either man has much of a future in late night talk shows br br daily also has the annoying habit of sticking his tongue out to lick his lips he must do this at least 10 times a show i do like the joe firstman band carson daily needs to lighten up before it is too late\",\n          \"okay i know this does nt project india in a good light but the overall theme of the movie is not india it s shakti the power of a warlord and the power of a mother the relationship between nandini and her husband and son swallow you up in their warmth then things go terribly wrong the interaction between nandini and her father in law the power of their dysfunctional relationship and the lives changed by it are the strengths of this movie shah rukh khan s performance seems to be a mere cameo compared to the believable desperation of karisma kapoor it is easy to get caught up in the love violence and redemption of lives in this film and find yourself heaving a sigh of relief and sadness at the climax the musical interludes are strengths believable and well done\"\n        ],\n        \"semantic_type\": \"\",\n        \"description\": \"\"\n      }\n    },\n    {\n      \"column\": \"cleaned_text_without_stopwords\",\n      \"properties\": {\n        \"dtype\": \"string\",\n        \"num_unique_values\": 4,\n        \"samples\": [\n          \"despite john travolta statements interviews favorite role career cool proves disappointing sequel 1995 witty clever get shorty br br travolta delivers pleasant enough performance mildly entertaining film ultimately movie falls flat due underdeveloped plot unlikeable characters surprising lack chemistry leads travolta uma thurman although laughs unfunny dialog example appeared frequently trailers kind says thurman dance travolta hey brooklyn br br film suggests everyone entertainment business gangster aspires one likening organized crime get shorty premise gangster going legitimate getting movies clever fish water idea cool seems biz entirely gone crooked since br br film interestingly casted absolute highlight monolgue delivered rock whose character aspiring actor well goon reenacts scene gabrielle union kirsten dunst bring vince vaughan character thinks black often seen dressed pimp quite funny first scene introduces gets tired embarrassing almost immediately afterward br br overall cool may worth rental john travolta die hards one may want keep finger close fast forward button get without feeling wasted much time fans get shorty may actually wish avoid sequel devoid things made one winner rate movie admittedly harsh 4 10\",\n          \"seems control freak heard comment losing control show tell another guest brought live animals one rule snakes needs hire comedy writer jokes lame reason watch great guests bands br br watched craig ferguson show show even worse likes bull sh burn time think either man much future late night talk shows br br daily also annoying habit sticking tongue lick lips must least 10 times show like joe firstman band carson daily needs lighten late\",\n          \"okay know nt project india good light overall theme movie india shakti power warlord power mother relationship nandini husband son swallow warmth things go terribly wrong interaction nandini father law power dysfunctional relationship lives changed strengths movie shah rukh khan performance seems mere cameo compared believable desperation karisma kapoor easy get caught love violence redemption lives film find heaving sigh relief sadness climax musical interludes strengths believable well done\"\n        ],\n        \"semantic_type\": \"\",\n        \"description\": \"\"\n      }\n    }\n  ]\n}"
            }
          },
          "metadata": {},
          "execution_count": 154
        }
      ],
      "source": [
        "# checking a couple of instances of cleaned data\n",
        "data.loc[0:3,['cleaned_text','cleaned_text_without_stopwords']]"
      ]
    },
    {
      "cell_type": "markdown",
      "metadata": {
        "id": "tN9S84Sj2om2"
      },
      "source": [
        "### **Stemming**"
      ]
    },
    {
      "cell_type": "markdown",
      "metadata": {
        "id": "N7gAf4rJchR2"
      },
      "source": [
        "<h2>Why is Stemming Important?</h2>\n",
        "\n",
        "- Stemming transforms different forms of a word (e.g., \"running,\" \"ran,\" \"runs\") into a single root (e.g., \"run\"), making data more uniform.\n",
        "\n",
        "- Fewer unique words mean simpler data, which helps in processing and analyzing text more efficiently.\n",
        "\n",
        "- It helps in identifying key topics and sentiments by focusing on the core meaning of words rather than their variations."
      ]
    },
    {
      "cell_type": "markdown",
      "metadata": {
        "id": "urpKFz7C-D55"
      },
      "source": [
        "<h2>How to implement?</h2>\n",
        "\n",
        "The Porter Stemmer is one of the widely-used algorithms for stemming, and it shorten words to their root form by removing suffixes.\n",
        " - This is particularly useful in NLP tasks where you want to analyze the underlying meaning of text without being misled by different grammatical forms of the same word."
      ]
    },
    {
      "cell_type": "markdown",
      "metadata": {
        "id": "u5tuAxb9SQkN"
      },
      "source": [
        "NLTK module supports Porter Stemmer algorithm.\n",
        "\n",
        "Before proceeding, we need to download the `wordnet` database.\n",
        " - WordNet is a large lexical database of English words that groups words into sets of synonyms called synsets, providing definitions and semantic relationships between them.\n",
        " - By using nltk.download('wordnet'), we can download the WordNet dataset directly into their NLTK environment, enabling easy access to its rich linguistic resources."
      ]
    },
    {
      "cell_type": "code",
      "execution_count": 155,
      "metadata": {
        "colab": {
          "base_uri": "https://localhost:8080/"
        },
        "id": "zimvC7UUSKKK",
        "outputId": "994d4a22-8fd3-4d40-eca8-bc5fe6cd51a8"
      },
      "outputs": [
        {
          "output_type": "stream",
          "name": "stderr",
          "text": [
            "[nltk_data] Downloading package wordnet to /root/nltk_data...\n",
            "[nltk_data]   Package wordnet is already up-to-date!\n"
          ]
        },
        {
          "output_type": "execute_result",
          "data": {
            "text/plain": [
              "True"
            ]
          },
          "metadata": {},
          "execution_count": 155
        }
      ],
      "source": [
        "nltk.download('wordnet')"
      ]
    },
    {
      "cell_type": "markdown",
      "metadata": {
        "id": "1BcfyM1ESz9B"
      },
      "source": [
        "Next, we can import the PorterStemmer module from `stem.porter` module available in the `nltk` library"
      ]
    },
    {
      "cell_type": "code",
      "execution_count": 156,
      "metadata": {
        "id": "bDyKJIIDSNPT"
      },
      "outputs": [],
      "source": [
        "from nltk.stem.porter import PorterStemmer"
      ]
    },
    {
      "cell_type": "markdown",
      "metadata": {
        "id": "XVRbN7HWezPL"
      },
      "source": [
        "Creating an instance of the Porter Stemmer class, which is used to stem words by reducing them to their root form."
      ]
    },
    {
      "cell_type": "code",
      "execution_count": 157,
      "metadata": {
        "id": "ZHeywVxVehUQ"
      },
      "outputs": [],
      "source": [
        "ps = PorterStemmer()"
      ]
    },
    {
      "cell_type": "markdown",
      "metadata": {
        "id": "YBwj08awe00X"
      },
      "source": [
        "Specifying the input word that needs to be stemmed."
      ]
    },
    {
      "cell_type": "code",
      "execution_count": 158,
      "metadata": {
        "id": "fJVLxbyVejnt"
      },
      "outputs": [],
      "source": [
        "word = 'Running'"
      ]
    },
    {
      "cell_type": "markdown",
      "metadata": {
        "id": "THisq_43e9v6"
      },
      "source": [
        "Applying the stemming process to the input word (in this case, 'Running'), and assigns the resulting stemmed form to the variable stemmed_word."
      ]
    },
    {
      "cell_type": "code",
      "execution_count": 159,
      "metadata": {
        "id": "CkgAwUFielUo"
      },
      "outputs": [],
      "source": [
        "stemmed_word = ps.stem(word)"
      ]
    },
    {
      "cell_type": "markdown",
      "metadata": {
        "id": "JGzC5SKFfGc3"
      },
      "source": [
        "Displaying the input word and its stemmed form."
      ]
    },
    {
      "cell_type": "code",
      "execution_count": 160,
      "metadata": {
        "colab": {
          "base_uri": "https://localhost:8080/"
        },
        "id": "IN2ISpC7entk",
        "outputId": "7a8b224d-ba43-4b1c-ea5b-bdf88ed9f131"
      },
      "outputs": [
        {
          "output_type": "stream",
          "name": "stdout",
          "text": [
            "Running\n",
            "run\n"
          ]
        }
      ],
      "source": [
        "print(word)\n",
        "print(stemmed_word)"
      ]
    },
    {
      "cell_type": "code",
      "execution_count": 161,
      "metadata": {
        "colab": {
          "base_uri": "https://localhost:8080/"
        },
        "id": "dcZIDwDnmBlI",
        "outputId": "586cc989-bdc0-4459-8d73-70b3f3853cf0"
      },
      "outputs": [
        {
          "output_type": "stream",
          "name": "stdout",
          "text": [
            "analzi\n"
          ]
        }
      ],
      "source": [
        "word = 'Analzying'\n",
        "\n",
        "stemmed_word = ps.stem(word)\n",
        "\n",
        "print(stemmed_word)"
      ]
    },
    {
      "cell_type": "markdown",
      "metadata": {
        "id": "w2aIEjs-Q1PB"
      },
      "source": [
        "- Here, we can note that the stemmed word is 'analzi' . But, the correct root word should be 'analyze'.\n",
        "\n",
        "- The reason is the Porter Stemmer uses a set of rules to strip suffixes from words.\n",
        "  - Its algorithm may not always produce linguistically correct stems, focusing instead on reducing words to their root forms based on pattern matching.\n",
        "\n",
        "- The specific rules for removing suffixes may lead to unusual results.\n",
        "  - For example, the removal of \"-ing\" from \"Analyzing\" can result in \"Analyz,\" which, combined with its handling of consonant patterns, can lead to \"analzi.\""
      ]
    },
    {
      "cell_type": "markdown",
      "metadata": {
        "id": "i2P-UM5rYLNR"
      },
      "source": [
        "- Now, let's try to use this pattern to manipulate one of the reviews in the data."
      ]
    },
    {
      "cell_type": "code",
      "execution_count": 162,
      "metadata": {
        "colab": {
          "base_uri": "https://localhost:8080/"
        },
        "id": "A4vk1jKEOoPQ",
        "outputId": "7e23a899-5ec2-4fbd-e5df-6fcdfa5c44b9"
      },
      "outputs": [
        {
          "output_type": "stream",
          "name": "stdout",
          "text": [
            "Given the chance to write, direct and star in my own movie, I would probably choose something about robot women with guns. Anthony Hopkins, however, decided to make possibly the strangest movie anyone has ever seen. \"Slipstream\" is a movie that is so strange that even David Lynch would probably look at the person next to him and say 'What's going on?'.<br /><br />This is a movie where, in one scene, a man crosses the road towards a yellow car facing to the right which suddenly changes into a pink car facing to the left. This is a movie where two characters have a conversation interspersed with shots of random people laughing and insects climbing up walls. This is a movie where a man starts talking about \"Invasion Of The Bodysnatchers\" only for the actor of that particular movie to suddenly show up as himself (and then disappear into thin air). <br /><br />This is a movie that decides to throw the need for a coherent plot straight out of the window and use fifteen different edits whilst doing so, as well as changing from black and white to colour for seemingly no reason at all.<br /><br />I must, however, commend Mr Hopkins for his choice of actors in this movie (some of whom portray multiple characters). All of those involved throw themselves into their roles, even if they probably have no idea what they're actually doing. My favourite here was Christian Slater's thug in a hat who was impressively menacing whilst babbling nonsense and singing the American national anthem. <br /><br />Anthony Hopkins has been quoted saying that he did this movie as a joke and that's possibly the best way to sum up \"Slipstream\". It's a joke on the audience. You'll watch it from beginning to end, trying to understand what is going on and hoping that the answer will come, only to discover that the answer never actually does. What the punchline to this particular joke is, only Anthony Hopkins will ever know.<br /><br />I mentioned David Lynch earlier and I'm a big fan of that particular director. I would guess that Anthony Hopkins shares my love for the likes of \"Twin Peaks\", \"Blue Velvet\" and \"Lost Highway\". However, \"Slipstream\" isn't as satisfying as any of the movies of Lynch despite imitating many of his techniques (although I was surprised to discover that nobody talks backwards in \"Slipstream\"). It's far too chaotic and random - as another reviewer here pointed out, it's the movie version of Alzheimer's disease. No doubt there are a small number out there who are able to watch this and draw something from it. Unfortunately for the rest of us, \"Slipstream\" quickly becomes an annoying and confusing experience that was only made due to Hopkins' involvement.<br /><br />Watch at your own risk.\n",
            "given the chanc to write, direct and star in my own movie, i would probabl choos someth about robot women with guns. anthoni hopkins, however, decid to make possibl the strangest movi anyon ha ever seen. \"slipstream\" is a movi that is so strang that even david lynch would probabl look at the person next to him and say 'what' go on?'.<br /><br />thi is a movi where, in one scene, a man cross the road toward a yellow car face to the right which suddenli chang into a pink car face to the left. thi is a movi where two charact have a convers interspers with shot of random peopl laugh and insect climb up walls. thi is a movi where a man start talk about \"invas of the bodysnatchers\" onli for the actor of that particular movi to suddenli show up as himself (and then disappear into thin air). <br /><br />thi is a movi that decid to throw the need for a coher plot straight out of the window and use fifteen differ edit whilst do so, as well as chang from black and white to colour for seemingli no reason at all.<br /><br />i must, however, commend mr hopkin for hi choic of actor in thi movi (some of whom portray multipl characters). all of those involv throw themselv into their roles, even if they probabl have no idea what they'r actual doing. my favourit here wa christian slater' thug in a hat who wa impress menac whilst babbl nonsens and sing the american nation anthem. <br /><br />anthoni hopkin ha been quot say that he did thi movi as a joke and that' possibl the best way to sum up \"slipstream\". it' a joke on the audience. you'll watch it from begin to end, tri to understand what is go on and hope that the answer will come, onli to discov that the answer never actual does. what the punchlin to thi particular joke is, onli anthoni hopkin will ever know.<br /><br />i mention david lynch earlier and i'm a big fan of that particular director. i would guess that anthoni hopkin share my love for the like of \"twin peaks\", \"blue velvet\" and \"lost highway\". however, \"slipstream\" isn't as satisfi as ani of the movi of lynch despit imit mani of hi techniqu (although i wa surpris to discov that nobodi talk backward in \"slipstream\"). it' far too chaotic and random - as anoth review here point out, it' the movi version of alzheimer' disease. no doubt there are a small number out there who are abl to watch thi and draw someth from it. unfortun for the rest of us, \"slipstream\" quickli becom an annoy and confus experi that wa onli made due to hopkins' involvement.<br /><br />watch at your own risk.\n"
          ]
        }
      ],
      "source": [
        "review = data['review'][21]\n",
        "\n",
        "words = review.split(' ')\n",
        "\n",
        "stemmed_text = ' '.join([ps.stem(word) for word in words])\n",
        "\n",
        "\n",
        "print(review)\n",
        "\n",
        "print(stemmed_text)"
      ]
    },
    {
      "cell_type": "markdown",
      "metadata": {
        "id": "pfpFDPaqRX3k"
      },
      "source": [
        "- As we can observe, the words in the review have been transformed to their root forms."
      ]
    },
    {
      "cell_type": "markdown",
      "metadata": {
        "id": "8KpZx6nFfPED"
      },
      "source": [
        "- Until now, we have been applying stemming to individual words one by one. While this method is effective, it can be inefficient when processing larger texts or multiple reviews.\n",
        "\n",
        "- To streamline our process, we want to apply stemming to all words in a given text at once instead of handling each word separately.\n",
        "\n",
        "- By defining a function called ***apply_porter_stemmer*** using the NLTK library, we can efficiently apply the Porter stemming algorithm to every word in the text in a single operation.\n",
        "\n",
        "  - This function splits the input text into separate words, applies the Porter Stemmer to each word, and then joins the stemmed words back into a single string, ensuring that the text is uniformly stemmed and ready for further analysis.\n",
        "- To implement this, we will call the ***apply_porter_stemmer*** function for our text data, allowing us to reduce words to their root forms and enhance the quality of our text analysis."
      ]
    },
    {
      "cell_type": "code",
      "execution_count": 163,
      "metadata": {
        "id": "g2Nv5egY25SY"
      },
      "outputs": [],
      "source": [
        "# Loading the Porter Stemmer\n",
        "ps = PorterStemmer()\n",
        "\n",
        "# defining a function to perform stemming\n",
        "def apply_porter_stemmer(text):\n",
        "    # Split text into separate words\n",
        "    words = text.split()\n",
        "\n",
        "    # Applying the Porter Stemmer on every word of a message and joining the stemmed words back into a single string\n",
        "    new_text = ' '.join([ps.stem(word) for word in words])\n",
        "\n",
        "    return new_text"
      ]
    },
    {
      "cell_type": "code",
      "execution_count": 164,
      "metadata": {
        "id": "dR0rx6_2oCzY"
      },
      "outputs": [],
      "source": [
        "# Applying the function to perform stemming\n",
        "data['final_cleaned_text'] = data['cleaned_text_without_stopwords'].apply(apply_porter_stemmer)"
      ]
    },
    {
      "cell_type": "code",
      "execution_count": 165,
      "metadata": {
        "colab": {
          "base_uri": "https://localhost:8080/",
          "height": 0
        },
        "id": "RAc0gMU89KM7",
        "outputId": "b27afbbb-9caa-413b-eeea-18f8cf510f7d"
      },
      "outputs": [
        {
          "output_type": "execute_result",
          "data": {
            "text/plain": [
              "                                                                                                                                                                                                                                                                                                                                                                                                                                                                                                                                                                                                                                                                                                                                                                                                                                                                                                                                                                                                                                                                                                                                                                                                                                                               cleaned_text_without_stopwords  \\\n",
              "0                                                                                                                                                                                                                                                                                                                                                                                                                                                                                                                                                                                                                                                                                                                                                                           okay know nt project india good light overall theme movie india shakti power warlord power mother relationship nandini husband son swallow warmth things go terribly wrong interaction nandini father law power dysfunctional relationship lives changed strengths movie shah rukh khan performance seems mere cameo compared believable desperation karisma kapoor easy get caught love violence redemption lives film find heaving sigh relief sadness climax musical interludes strengths believable well done   \n",
              "1  despite john travolta statements interviews favorite role career cool proves disappointing sequel 1995 witty clever get shorty br br travolta delivers pleasant enough performance mildly entertaining film ultimately movie falls flat due underdeveloped plot unlikeable characters surprising lack chemistry leads travolta uma thurman although laughs unfunny dialog example appeared frequently trailers kind says thurman dance travolta hey brooklyn br br film suggests everyone entertainment business gangster aspires one likening organized crime get shorty premise gangster going legitimate getting movies clever fish water idea cool seems biz entirely gone crooked since br br film interestingly casted absolute highlight monolgue delivered rock whose character aspiring actor well goon reenacts scene gabrielle union kirsten dunst bring vince vaughan character thinks black often seen dressed pimp quite funny first scene introduces gets tired embarrassing almost immediately afterward br br overall cool may worth rental john travolta die hards one may want keep finger close fast forward button get without feeling wasted much time fans get shorty may actually wish avoid sequel devoid things made one winner rate movie admittedly harsh 4 10   \n",
              "2                                                                                                                                                                                                                                                                                                                                                                                                                                                                                                                                          kung fu fan woo fan interest gangster movies filled top gun play martial arts beautiful john woo surprised producing highly entertaining kung fu movie almost much fighting thing possible good stuff br br many fight scenes good less good main characters amusing likable bad guys bit unbelievably evil entertaining none less gotta see sleeping wizard fight asleep hysterical br br upon repeated viewings however last hurrah chivalry tend get little boring long winded also especially many fight scenes actually good hence rate 7 10 really almost 8 br br one better kung fu movies made smack dab heart kung fu cinema prime really good kung fu movies mid late 1970ies notable exceptions late 60ies early 70ies early 80ies fair   \n",
              "\n",
              "                                                                                                                                                                                                                                                                                                                                                                                                                                                                                                                                                                                                                                                                                                                                                                                                                                                                                                                                                                                                                                                                                                                                     final_cleaned_text  \n",
              "0                                                                                                                                                                                                                                                                                                                                                                                                                                                                                                                                                                                                                                                                                           okay know nt project india good light overal theme movi india shakti power warlord power mother relationship nandini husband son swallow warmth thing go terribl wrong interact nandini father law power dysfunct relationship live chang strength movi shah rukh khan perform seem mere cameo compar believ desper karisma kapoor easi get caught love violenc redempt live film find heav sigh relief sad climax music interlud strength believ well done  \n",
              "1  despit john travolta statement interview favorit role career cool prove disappoint sequel 1995 witti clever get shorti br br travolta deliv pleasant enough perform mildli entertain film ultim movi fall flat due underdevelop plot unlik charact surpris lack chemistri lead travolta uma thurman although laugh unfunni dialog exampl appear frequent trailer kind say thurman danc travolta hey brooklyn br br film suggest everyon entertain busi gangster aspir one liken organ crime get shorti premis gangster go legitim get movi clever fish water idea cool seem biz entir gone crook sinc br br film interestingli cast absolut highlight monolgu deliv rock whose charact aspir actor well goon reenact scene gabriel union kirsten dunst bring vinc vaughan charact think black often seen dress pimp quit funni first scene introduc get tire embarrass almost immedi afterward br br overal cool may worth rental john travolta die hard one may want keep finger close fast forward button get without feel wast much time fan get shorti may actual wish avoid sequel devoid thing made one winner rate movi admittedli harsh 4 10  \n",
              "2                                                                                                                                                                                                                                                                                                                                                                                                                                                                                      kung fu fan woo fan interest gangster movi fill top gun play martial art beauti john woo surpris produc highli entertain kung fu movi almost much fight thing possibl good stuff br br mani fight scene good less good main charact amus likabl bad guy bit unbeliev evil entertain none less gotta see sleep wizard fight asleep hyster br br upon repeat view howev last hurrah chivalri tend get littl bore long wind also especi mani fight scene actual good henc rate 7 10 realli almost 8 br br one better kung fu movi made smack dab heart kung fu cinema prime realli good kung fu movi mid late 1970i notabl except late 60i earli 70i earli 80i fair  "
            ],
            "text/html": [
              "\n",
              "  <div id=\"df-a41cc20f-d061-44e7-84d4-5da12f238169\" class=\"colab-df-container\">\n",
              "    <div>\n",
              "<style scoped>\n",
              "    .dataframe tbody tr th:only-of-type {\n",
              "        vertical-align: middle;\n",
              "    }\n",
              "\n",
              "    .dataframe tbody tr th {\n",
              "        vertical-align: top;\n",
              "    }\n",
              "\n",
              "    .dataframe thead th {\n",
              "        text-align: right;\n",
              "    }\n",
              "</style>\n",
              "<table border=\"1\" class=\"dataframe\">\n",
              "  <thead>\n",
              "    <tr style=\"text-align: right;\">\n",
              "      <th></th>\n",
              "      <th>cleaned_text_without_stopwords</th>\n",
              "      <th>final_cleaned_text</th>\n",
              "    </tr>\n",
              "  </thead>\n",
              "  <tbody>\n",
              "    <tr>\n",
              "      <th>0</th>\n",
              "      <td>okay know nt project india good light overall theme movie india shakti power warlord power mother relationship nandini husband son swallow warmth things go terribly wrong interaction nandini father law power dysfunctional relationship lives changed strengths movie shah rukh khan performance seems mere cameo compared believable desperation karisma kapoor easy get caught love violence redemption lives film find heaving sigh relief sadness climax musical interludes strengths believable well done</td>\n",
              "      <td>okay know nt project india good light overal theme movi india shakti power warlord power mother relationship nandini husband son swallow warmth thing go terribl wrong interact nandini father law power dysfunct relationship live chang strength movi shah rukh khan perform seem mere cameo compar believ desper karisma kapoor easi get caught love violenc redempt live film find heav sigh relief sad climax music interlud strength believ well done</td>\n",
              "    </tr>\n",
              "    <tr>\n",
              "      <th>1</th>\n",
              "      <td>despite john travolta statements interviews favorite role career cool proves disappointing sequel 1995 witty clever get shorty br br travolta delivers pleasant enough performance mildly entertaining film ultimately movie falls flat due underdeveloped plot unlikeable characters surprising lack chemistry leads travolta uma thurman although laughs unfunny dialog example appeared frequently trailers kind says thurman dance travolta hey brooklyn br br film suggests everyone entertainment business gangster aspires one likening organized crime get shorty premise gangster going legitimate getting movies clever fish water idea cool seems biz entirely gone crooked since br br film interestingly casted absolute highlight monolgue delivered rock whose character aspiring actor well goon reenacts scene gabrielle union kirsten dunst bring vince vaughan character thinks black often seen dressed pimp quite funny first scene introduces gets tired embarrassing almost immediately afterward br br overall cool may worth rental john travolta die hards one may want keep finger close fast forward button get without feeling wasted much time fans get shorty may actually wish avoid sequel devoid things made one winner rate movie admittedly harsh 4 10</td>\n",
              "      <td>despit john travolta statement interview favorit role career cool prove disappoint sequel 1995 witti clever get shorti br br travolta deliv pleasant enough perform mildli entertain film ultim movi fall flat due underdevelop plot unlik charact surpris lack chemistri lead travolta uma thurman although laugh unfunni dialog exampl appear frequent trailer kind say thurman danc travolta hey brooklyn br br film suggest everyon entertain busi gangster aspir one liken organ crime get shorti premis gangster go legitim get movi clever fish water idea cool seem biz entir gone crook sinc br br film interestingli cast absolut highlight monolgu deliv rock whose charact aspir actor well goon reenact scene gabriel union kirsten dunst bring vinc vaughan charact think black often seen dress pimp quit funni first scene introduc get tire embarrass almost immedi afterward br br overal cool may worth rental john travolta die hard one may want keep finger close fast forward button get without feel wast much time fan get shorti may actual wish avoid sequel devoid thing made one winner rate movi admittedli harsh 4 10</td>\n",
              "    </tr>\n",
              "    <tr>\n",
              "      <th>2</th>\n",
              "      <td>kung fu fan woo fan interest gangster movies filled top gun play martial arts beautiful john woo surprised producing highly entertaining kung fu movie almost much fighting thing possible good stuff br br many fight scenes good less good main characters amusing likable bad guys bit unbelievably evil entertaining none less gotta see sleeping wizard fight asleep hysterical br br upon repeated viewings however last hurrah chivalry tend get little boring long winded also especially many fight scenes actually good hence rate 7 10 really almost 8 br br one better kung fu movies made smack dab heart kung fu cinema prime really good kung fu movies mid late 1970ies notable exceptions late 60ies early 70ies early 80ies fair</td>\n",
              "      <td>kung fu fan woo fan interest gangster movi fill top gun play martial art beauti john woo surpris produc highli entertain kung fu movi almost much fight thing possibl good stuff br br mani fight scene good less good main charact amus likabl bad guy bit unbeliev evil entertain none less gotta see sleep wizard fight asleep hyster br br upon repeat view howev last hurrah chivalri tend get littl bore long wind also especi mani fight scene actual good henc rate 7 10 realli almost 8 br br one better kung fu movi made smack dab heart kung fu cinema prime realli good kung fu movi mid late 1970i notabl except late 60i earli 70i earli 80i fair</td>\n",
              "    </tr>\n",
              "  </tbody>\n",
              "</table>\n",
              "</div>\n",
              "    <div class=\"colab-df-buttons\">\n",
              "\n",
              "  <div class=\"colab-df-container\">\n",
              "    <button class=\"colab-df-convert\" onclick=\"convertToInteractive('df-a41cc20f-d061-44e7-84d4-5da12f238169')\"\n",
              "            title=\"Convert this dataframe to an interactive table.\"\n",
              "            style=\"display:none;\">\n",
              "\n",
              "  <svg xmlns=\"http://www.w3.org/2000/svg\" height=\"24px\" viewBox=\"0 -960 960 960\">\n",
              "    <path d=\"M120-120v-720h720v720H120Zm60-500h600v-160H180v160Zm220 220h160v-160H400v160Zm0 220h160v-160H400v160ZM180-400h160v-160H180v160Zm440 0h160v-160H620v160ZM180-180h160v-160H180v160Zm440 0h160v-160H620v160Z\"/>\n",
              "  </svg>\n",
              "    </button>\n",
              "\n",
              "  <style>\n",
              "    .colab-df-container {\n",
              "      display:flex;\n",
              "      gap: 12px;\n",
              "    }\n",
              "\n",
              "    .colab-df-convert {\n",
              "      background-color: #E8F0FE;\n",
              "      border: none;\n",
              "      border-radius: 50%;\n",
              "      cursor: pointer;\n",
              "      display: none;\n",
              "      fill: #1967D2;\n",
              "      height: 32px;\n",
              "      padding: 0 0 0 0;\n",
              "      width: 32px;\n",
              "    }\n",
              "\n",
              "    .colab-df-convert:hover {\n",
              "      background-color: #E2EBFA;\n",
              "      box-shadow: 0px 1px 2px rgba(60, 64, 67, 0.3), 0px 1px 3px 1px rgba(60, 64, 67, 0.15);\n",
              "      fill: #174EA6;\n",
              "    }\n",
              "\n",
              "    .colab-df-buttons div {\n",
              "      margin-bottom: 4px;\n",
              "    }\n",
              "\n",
              "    [theme=dark] .colab-df-convert {\n",
              "      background-color: #3B4455;\n",
              "      fill: #D2E3FC;\n",
              "    }\n",
              "\n",
              "    [theme=dark] .colab-df-convert:hover {\n",
              "      background-color: #434B5C;\n",
              "      box-shadow: 0px 1px 3px 1px rgba(0, 0, 0, 0.15);\n",
              "      filter: drop-shadow(0px 1px 2px rgba(0, 0, 0, 0.3));\n",
              "      fill: #FFFFFF;\n",
              "    }\n",
              "  </style>\n",
              "\n",
              "    <script>\n",
              "      const buttonEl =\n",
              "        document.querySelector('#df-a41cc20f-d061-44e7-84d4-5da12f238169 button.colab-df-convert');\n",
              "      buttonEl.style.display =\n",
              "        google.colab.kernel.accessAllowed ? 'block' : 'none';\n",
              "\n",
              "      async function convertToInteractive(key) {\n",
              "        const element = document.querySelector('#df-a41cc20f-d061-44e7-84d4-5da12f238169');\n",
              "        const dataTable =\n",
              "          await google.colab.kernel.invokeFunction('convertToInteractive',\n",
              "                                                    [key], {});\n",
              "        if (!dataTable) return;\n",
              "\n",
              "        const docLinkHtml = 'Like what you see? Visit the ' +\n",
              "          '<a target=\"_blank\" href=https://colab.research.google.com/notebooks/data_table.ipynb>data table notebook</a>'\n",
              "          + ' to learn more about interactive tables.';\n",
              "        element.innerHTML = '';\n",
              "        dataTable['output_type'] = 'display_data';\n",
              "        await google.colab.output.renderOutput(dataTable, element);\n",
              "        const docLink = document.createElement('div');\n",
              "        docLink.innerHTML = docLinkHtml;\n",
              "        element.appendChild(docLink);\n",
              "      }\n",
              "    </script>\n",
              "  </div>\n",
              "\n",
              "\n",
              "<div id=\"df-551ca2eb-7193-493c-9225-5bf95505ce72\">\n",
              "  <button class=\"colab-df-quickchart\" onclick=\"quickchart('df-551ca2eb-7193-493c-9225-5bf95505ce72')\"\n",
              "            title=\"Suggest charts\"\n",
              "            style=\"display:none;\">\n",
              "\n",
              "<svg xmlns=\"http://www.w3.org/2000/svg\" height=\"24px\"viewBox=\"0 0 24 24\"\n",
              "     width=\"24px\">\n",
              "    <g>\n",
              "        <path d=\"M19 3H5c-1.1 0-2 .9-2 2v14c0 1.1.9 2 2 2h14c1.1 0 2-.9 2-2V5c0-1.1-.9-2-2-2zM9 17H7v-7h2v7zm4 0h-2V7h2v10zm4 0h-2v-4h2v4z\"/>\n",
              "    </g>\n",
              "</svg>\n",
              "  </button>\n",
              "\n",
              "<style>\n",
              "  .colab-df-quickchart {\n",
              "      --bg-color: #E8F0FE;\n",
              "      --fill-color: #1967D2;\n",
              "      --hover-bg-color: #E2EBFA;\n",
              "      --hover-fill-color: #174EA6;\n",
              "      --disabled-fill-color: #AAA;\n",
              "      --disabled-bg-color: #DDD;\n",
              "  }\n",
              "\n",
              "  [theme=dark] .colab-df-quickchart {\n",
              "      --bg-color: #3B4455;\n",
              "      --fill-color: #D2E3FC;\n",
              "      --hover-bg-color: #434B5C;\n",
              "      --hover-fill-color: #FFFFFF;\n",
              "      --disabled-bg-color: #3B4455;\n",
              "      --disabled-fill-color: #666;\n",
              "  }\n",
              "\n",
              "  .colab-df-quickchart {\n",
              "    background-color: var(--bg-color);\n",
              "    border: none;\n",
              "    border-radius: 50%;\n",
              "    cursor: pointer;\n",
              "    display: none;\n",
              "    fill: var(--fill-color);\n",
              "    height: 32px;\n",
              "    padding: 0;\n",
              "    width: 32px;\n",
              "  }\n",
              "\n",
              "  .colab-df-quickchart:hover {\n",
              "    background-color: var(--hover-bg-color);\n",
              "    box-shadow: 0 1px 2px rgba(60, 64, 67, 0.3), 0 1px 3px 1px rgba(60, 64, 67, 0.15);\n",
              "    fill: var(--button-hover-fill-color);\n",
              "  }\n",
              "\n",
              "  .colab-df-quickchart-complete:disabled,\n",
              "  .colab-df-quickchart-complete:disabled:hover {\n",
              "    background-color: var(--disabled-bg-color);\n",
              "    fill: var(--disabled-fill-color);\n",
              "    box-shadow: none;\n",
              "  }\n",
              "\n",
              "  .colab-df-spinner {\n",
              "    border: 2px solid var(--fill-color);\n",
              "    border-color: transparent;\n",
              "    border-bottom-color: var(--fill-color);\n",
              "    animation:\n",
              "      spin 1s steps(1) infinite;\n",
              "  }\n",
              "\n",
              "  @keyframes spin {\n",
              "    0% {\n",
              "      border-color: transparent;\n",
              "      border-bottom-color: var(--fill-color);\n",
              "      border-left-color: var(--fill-color);\n",
              "    }\n",
              "    20% {\n",
              "      border-color: transparent;\n",
              "      border-left-color: var(--fill-color);\n",
              "      border-top-color: var(--fill-color);\n",
              "    }\n",
              "    30% {\n",
              "      border-color: transparent;\n",
              "      border-left-color: var(--fill-color);\n",
              "      border-top-color: var(--fill-color);\n",
              "      border-right-color: var(--fill-color);\n",
              "    }\n",
              "    40% {\n",
              "      border-color: transparent;\n",
              "      border-right-color: var(--fill-color);\n",
              "      border-top-color: var(--fill-color);\n",
              "    }\n",
              "    60% {\n",
              "      border-color: transparent;\n",
              "      border-right-color: var(--fill-color);\n",
              "    }\n",
              "    80% {\n",
              "      border-color: transparent;\n",
              "      border-right-color: var(--fill-color);\n",
              "      border-bottom-color: var(--fill-color);\n",
              "    }\n",
              "    90% {\n",
              "      border-color: transparent;\n",
              "      border-bottom-color: var(--fill-color);\n",
              "    }\n",
              "  }\n",
              "</style>\n",
              "\n",
              "  <script>\n",
              "    async function quickchart(key) {\n",
              "      const quickchartButtonEl =\n",
              "        document.querySelector('#' + key + ' button');\n",
              "      quickchartButtonEl.disabled = true;  // To prevent multiple clicks.\n",
              "      quickchartButtonEl.classList.add('colab-df-spinner');\n",
              "      try {\n",
              "        const charts = await google.colab.kernel.invokeFunction(\n",
              "            'suggestCharts', [key], {});\n",
              "      } catch (error) {\n",
              "        console.error('Error during call to suggestCharts:', error);\n",
              "      }\n",
              "      quickchartButtonEl.classList.remove('colab-df-spinner');\n",
              "      quickchartButtonEl.classList.add('colab-df-quickchart-complete');\n",
              "    }\n",
              "    (() => {\n",
              "      let quickchartButtonEl =\n",
              "        document.querySelector('#df-551ca2eb-7193-493c-9225-5bf95505ce72 button');\n",
              "      quickchartButtonEl.style.display =\n",
              "        google.colab.kernel.accessAllowed ? 'block' : 'none';\n",
              "    })();\n",
              "  </script>\n",
              "</div>\n",
              "\n",
              "    </div>\n",
              "  </div>\n"
            ],
            "application/vnd.google.colaboratory.intrinsic+json": {
              "type": "dataframe",
              "summary": "{\n  \"name\": \"data\",\n  \"rows\": 3,\n  \"fields\": [\n    {\n      \"column\": \"cleaned_text_without_stopwords\",\n      \"properties\": {\n        \"dtype\": \"string\",\n        \"num_unique_values\": 3,\n        \"samples\": [\n          \"okay know nt project india good light overall theme movie india shakti power warlord power mother relationship nandini husband son swallow warmth things go terribly wrong interaction nandini father law power dysfunctional relationship lives changed strengths movie shah rukh khan performance seems mere cameo compared believable desperation karisma kapoor easy get caught love violence redemption lives film find heaving sigh relief sadness climax musical interludes strengths believable well done\",\n          \"despite john travolta statements interviews favorite role career cool proves disappointing sequel 1995 witty clever get shorty br br travolta delivers pleasant enough performance mildly entertaining film ultimately movie falls flat due underdeveloped plot unlikeable characters surprising lack chemistry leads travolta uma thurman although laughs unfunny dialog example appeared frequently trailers kind says thurman dance travolta hey brooklyn br br film suggests everyone entertainment business gangster aspires one likening organized crime get shorty premise gangster going legitimate getting movies clever fish water idea cool seems biz entirely gone crooked since br br film interestingly casted absolute highlight monolgue delivered rock whose character aspiring actor well goon reenacts scene gabrielle union kirsten dunst bring vince vaughan character thinks black often seen dressed pimp quite funny first scene introduces gets tired embarrassing almost immediately afterward br br overall cool may worth rental john travolta die hards one may want keep finger close fast forward button get without feeling wasted much time fans get shorty may actually wish avoid sequel devoid things made one winner rate movie admittedly harsh 4 10\",\n          \"kung fu fan woo fan interest gangster movies filled top gun play martial arts beautiful john woo surprised producing highly entertaining kung fu movie almost much fighting thing possible good stuff br br many fight scenes good less good main characters amusing likable bad guys bit unbelievably evil entertaining none less gotta see sleeping wizard fight asleep hysterical br br upon repeated viewings however last hurrah chivalry tend get little boring long winded also especially many fight scenes actually good hence rate 7 10 really almost 8 br br one better kung fu movies made smack dab heart kung fu cinema prime really good kung fu movies mid late 1970ies notable exceptions late 60ies early 70ies early 80ies fair\"\n        ],\n        \"semantic_type\": \"\",\n        \"description\": \"\"\n      }\n    },\n    {\n      \"column\": \"final_cleaned_text\",\n      \"properties\": {\n        \"dtype\": \"string\",\n        \"num_unique_values\": 3,\n        \"samples\": [\n          \"okay know nt project india good light overal theme movi india shakti power warlord power mother relationship nandini husband son swallow warmth thing go terribl wrong interact nandini father law power dysfunct relationship live chang strength movi shah rukh khan perform seem mere cameo compar believ desper karisma kapoor easi get caught love violenc redempt live film find heav sigh relief sad climax music interlud strength believ well done\",\n          \"despit john travolta statement interview favorit role career cool prove disappoint sequel 1995 witti clever get shorti br br travolta deliv pleasant enough perform mildli entertain film ultim movi fall flat due underdevelop plot unlik charact surpris lack chemistri lead travolta uma thurman although laugh unfunni dialog exampl appear frequent trailer kind say thurman danc travolta hey brooklyn br br film suggest everyon entertain busi gangster aspir one liken organ crime get shorti premis gangster go legitim get movi clever fish water idea cool seem biz entir gone crook sinc br br film interestingli cast absolut highlight monolgu deliv rock whose charact aspir actor well goon reenact scene gabriel union kirsten dunst bring vinc vaughan charact think black often seen dress pimp quit funni first scene introduc get tire embarrass almost immedi afterward br br overal cool may worth rental john travolta die hard one may want keep finger close fast forward button get without feel wast much time fan get shorti may actual wish avoid sequel devoid thing made one winner rate movi admittedli harsh 4 10\",\n          \"kung fu fan woo fan interest gangster movi fill top gun play martial art beauti john woo surpris produc highli entertain kung fu movi almost much fight thing possibl good stuff br br mani fight scene good less good main charact amus likabl bad guy bit unbeliev evil entertain none less gotta see sleep wizard fight asleep hyster br br upon repeat view howev last hurrah chivalri tend get littl bore long wind also especi mani fight scene actual good henc rate 7 10 realli almost 8 br br one better kung fu movi made smack dab heart kung fu cinema prime realli good kung fu movi mid late 1970i notabl except late 60i earli 70i earli 80i fair\"\n        ],\n        \"semantic_type\": \"\",\n        \"description\": \"\"\n      }\n    }\n  ]\n}"
            }
          },
          "metadata": {},
          "execution_count": 165
        }
      ],
      "source": [
        "# checking a couple of instances of cleaned data\n",
        "data.loc[0:2,['cleaned_text_without_stopwords','final_cleaned_text']]"
      ]
    },
    {
      "cell_type": "markdown",
      "metadata": {
        "id": "c3F-popAzw8p"
      },
      "source": [
        "# **Text Vectorization**"
      ]
    },
    {
      "cell_type": "markdown",
      "metadata": {
        "id": "iry8Eb8rnzKm"
      },
      "source": [
        "<h2>Why is Text Vectorization Important?</h2>\n",
        "\n",
        "- It transforms words and sentences into numerical formats that mathematical algorithms can understand, making it essential for processing text data.\n",
        "\n",
        "- By representing text as vectors, it helps capture important patterns and relationships in the data, leading to better insights and analysis in text-related tasks."
      ]
    },
    {
      "cell_type": "markdown",
      "metadata": {
        "id": "M5Q5legzRsUG"
      },
      "source": [
        "<p><h3>Definition:</h3> A document-term matrix is a mathematical representation of a collection of documents, where each document is represented as a row, and each unique word (or term) across all documents is represented as a column. The cells in the matrix contain values that indicate the frequency or presence of the corresponding word in the corresponding document.</p>\n",
        "\n",
        "<p><h3>Usage in Text Preprocessing:</h3> The document-term matrix is essential in text preprocessing as it converts unstructured text data into a structured numerical format. This transformation allows for efficient analysis and processing of textual information. By representing documents as matrices, it facilitates the extraction of important features and patterns, making it easier to prepare text data for further analysis and understanding.</p>\n",
        "\n",
        "<p><h3>Example:</h3></p>\n",
        "<p>Consider three short documents:</p>\n",
        "<ul>\n",
        "<li>Document 1: \"I love programming\"</li>\n",
        "<li>Document 2: \"Programming is fun\"</li>\n",
        "<li>Document 3: \"I love fun programming\"</li>\n",
        "</ul>\n",
        "\n",
        "<p><h3>Steps to Create the Document-Term Matrix:</h3></p>\n",
        "\n",
        "<li>Convert all text to lowercase:\n",
        "<ul>\n",
        "<li>Document 1: \"i love programming\"</li>\n",
        "<li>Document 2: \"programming is fun\"</li>\n",
        "<li>Document 3: \"i love fun programming\"</li>\n",
        "</ul>\n",
        "</li>\n",
        "\n",
        "<li>Identify all unique words across the documents and sort it:\n",
        "<ul>\n",
        "<li>fun , is , love , programming</li>\n",
        "</ul>\n",
        "</li>\n",
        "    \n",
        "<li>Count the occurrences of each word in each document:\n",
        "<ul>\n",
        "<li>Document 1:\n",
        "<ul>\n",
        "<li>\"fun\": 0</li>\n",
        "<li>\"is\": 0</li>\n",
        "<li>\"love\": 1</li>\n",
        "<li>\"programming\": 1</li>\n",
        "</ul>\n",
        "</li>\n",
        "<li>Document 2:\n",
        "<ul>\n",
        "<li>\"fun\": 1</li>\n",
        "<li>\"is\": 1</li>\n",
        "<li>\"love\": 0</li>\n",
        "<li>\"programming\": 1</li>\n",
        "</ul>\n",
        "</li>\n",
        "<li>Document 3:\n",
        "<ul>\n",
        "<li>\"fun\": 1</li>\n",
        "<li>\"is\": 0</li>\n",
        "<li>\"love\": 1</li>\n",
        "<li>\"programming\": 1</li>\n",
        "</ul>\n",
        "</li>\n",
        "</ul>\n",
        "</li>\n",
        "\n",
        "<li>Form a matrix using the counts, where each row represents a document and each column represents a unique word:</li><br>\n",
        "\n",
        "<table border=\"1\" cellspacing=\"0\" cellpadding=\"12\" align=\"center\" rules=\"all\" frame=\"box\" width=\"80%\" style=\"font-size: 20px; text-align: center;\">\n",
        "<thead>\n",
        "<tr bgcolor=\"#ADD8E6\">\n",
        "<th style=\"color: white;\">Document</th>\n",
        "<th style=\"color: white;\">fun</th>\n",
        "<th style=\"color: white;\">is</th>\n",
        "<th style=\"color: white;\">love</th>\n",
        "<th style=\"color: white;\">programming</th>\n",
        "</tr>\n",
        "</thead>\n",
        "<tbody>\n",
        "<tr bgcolor=\"#f2f2f2\">\n",
        "<td>Document 1</td>\n",
        "<td>0</td>\n",
        "<td>0</td>\n",
        "<td>1</td>\n",
        "<td>1</td>\n",
        "\n",
        "</tr>\n",
        "<tr>\n",
        "<td>Document 2</td>\n",
        "<td>1</td>\n",
        "<td>1</td>\n",
        "<td>0</td>\n",
        "<td>1</td>\n",
        "</tr>\n",
        "<tr bgcolor=\"#f2f2f2\">\n",
        "<td>Document 3</td>\n",
        "<td>1</td>\n",
        "<td>0</td>\n",
        "<td>1</td>\n",
        "<td>1</td>\n",
        "</tr>\n",
        "</tbody>\n",
        "</table>"
      ]
    },
    {
      "cell_type": "markdown",
      "metadata": {
        "id": "p0wXmlWQbBpL"
      },
      "source": [
        "Creating the documents"
      ]
    },
    {
      "cell_type": "code",
      "execution_count": 166,
      "metadata": {
        "id": "BFRh05KRVp4B"
      },
      "outputs": [],
      "source": [
        "Document_1 = \"I love programming\"\n",
        "Document_2 = \"programming is fun\"\n",
        "Document_3 = \"i love fun programming\""
      ]
    },
    {
      "cell_type": "markdown",
      "metadata": {
        "id": "l4T-YtcmbEVi"
      },
      "source": [
        "Appending all the documents to a list"
      ]
    },
    {
      "cell_type": "code",
      "execution_count": 167,
      "metadata": {
        "id": "aQGQEqnEVznT"
      },
      "outputs": [],
      "source": [
        "list_of_docs = [Document_1,Document_2,Document_3]"
      ]
    },
    {
      "cell_type": "markdown",
      "metadata": {
        "id": "MpgOSY-GT5FC"
      },
      "source": [
        "- To implement this BoW representation, `sklearn` offers a class to work with called `Countvectorizer`\n",
        "\n",
        "- It is available in the `feature_extraction.text` module\n",
        "\n",
        "- It is imported using the statement `from sklearn.feature_extraction.text import CountVectorizer`"
      ]
    },
    {
      "cell_type": "code",
      "execution_count": 168,
      "metadata": {
        "id": "TN1uMoKUT5qW"
      },
      "outputs": [],
      "source": [
        "from sklearn.feature_extraction.text import CountVectorizer"
      ]
    },
    {
      "cell_type": "markdown",
      "metadata": {
        "id": "KtD0KDvobMPR"
      },
      "source": [
        "**`CountVectorizer`**:\n",
        "\n",
        "- This is a tool from `sklearn.feature_extraction.text` used to convert text documents into a matrix of token counts.\n",
        "- It creates a Bag of Words (BoW) representation of the text, where:\n",
        " - Each row represents a document.\n",
        " - Each column corresponds to a unique word (token) in the entire corpus.\n",
        " - The values in the matrix are the counts of each word's occurrence in the respective document\n",
        "\n",
        "**`fit_transform()`**:\n",
        "\n",
        "- The `fit_transform()` method performs both `fit()` and `transform()` in a single operation.\n",
        "- The `fit()` method learns the vocabulary from the provided documents (i.e., identifies the unique words).\n",
        "- The `transform()` method converts the documents into a sparse matrix, where:\n",
        " - The matrix rows correspond to documents.\n",
        " - The columns represent the words from the learned vocabulary.\n",
        " - The values in the matrix are the word frequencies."
      ]
    },
    {
      "cell_type": "code",
      "execution_count": 169,
      "metadata": {
        "id": "p0bWziYobLWb"
      },
      "outputs": [],
      "source": [
        "bow_vec = CountVectorizer()\n",
        "\n",
        "doc_matrix = bow_vec.fit_transform(list_of_docs)"
      ]
    },
    {
      "cell_type": "markdown",
      "metadata": {
        "id": "bRv_c6APbsIC"
      },
      "source": [
        "Compressed Sparse Row format\n",
        "\n",
        "- It’s a way to store large matrices efficiently when most of the elements are zero.\n",
        "- Instead of storing every element, including the zeros, CSR compresses the data by only storing non-zero values and their positions."
      ]
    },
    {
      "cell_type": "code",
      "execution_count": 171,
      "metadata": {
        "colab": {
          "base_uri": "https://localhost:8080/"
        },
        "id": "jdE8rphLV_fA",
        "outputId": "73586dbe-eb48-4e23-deef-dc1d0ca4708b"
      },
      "outputs": [
        {
          "output_type": "execute_result",
          "data": {
            "text/plain": [
              "<3x4 sparse matrix of type '<class 'numpy.int64'>'\n",
              "\twith 8 stored elements in Compressed Sparse Row format>"
            ]
          },
          "metadata": {},
          "execution_count": 171
        }
      ],
      "source": [
        "doc_matrix"
      ]
    },
    {
      "cell_type": "code",
      "execution_count": 170,
      "metadata": {
        "colab": {
          "base_uri": "https://localhost:8080/"
        },
        "id": "b3IpEYkKWB3e",
        "outputId": "57022983-e21b-4994-8adc-a8985c0beb24"
      },
      "outputs": [
        {
          "output_type": "execute_result",
          "data": {
            "text/plain": [
              "array([[0, 0, 1, 1],\n",
              "       [1, 1, 0, 1],\n",
              "       [1, 0, 1, 1]])"
            ]
          },
          "metadata": {},
          "execution_count": 170
        }
      ],
      "source": [
        "# Converting CSR to a numpy array\n",
        "doc_matrix.toarray()"
      ]
    },
    {
      "cell_type": "markdown",
      "metadata": {
        "id": "RSspaO2-UbFA"
      },
      "source": [
        "- As expected, the BoW representation matches with the previous example."
      ]
    },
    {
      "cell_type": "code",
      "execution_count": 172,
      "metadata": {
        "colab": {
          "base_uri": "https://localhost:8080/"
        },
        "id": "0903xozaWIKZ",
        "outputId": "140dde16-beb9-4c45-8900-1cdd07af4800"
      },
      "outputs": [
        {
          "output_type": "execute_result",
          "data": {
            "text/plain": [
              "array(['fun', 'is', 'love', 'programming'], dtype=object)"
            ]
          },
          "metadata": {},
          "execution_count": 172
        }
      ],
      "source": [
        "# returns the list of unique words (tokens) extracted from the documents.\n",
        "bow_vec.get_feature_names_out()"
      ]
    },
    {
      "cell_type": "code",
      "execution_count": 173,
      "metadata": {
        "colab": {
          "base_uri": "https://localhost:8080/",
          "height": 143
        },
        "id": "zLtSqgXpeIW6",
        "outputId": "c97afb9d-7662-4915-ad9f-bd116a549573"
      },
      "outputs": [
        {
          "output_type": "execute_result",
          "data": {
            "text/plain": [
              "   fun  is  love  programming\n",
              "0    0   0     1            1\n",
              "1    1   1     0            1\n",
              "2    1   0     1            1"
            ],
            "text/html": [
              "\n",
              "  <div id=\"df-89e1f6ca-937a-439c-8241-7a46d1b6ffa4\" class=\"colab-df-container\">\n",
              "    <div>\n",
              "<style scoped>\n",
              "    .dataframe tbody tr th:only-of-type {\n",
              "        vertical-align: middle;\n",
              "    }\n",
              "\n",
              "    .dataframe tbody tr th {\n",
              "        vertical-align: top;\n",
              "    }\n",
              "\n",
              "    .dataframe thead th {\n",
              "        text-align: right;\n",
              "    }\n",
              "</style>\n",
              "<table border=\"1\" class=\"dataframe\">\n",
              "  <thead>\n",
              "    <tr style=\"text-align: right;\">\n",
              "      <th></th>\n",
              "      <th>fun</th>\n",
              "      <th>is</th>\n",
              "      <th>love</th>\n",
              "      <th>programming</th>\n",
              "    </tr>\n",
              "  </thead>\n",
              "  <tbody>\n",
              "    <tr>\n",
              "      <th>0</th>\n",
              "      <td>0</td>\n",
              "      <td>0</td>\n",
              "      <td>1</td>\n",
              "      <td>1</td>\n",
              "    </tr>\n",
              "    <tr>\n",
              "      <th>1</th>\n",
              "      <td>1</td>\n",
              "      <td>1</td>\n",
              "      <td>0</td>\n",
              "      <td>1</td>\n",
              "    </tr>\n",
              "    <tr>\n",
              "      <th>2</th>\n",
              "      <td>1</td>\n",
              "      <td>0</td>\n",
              "      <td>1</td>\n",
              "      <td>1</td>\n",
              "    </tr>\n",
              "  </tbody>\n",
              "</table>\n",
              "</div>\n",
              "    <div class=\"colab-df-buttons\">\n",
              "\n",
              "  <div class=\"colab-df-container\">\n",
              "    <button class=\"colab-df-convert\" onclick=\"convertToInteractive('df-89e1f6ca-937a-439c-8241-7a46d1b6ffa4')\"\n",
              "            title=\"Convert this dataframe to an interactive table.\"\n",
              "            style=\"display:none;\">\n",
              "\n",
              "  <svg xmlns=\"http://www.w3.org/2000/svg\" height=\"24px\" viewBox=\"0 -960 960 960\">\n",
              "    <path d=\"M120-120v-720h720v720H120Zm60-500h600v-160H180v160Zm220 220h160v-160H400v160Zm0 220h160v-160H400v160ZM180-400h160v-160H180v160Zm440 0h160v-160H620v160ZM180-180h160v-160H180v160Zm440 0h160v-160H620v160Z\"/>\n",
              "  </svg>\n",
              "    </button>\n",
              "\n",
              "  <style>\n",
              "    .colab-df-container {\n",
              "      display:flex;\n",
              "      gap: 12px;\n",
              "    }\n",
              "\n",
              "    .colab-df-convert {\n",
              "      background-color: #E8F0FE;\n",
              "      border: none;\n",
              "      border-radius: 50%;\n",
              "      cursor: pointer;\n",
              "      display: none;\n",
              "      fill: #1967D2;\n",
              "      height: 32px;\n",
              "      padding: 0 0 0 0;\n",
              "      width: 32px;\n",
              "    }\n",
              "\n",
              "    .colab-df-convert:hover {\n",
              "      background-color: #E2EBFA;\n",
              "      box-shadow: 0px 1px 2px rgba(60, 64, 67, 0.3), 0px 1px 3px 1px rgba(60, 64, 67, 0.15);\n",
              "      fill: #174EA6;\n",
              "    }\n",
              "\n",
              "    .colab-df-buttons div {\n",
              "      margin-bottom: 4px;\n",
              "    }\n",
              "\n",
              "    [theme=dark] .colab-df-convert {\n",
              "      background-color: #3B4455;\n",
              "      fill: #D2E3FC;\n",
              "    }\n",
              "\n",
              "    [theme=dark] .colab-df-convert:hover {\n",
              "      background-color: #434B5C;\n",
              "      box-shadow: 0px 1px 3px 1px rgba(0, 0, 0, 0.15);\n",
              "      filter: drop-shadow(0px 1px 2px rgba(0, 0, 0, 0.3));\n",
              "      fill: #FFFFFF;\n",
              "    }\n",
              "  </style>\n",
              "\n",
              "    <script>\n",
              "      const buttonEl =\n",
              "        document.querySelector('#df-89e1f6ca-937a-439c-8241-7a46d1b6ffa4 button.colab-df-convert');\n",
              "      buttonEl.style.display =\n",
              "        google.colab.kernel.accessAllowed ? 'block' : 'none';\n",
              "\n",
              "      async function convertToInteractive(key) {\n",
              "        const element = document.querySelector('#df-89e1f6ca-937a-439c-8241-7a46d1b6ffa4');\n",
              "        const dataTable =\n",
              "          await google.colab.kernel.invokeFunction('convertToInteractive',\n",
              "                                                    [key], {});\n",
              "        if (!dataTable) return;\n",
              "\n",
              "        const docLinkHtml = 'Like what you see? Visit the ' +\n",
              "          '<a target=\"_blank\" href=https://colab.research.google.com/notebooks/data_table.ipynb>data table notebook</a>'\n",
              "          + ' to learn more about interactive tables.';\n",
              "        element.innerHTML = '';\n",
              "        dataTable['output_type'] = 'display_data';\n",
              "        await google.colab.output.renderOutput(dataTable, element);\n",
              "        const docLink = document.createElement('div');\n",
              "        docLink.innerHTML = docLinkHtml;\n",
              "        element.appendChild(docLink);\n",
              "      }\n",
              "    </script>\n",
              "  </div>\n",
              "\n",
              "\n",
              "<div id=\"df-3f9245bb-f7ec-4cf5-ae29-52d67fde5fa7\">\n",
              "  <button class=\"colab-df-quickchart\" onclick=\"quickchart('df-3f9245bb-f7ec-4cf5-ae29-52d67fde5fa7')\"\n",
              "            title=\"Suggest charts\"\n",
              "            style=\"display:none;\">\n",
              "\n",
              "<svg xmlns=\"http://www.w3.org/2000/svg\" height=\"24px\"viewBox=\"0 0 24 24\"\n",
              "     width=\"24px\">\n",
              "    <g>\n",
              "        <path d=\"M19 3H5c-1.1 0-2 .9-2 2v14c0 1.1.9 2 2 2h14c1.1 0 2-.9 2-2V5c0-1.1-.9-2-2-2zM9 17H7v-7h2v7zm4 0h-2V7h2v10zm4 0h-2v-4h2v4z\"/>\n",
              "    </g>\n",
              "</svg>\n",
              "  </button>\n",
              "\n",
              "<style>\n",
              "  .colab-df-quickchart {\n",
              "      --bg-color: #E8F0FE;\n",
              "      --fill-color: #1967D2;\n",
              "      --hover-bg-color: #E2EBFA;\n",
              "      --hover-fill-color: #174EA6;\n",
              "      --disabled-fill-color: #AAA;\n",
              "      --disabled-bg-color: #DDD;\n",
              "  }\n",
              "\n",
              "  [theme=dark] .colab-df-quickchart {\n",
              "      --bg-color: #3B4455;\n",
              "      --fill-color: #D2E3FC;\n",
              "      --hover-bg-color: #434B5C;\n",
              "      --hover-fill-color: #FFFFFF;\n",
              "      --disabled-bg-color: #3B4455;\n",
              "      --disabled-fill-color: #666;\n",
              "  }\n",
              "\n",
              "  .colab-df-quickchart {\n",
              "    background-color: var(--bg-color);\n",
              "    border: none;\n",
              "    border-radius: 50%;\n",
              "    cursor: pointer;\n",
              "    display: none;\n",
              "    fill: var(--fill-color);\n",
              "    height: 32px;\n",
              "    padding: 0;\n",
              "    width: 32px;\n",
              "  }\n",
              "\n",
              "  .colab-df-quickchart:hover {\n",
              "    background-color: var(--hover-bg-color);\n",
              "    box-shadow: 0 1px 2px rgba(60, 64, 67, 0.3), 0 1px 3px 1px rgba(60, 64, 67, 0.15);\n",
              "    fill: var(--button-hover-fill-color);\n",
              "  }\n",
              "\n",
              "  .colab-df-quickchart-complete:disabled,\n",
              "  .colab-df-quickchart-complete:disabled:hover {\n",
              "    background-color: var(--disabled-bg-color);\n",
              "    fill: var(--disabled-fill-color);\n",
              "    box-shadow: none;\n",
              "  }\n",
              "\n",
              "  .colab-df-spinner {\n",
              "    border: 2px solid var(--fill-color);\n",
              "    border-color: transparent;\n",
              "    border-bottom-color: var(--fill-color);\n",
              "    animation:\n",
              "      spin 1s steps(1) infinite;\n",
              "  }\n",
              "\n",
              "  @keyframes spin {\n",
              "    0% {\n",
              "      border-color: transparent;\n",
              "      border-bottom-color: var(--fill-color);\n",
              "      border-left-color: var(--fill-color);\n",
              "    }\n",
              "    20% {\n",
              "      border-color: transparent;\n",
              "      border-left-color: var(--fill-color);\n",
              "      border-top-color: var(--fill-color);\n",
              "    }\n",
              "    30% {\n",
              "      border-color: transparent;\n",
              "      border-left-color: var(--fill-color);\n",
              "      border-top-color: var(--fill-color);\n",
              "      border-right-color: var(--fill-color);\n",
              "    }\n",
              "    40% {\n",
              "      border-color: transparent;\n",
              "      border-right-color: var(--fill-color);\n",
              "      border-top-color: var(--fill-color);\n",
              "    }\n",
              "    60% {\n",
              "      border-color: transparent;\n",
              "      border-right-color: var(--fill-color);\n",
              "    }\n",
              "    80% {\n",
              "      border-color: transparent;\n",
              "      border-right-color: var(--fill-color);\n",
              "      border-bottom-color: var(--fill-color);\n",
              "    }\n",
              "    90% {\n",
              "      border-color: transparent;\n",
              "      border-bottom-color: var(--fill-color);\n",
              "    }\n",
              "  }\n",
              "</style>\n",
              "\n",
              "  <script>\n",
              "    async function quickchart(key) {\n",
              "      const quickchartButtonEl =\n",
              "        document.querySelector('#' + key + ' button');\n",
              "      quickchartButtonEl.disabled = true;  // To prevent multiple clicks.\n",
              "      quickchartButtonEl.classList.add('colab-df-spinner');\n",
              "      try {\n",
              "        const charts = await google.colab.kernel.invokeFunction(\n",
              "            'suggestCharts', [key], {});\n",
              "      } catch (error) {\n",
              "        console.error('Error during call to suggestCharts:', error);\n",
              "      }\n",
              "      quickchartButtonEl.classList.remove('colab-df-spinner');\n",
              "      quickchartButtonEl.classList.add('colab-df-quickchart-complete');\n",
              "    }\n",
              "    (() => {\n",
              "      let quickchartButtonEl =\n",
              "        document.querySelector('#df-3f9245bb-f7ec-4cf5-ae29-52d67fde5fa7 button');\n",
              "      quickchartButtonEl.style.display =\n",
              "        google.colab.kernel.accessAllowed ? 'block' : 'none';\n",
              "    })();\n",
              "  </script>\n",
              "</div>\n",
              "\n",
              "    </div>\n",
              "  </div>\n"
            ],
            "application/vnd.google.colaboratory.intrinsic+json": {
              "type": "dataframe",
              "summary": "{\n  \"name\": \"pd\",\n  \"rows\": 3,\n  \"fields\": [\n    {\n      \"column\": \"fun\",\n      \"properties\": {\n        \"dtype\": \"number\",\n        \"std\": 0,\n        \"min\": 0,\n        \"max\": 1,\n        \"num_unique_values\": 2,\n        \"samples\": [\n          1,\n          0\n        ],\n        \"semantic_type\": \"\",\n        \"description\": \"\"\n      }\n    },\n    {\n      \"column\": \"is\",\n      \"properties\": {\n        \"dtype\": \"number\",\n        \"std\": 0,\n        \"min\": 0,\n        \"max\": 1,\n        \"num_unique_values\": 2,\n        \"samples\": [\n          1,\n          0\n        ],\n        \"semantic_type\": \"\",\n        \"description\": \"\"\n      }\n    },\n    {\n      \"column\": \"love\",\n      \"properties\": {\n        \"dtype\": \"number\",\n        \"std\": 0,\n        \"min\": 0,\n        \"max\": 1,\n        \"num_unique_values\": 2,\n        \"samples\": [\n          0,\n          1\n        ],\n        \"semantic_type\": \"\",\n        \"description\": \"\"\n      }\n    },\n    {\n      \"column\": \"programming\",\n      \"properties\": {\n        \"dtype\": \"number\",\n        \"std\": 0,\n        \"min\": 1,\n        \"max\": 1,\n        \"num_unique_values\": 1,\n        \"samples\": [\n          1\n        ],\n        \"semantic_type\": \"\",\n        \"description\": \"\"\n      }\n    }\n  ]\n}"
            }
          },
          "metadata": {},
          "execution_count": 173
        }
      ],
      "source": [
        "# Converting to a pandas dataframe\n",
        "pd.DataFrame(doc_matrix.toarray(),columns=bow_vec.get_feature_names_out())"
      ]
    },
    {
      "cell_type": "code",
      "execution_count": 174,
      "metadata": {
        "id": "BKAPwcwNdZpb"
      },
      "outputs": [],
      "source": [
        "# Extracting the reviews\n",
        "review_1 = data['review'][0]\n",
        "review_2 = data['review'][1]\n",
        "\n",
        "# Creating the list of reviews or documents\n",
        "list_of_docs = [review_1,review_2]\n",
        "\n",
        "#Initializing the CountVectorizer\n",
        "bow_vec = CountVectorizer()\n",
        "\n",
        "#Creating the BoW matrix.\n",
        "doc_matrix = bow_vec.fit_transform(list_of_docs)"
      ]
    },
    {
      "cell_type": "code",
      "execution_count": 176,
      "metadata": {
        "colab": {
          "base_uri": "https://localhost:8080/"
        },
        "id": "YAVw9VbbdyEl",
        "outputId": "9e4239b8-83df-4ef9-f60d-e50c7d7bd414"
      },
      "outputs": [
        {
          "output_type": "execute_result",
          "data": {
            "text/plain": [
              "array([[ 0,  0,  0,  0,  0,  0,  0,  0,  0,  0,  0,  0,  9,  0,  2,  0,\n",
              "         0,  0,  1,  0,  1,  2,  2,  0,  0,  0,  0,  0,  0,  1,  0,  1,\n",
              "         1,  0,  0,  1,  1,  0,  0,  0,  0,  1,  0,  1,  0,  0,  0,  0,\n",
              "         0,  0,  1,  0,  0,  0,  0,  0,  0,  1,  1,  0,  0,  0,  1,  1,\n",
              "         0,  0,  0,  0,  0,  0,  0,  0,  0,  0,  1,  0,  0,  1,  1,  0,\n",
              "         0,  0,  0,  0,  0,  0,  0,  0,  0,  0,  1,  0,  0,  1,  0,  0,\n",
              "         1,  0,  0,  0,  0,  0,  1,  2,  0,  0,  0,  0,  1,  0,  0,  5,\n",
              "         2,  1,  0,  1,  0,  0,  0,  2,  3,  0,  1,  1,  0,  1,  0,  0,\n",
              "         1,  0,  0,  1,  0,  0,  1,  0,  2,  1,  0,  0,  1,  0,  0,  0,\n",
              "         1,  2,  0,  0,  1,  2,  1,  1,  8,  0,  1,  0,  0,  0,  0,  0,\n",
              "         1,  1,  0,  0,  0,  3,  0,  1,  0,  0,  0,  1,  0,  2,  1,  0,\n",
              "         0,  0,  1,  1,  0,  0,  1,  0,  0,  1,  1,  0,  1,  0,  0,  1,\n",
              "         0,  2,  0,  0,  1,  1,  0, 13,  2,  1,  1,  0,  1,  0,  3,  0,\n",
              "         0,  0,  0,  3,  0,  0,  0,  0,  0,  0,  0,  0,  0,  2,  0,  0,\n",
              "         1,  0,  1,  1,  0,  0,  0,  1,  0,  0,  0,  0,  0,  0,  0,  0,\n",
              "         1,  1,  0,  1],\n",
              "       [ 1,  1,  1,  1,  1,  1,  1,  1,  1,  1,  1,  3,  8,  1,  1,  4,\n",
              "         1,  1,  0,  1,  6,  0,  2,  1,  1,  8,  1,  1,  1,  3,  1,  2,\n",
              "         0,  1,  1,  0,  0,  2,  1,  1,  2,  0,  1,  0,  3,  1,  1,  1,\n",
              "         1,  1,  0,  1,  1,  1,  1,  1,  1,  0,  0,  1,  1,  1,  0,  0,\n",
              "         1,  1,  1,  1,  1,  1,  1,  1,  1,  1,  0,  1,  1,  3,  0,  1,\n",
              "         1,  1,  1,  1,  1,  1,  2,  1,  1,  2,  4,  1,  1,  0,  1,  1,\n",
              "         0,  1,  1,  1,  1,  3,  0,  0,  1,  1,  1,  2,  0,  1,  1,  7,\n",
              "         0,  0,  1,  0,  1,  1,  1,  5,  5,  2,  0,  0,  1,  0,  1,  1,\n",
              "         0,  1,  1,  0,  1,  1,  0,  1,  0,  0,  1,  3,  0,  1,  1,  1,\n",
              "         0,  2,  1,  1,  0,  0,  0,  0,  8,  1,  0,  1,  3,  1,  1,  1,\n",
              "         1,  1,  1,  1,  1,  0,  1,  0,  1,  1,  1,  0,  1,  0,  0,  1,\n",
              "         1,  1,  0,  0,  1,  2,  1,  1,  2,  0,  0,  3,  0,  1,  1,  0,\n",
              "         1,  0,  1,  1,  0,  0,  6, 12,  0,  0,  1,  1,  1,  1,  6,  1,\n",
              "         2,  1,  1,  9,  1,  1,  5,  1,  1,  1,  1,  1,  1,  0,  1,  1,\n",
              "         0,  1,  0,  0,  3,  1,  1,  1,  1,  2,  1,  1,  1,  1,  1,  1,\n",
              "         0,  3,  1,  0]])"
            ]
          },
          "metadata": {},
          "execution_count": 176
        }
      ],
      "source": [
        "doc_matrix.toarray()"
      ]
    },
    {
      "cell_type": "markdown",
      "metadata": {
        "id": "qWJqayVLU49f"
      },
      "source": [
        "- Here, we can observe positive values greater than 1 also.\n",
        "  - This is because some of the words occurs more than once."
      ]
    },
    {
      "cell_type": "code",
      "execution_count": 175,
      "metadata": {
        "colab": {
          "base_uri": "https://localhost:8080/"
        },
        "id": "8zBCjWxad2qo",
        "outputId": "33ca2c48-4869-4ba0-a333-11d5c1d00247"
      },
      "outputs": [
        {
          "output_type": "execute_result",
          "data": {
            "text/plain": [
              "array(['10', '1995', 'absolute', 'actor', 'actually', 'admittedly',\n",
              "       'afterward', 'all', 'almost', 'although', 'am', 'an', 'and',\n",
              "       'appeared', 'are', 'as', 'aspires', 'aspiring', 'at', 'avoid',\n",
              "       'be', 'believable', 'between', 'biz', 'black', 'br', 'bring',\n",
              "       'brooklyn', 'business', 'but', 'button', 'by', 'cameo', 'career',\n",
              "       'casted', 'caught', 'changed', 'character', 'characters',\n",
              "       'chemistry', 'clever', 'climax', 'close', 'compared', 'cool',\n",
              "       'crime', 'crooked', 'dance', 'delivered', 'delivers',\n",
              "       'desperation', 'despite', 'devoid', 'dialog', 'die',\n",
              "       'disappointing', 'do', 'does', 'done', 'dressed', 'due', 'dunst',\n",
              "       'dysfunctional', 'easy', 'embarrassing', 'enough', 'entertaining',\n",
              "       'entertainment', 'entirely', 'everyone', 'example', 'falls',\n",
              "       'fans', 'fast', 'father', 'favorite', 'feeling', 'film', 'find',\n",
              "       'finger', 'first', 'fish', 'flat', 'for', 'forward', 'frequently',\n",
              "       'from', 'funny', 'gabrielle', 'gangster', 'get', 'gets', 'getting',\n",
              "       'go', 'going', 'gone', 'good', 'goon', 'hards', 'harsh', 'has',\n",
              "       'he', 'heaving', 'her', 'hey', 'highlight', 'him', 'his',\n",
              "       'husband', 'idea', 'immediately', 'in', 'india', 'interaction',\n",
              "       'interestingly', 'interludes', 'interviews', 'into', 'introduces',\n",
              "       'is', 'it', 'john', 'kapoor', 'karisma', 'keep', 'khan', 'kind',\n",
              "       'kirsten', 'know', 'lack', 'laughs', 'law', 'leads', 'legitimate',\n",
              "       'light', 'likening', 'lives', 'love', 'made', 'may', 'mere',\n",
              "       'mildly', 'monolgue', 'most', 'mother', 'movie', 'movies', 'much',\n",
              "       'musical', 'nandini', 'not', 'nt', 'of', 'often', 'okay', 'on',\n",
              "       'one', 'or', 'organized', 'out', 'overall', 'performance', 'pimp',\n",
              "       'pleasant', 'plot', 'power', 'premise', 'project', 'proves',\n",
              "       'quite', 'rate', 'redemption', 'reenacts', 'relationship',\n",
              "       'relief', 'rental', 'rock', 'role', 'rukh', 'sadness', 'says',\n",
              "       'scene', 'seems', 'seen', 'sequel', 'shah', 'shakti', 'shorty',\n",
              "       'sigh', 'since', 'some', 'son', 'statements', 'strengths',\n",
              "       'suggests', 'surprising', 'swallow', 'terribly', 'that', 'the',\n",
              "       'their', 'theme', 'then', 'there', 'things', 'thinks', 'this',\n",
              "       'through', 'thurman', 'time', 'tired', 'to', 'too', 'trailers',\n",
              "       'travolta', 'ultimately', 'uma', 'underdeveloped', 'unfunny',\n",
              "       'union', 'unlikeable', 'up', 'vaughan', 'vince', 'violence',\n",
              "       'want', 'warlord', 'warmth', 'was', 'wasted', 'water', 'well',\n",
              "       'where', 'which', 'whose', 'winner', 'wish', 'without', 'witty',\n",
              "       'worth', 'wrong', 'you', 'your', 'yourself'], dtype=object)"
            ]
          },
          "metadata": {},
          "execution_count": 175
        }
      ],
      "source": [
        "bow_vec.get_feature_names_out()"
      ]
    },
    {
      "cell_type": "code",
      "execution_count": null,
      "metadata": {
        "colab": {
          "base_uri": "https://localhost:8080/",
          "height": 141
        },
        "id": "1nqN4G1QeV0Z",
        "outputId": "bac88fcc-6b79-49bd-def2-8bda556e6b95"
      },
      "outputs": [
        {
          "output_type": "execute_result",
          "data": {
            "text/plain": [
              "   10  1995  absolute  actor  actually  admittedly  afterward  all  almost  \\\n",
              "0   0     0         0      0         0           0          0    0       0   \n",
              "1   1     1         1      1         1           1          1    1       1   \n",
              "\n",
              "   although  ...  whose  winner  wish  without  witty  worth  wrong  you  \\\n",
              "0         0  ...      0       0     0        0      0      0      1    1   \n",
              "1         1  ...      1       1     1        1      1      1      0    3   \n",
              "\n",
              "   your  yourself  \n",
              "0     0         1  \n",
              "1     1         0  \n",
              "\n",
              "[2 rows x 244 columns]"
            ],
            "text/html": [
              "\n",
              "  <div id=\"df-59bea939-c201-4c7b-9517-2941bfc0a64e\" class=\"colab-df-container\">\n",
              "    <div>\n",
              "<style scoped>\n",
              "    .dataframe tbody tr th:only-of-type {\n",
              "        vertical-align: middle;\n",
              "    }\n",
              "\n",
              "    .dataframe tbody tr th {\n",
              "        vertical-align: top;\n",
              "    }\n",
              "\n",
              "    .dataframe thead th {\n",
              "        text-align: right;\n",
              "    }\n",
              "</style>\n",
              "<table border=\"1\" class=\"dataframe\">\n",
              "  <thead>\n",
              "    <tr style=\"text-align: right;\">\n",
              "      <th></th>\n",
              "      <th>10</th>\n",
              "      <th>1995</th>\n",
              "      <th>absolute</th>\n",
              "      <th>actor</th>\n",
              "      <th>actually</th>\n",
              "      <th>admittedly</th>\n",
              "      <th>afterward</th>\n",
              "      <th>all</th>\n",
              "      <th>almost</th>\n",
              "      <th>although</th>\n",
              "      <th>...</th>\n",
              "      <th>whose</th>\n",
              "      <th>winner</th>\n",
              "      <th>wish</th>\n",
              "      <th>without</th>\n",
              "      <th>witty</th>\n",
              "      <th>worth</th>\n",
              "      <th>wrong</th>\n",
              "      <th>you</th>\n",
              "      <th>your</th>\n",
              "      <th>yourself</th>\n",
              "    </tr>\n",
              "  </thead>\n",
              "  <tbody>\n",
              "    <tr>\n",
              "      <th>0</th>\n",
              "      <td>0</td>\n",
              "      <td>0</td>\n",
              "      <td>0</td>\n",
              "      <td>0</td>\n",
              "      <td>0</td>\n",
              "      <td>0</td>\n",
              "      <td>0</td>\n",
              "      <td>0</td>\n",
              "      <td>0</td>\n",
              "      <td>0</td>\n",
              "      <td>...</td>\n",
              "      <td>0</td>\n",
              "      <td>0</td>\n",
              "      <td>0</td>\n",
              "      <td>0</td>\n",
              "      <td>0</td>\n",
              "      <td>0</td>\n",
              "      <td>1</td>\n",
              "      <td>1</td>\n",
              "      <td>0</td>\n",
              "      <td>1</td>\n",
              "    </tr>\n",
              "    <tr>\n",
              "      <th>1</th>\n",
              "      <td>1</td>\n",
              "      <td>1</td>\n",
              "      <td>1</td>\n",
              "      <td>1</td>\n",
              "      <td>1</td>\n",
              "      <td>1</td>\n",
              "      <td>1</td>\n",
              "      <td>1</td>\n",
              "      <td>1</td>\n",
              "      <td>1</td>\n",
              "      <td>...</td>\n",
              "      <td>1</td>\n",
              "      <td>1</td>\n",
              "      <td>1</td>\n",
              "      <td>1</td>\n",
              "      <td>1</td>\n",
              "      <td>1</td>\n",
              "      <td>0</td>\n",
              "      <td>3</td>\n",
              "      <td>1</td>\n",
              "      <td>0</td>\n",
              "    </tr>\n",
              "  </tbody>\n",
              "</table>\n",
              "<p>2 rows × 244 columns</p>\n",
              "</div>\n",
              "    <div class=\"colab-df-buttons\">\n",
              "\n",
              "  <div class=\"colab-df-container\">\n",
              "    <button class=\"colab-df-convert\" onclick=\"convertToInteractive('df-59bea939-c201-4c7b-9517-2941bfc0a64e')\"\n",
              "            title=\"Convert this dataframe to an interactive table.\"\n",
              "            style=\"display:none;\">\n",
              "\n",
              "  <svg xmlns=\"http://www.w3.org/2000/svg\" height=\"24px\" viewBox=\"0 -960 960 960\">\n",
              "    <path d=\"M120-120v-720h720v720H120Zm60-500h600v-160H180v160Zm220 220h160v-160H400v160Zm0 220h160v-160H400v160ZM180-400h160v-160H180v160Zm440 0h160v-160H620v160ZM180-180h160v-160H180v160Zm440 0h160v-160H620v160Z\"/>\n",
              "  </svg>\n",
              "    </button>\n",
              "\n",
              "  <style>\n",
              "    .colab-df-container {\n",
              "      display:flex;\n",
              "      gap: 12px;\n",
              "    }\n",
              "\n",
              "    .colab-df-convert {\n",
              "      background-color: #E8F0FE;\n",
              "      border: none;\n",
              "      border-radius: 50%;\n",
              "      cursor: pointer;\n",
              "      display: none;\n",
              "      fill: #1967D2;\n",
              "      height: 32px;\n",
              "      padding: 0 0 0 0;\n",
              "      width: 32px;\n",
              "    }\n",
              "\n",
              "    .colab-df-convert:hover {\n",
              "      background-color: #E2EBFA;\n",
              "      box-shadow: 0px 1px 2px rgba(60, 64, 67, 0.3), 0px 1px 3px 1px rgba(60, 64, 67, 0.15);\n",
              "      fill: #174EA6;\n",
              "    }\n",
              "\n",
              "    .colab-df-buttons div {\n",
              "      margin-bottom: 4px;\n",
              "    }\n",
              "\n",
              "    [theme=dark] .colab-df-convert {\n",
              "      background-color: #3B4455;\n",
              "      fill: #D2E3FC;\n",
              "    }\n",
              "\n",
              "    [theme=dark] .colab-df-convert:hover {\n",
              "      background-color: #434B5C;\n",
              "      box-shadow: 0px 1px 3px 1px rgba(0, 0, 0, 0.15);\n",
              "      filter: drop-shadow(0px 1px 2px rgba(0, 0, 0, 0.3));\n",
              "      fill: #FFFFFF;\n",
              "    }\n",
              "  </style>\n",
              "\n",
              "    <script>\n",
              "      const buttonEl =\n",
              "        document.querySelector('#df-59bea939-c201-4c7b-9517-2941bfc0a64e button.colab-df-convert');\n",
              "      buttonEl.style.display =\n",
              "        google.colab.kernel.accessAllowed ? 'block' : 'none';\n",
              "\n",
              "      async function convertToInteractive(key) {\n",
              "        const element = document.querySelector('#df-59bea939-c201-4c7b-9517-2941bfc0a64e');\n",
              "        const dataTable =\n",
              "          await google.colab.kernel.invokeFunction('convertToInteractive',\n",
              "                                                    [key], {});\n",
              "        if (!dataTable) return;\n",
              "\n",
              "        const docLinkHtml = 'Like what you see? Visit the ' +\n",
              "          '<a target=\"_blank\" href=https://colab.research.google.com/notebooks/data_table.ipynb>data table notebook</a>'\n",
              "          + ' to learn more about interactive tables.';\n",
              "        element.innerHTML = '';\n",
              "        dataTable['output_type'] = 'display_data';\n",
              "        await google.colab.output.renderOutput(dataTable, element);\n",
              "        const docLink = document.createElement('div');\n",
              "        docLink.innerHTML = docLinkHtml;\n",
              "        element.appendChild(docLink);\n",
              "      }\n",
              "    </script>\n",
              "  </div>\n",
              "\n",
              "\n",
              "<div id=\"df-646e9cce-4939-4e72-ae72-1a968e5594cc\">\n",
              "  <button class=\"colab-df-quickchart\" onclick=\"quickchart('df-646e9cce-4939-4e72-ae72-1a968e5594cc')\"\n",
              "            title=\"Suggest charts\"\n",
              "            style=\"display:none;\">\n",
              "\n",
              "<svg xmlns=\"http://www.w3.org/2000/svg\" height=\"24px\"viewBox=\"0 0 24 24\"\n",
              "     width=\"24px\">\n",
              "    <g>\n",
              "        <path d=\"M19 3H5c-1.1 0-2 .9-2 2v14c0 1.1.9 2 2 2h14c1.1 0 2-.9 2-2V5c0-1.1-.9-2-2-2zM9 17H7v-7h2v7zm4 0h-2V7h2v10zm4 0h-2v-4h2v4z\"/>\n",
              "    </g>\n",
              "</svg>\n",
              "  </button>\n",
              "\n",
              "<style>\n",
              "  .colab-df-quickchart {\n",
              "      --bg-color: #E8F0FE;\n",
              "      --fill-color: #1967D2;\n",
              "      --hover-bg-color: #E2EBFA;\n",
              "      --hover-fill-color: #174EA6;\n",
              "      --disabled-fill-color: #AAA;\n",
              "      --disabled-bg-color: #DDD;\n",
              "  }\n",
              "\n",
              "  [theme=dark] .colab-df-quickchart {\n",
              "      --bg-color: #3B4455;\n",
              "      --fill-color: #D2E3FC;\n",
              "      --hover-bg-color: #434B5C;\n",
              "      --hover-fill-color: #FFFFFF;\n",
              "      --disabled-bg-color: #3B4455;\n",
              "      --disabled-fill-color: #666;\n",
              "  }\n",
              "\n",
              "  .colab-df-quickchart {\n",
              "    background-color: var(--bg-color);\n",
              "    border: none;\n",
              "    border-radius: 50%;\n",
              "    cursor: pointer;\n",
              "    display: none;\n",
              "    fill: var(--fill-color);\n",
              "    height: 32px;\n",
              "    padding: 0;\n",
              "    width: 32px;\n",
              "  }\n",
              "\n",
              "  .colab-df-quickchart:hover {\n",
              "    background-color: var(--hover-bg-color);\n",
              "    box-shadow: 0 1px 2px rgba(60, 64, 67, 0.3), 0 1px 3px 1px rgba(60, 64, 67, 0.15);\n",
              "    fill: var(--button-hover-fill-color);\n",
              "  }\n",
              "\n",
              "  .colab-df-quickchart-complete:disabled,\n",
              "  .colab-df-quickchart-complete:disabled:hover {\n",
              "    background-color: var(--disabled-bg-color);\n",
              "    fill: var(--disabled-fill-color);\n",
              "    box-shadow: none;\n",
              "  }\n",
              "\n",
              "  .colab-df-spinner {\n",
              "    border: 2px solid var(--fill-color);\n",
              "    border-color: transparent;\n",
              "    border-bottom-color: var(--fill-color);\n",
              "    animation:\n",
              "      spin 1s steps(1) infinite;\n",
              "  }\n",
              "\n",
              "  @keyframes spin {\n",
              "    0% {\n",
              "      border-color: transparent;\n",
              "      border-bottom-color: var(--fill-color);\n",
              "      border-left-color: var(--fill-color);\n",
              "    }\n",
              "    20% {\n",
              "      border-color: transparent;\n",
              "      border-left-color: var(--fill-color);\n",
              "      border-top-color: var(--fill-color);\n",
              "    }\n",
              "    30% {\n",
              "      border-color: transparent;\n",
              "      border-left-color: var(--fill-color);\n",
              "      border-top-color: var(--fill-color);\n",
              "      border-right-color: var(--fill-color);\n",
              "    }\n",
              "    40% {\n",
              "      border-color: transparent;\n",
              "      border-right-color: var(--fill-color);\n",
              "      border-top-color: var(--fill-color);\n",
              "    }\n",
              "    60% {\n",
              "      border-color: transparent;\n",
              "      border-right-color: var(--fill-color);\n",
              "    }\n",
              "    80% {\n",
              "      border-color: transparent;\n",
              "      border-right-color: var(--fill-color);\n",
              "      border-bottom-color: var(--fill-color);\n",
              "    }\n",
              "    90% {\n",
              "      border-color: transparent;\n",
              "      border-bottom-color: var(--fill-color);\n",
              "    }\n",
              "  }\n",
              "</style>\n",
              "\n",
              "  <script>\n",
              "    async function quickchart(key) {\n",
              "      const quickchartButtonEl =\n",
              "        document.querySelector('#' + key + ' button');\n",
              "      quickchartButtonEl.disabled = true;  // To prevent multiple clicks.\n",
              "      quickchartButtonEl.classList.add('colab-df-spinner');\n",
              "      try {\n",
              "        const charts = await google.colab.kernel.invokeFunction(\n",
              "            'suggestCharts', [key], {});\n",
              "      } catch (error) {\n",
              "        console.error('Error during call to suggestCharts:', error);\n",
              "      }\n",
              "      quickchartButtonEl.classList.remove('colab-df-spinner');\n",
              "      quickchartButtonEl.classList.add('colab-df-quickchart-complete');\n",
              "    }\n",
              "    (() => {\n",
              "      let quickchartButtonEl =\n",
              "        document.querySelector('#df-646e9cce-4939-4e72-ae72-1a968e5594cc button');\n",
              "      quickchartButtonEl.style.display =\n",
              "        google.colab.kernel.accessAllowed ? 'block' : 'none';\n",
              "    })();\n",
              "  </script>\n",
              "</div>\n",
              "\n",
              "    </div>\n",
              "  </div>\n"
            ],
            "application/vnd.google.colaboratory.intrinsic+json": {
              "type": "dataframe"
            }
          },
          "metadata": {},
          "execution_count": 85
        }
      ],
      "source": [
        "# Converting to a pandas dataframe\n",
        "pd.DataFrame(doc_matrix.toarray(),columns=bow_vec.get_feature_names_out())"
      ]
    },
    {
      "cell_type": "markdown",
      "metadata": {
        "id": "-U1stbKvcge6"
      },
      "source": [
        "- The *`max_features`* parameter in CountVectorizer limits the number of words (or tokens) used to create the vocabulary.\n",
        "- This helps when dealing with large datasets by keeping only the most important or frequent words."
      ]
    },
    {
      "cell_type": "code",
      "execution_count": null,
      "metadata": {
        "colab": {
          "base_uri": "https://localhost:8080/"
        },
        "id": "N6QlX2WYzw8s",
        "outputId": "35e10fd5-f3c7-4a6d-a320-572e6a7f0843"
      },
      "outputs": [
        {
          "output_type": "execute_result",
          "data": {
            "text/plain": [
              "(9982, 1000)"
            ]
          },
          "metadata": {},
          "execution_count": 86
        }
      ],
      "source": [
        "# Initializing CountVectorizer with top 1000 words\n",
        "bow_vec = CountVectorizer(max_features = 1000)\n",
        "\n",
        "# Applying TfidfVectorizer on data\n",
        "data_features_BOW = bow_vec.fit_transform(data['final_cleaned_text'])\n",
        "\n",
        "# Convert the data features to array\n",
        "data_features_BOW = data_features_BOW.toarray()\n",
        "\n",
        "# Shape of the feature vector\n",
        "data_features_BOW.shape"
      ]
    },
    {
      "cell_type": "code",
      "execution_count": null,
      "metadata": {
        "id": "GJiYB_i0s-Ks"
      },
      "outputs": [],
      "source": [
        "# Getting the 1000 words considered by the BoW model\n",
        "words = bow_vec.get_feature_names_out()"
      ]
    },
    {
      "cell_type": "code",
      "execution_count": null,
      "metadata": {
        "colab": {
          "base_uri": "https://localhost:8080/"
        },
        "id": "vq27PZvf_K3m",
        "outputId": "b5358b66-522c-4f84-d763-2375090d7cf5"
      },
      "outputs": [
        {
          "output_type": "execute_result",
          "data": {
            "text/plain": [
              "array(['10', '100', '20', '30', '50', '60', '70', '80', '90', 'abil',\n",
              "       'abl', 'absolut', 'accent', 'accept', 'achiev', 'across', 'act',\n",
              "       'action', 'actor', 'actress', 'actual', 'ad', 'adapt', 'add',\n",
              "       'admit', 'adult', 'adventur', 'age', 'ago', 'agre', 'air', 'alien',\n",
              "       'aliv', 'allow', 'almost', 'alon', 'along', 'alreadi', 'also',\n",
              "       'although', 'alway', 'amaz', 'america', 'american', 'among',\n",
              "       'amount', 'amus', 'anim', 'ann', 'annoy', 'anoth', 'answer',\n",
              "       'anti', 'anyon', 'anyth', 'anyway', 'apart', 'appar', 'appeal',\n",
              "       'appear', 'appreci', 'approach', 'armi', 'around', 'arriv', 'art',\n",
              "       'artist', 'ask', 'aspect', 'atmospher', 'attack', 'attempt',\n",
              "       'attent', 'attract', 'audienc', 'averag', 'avoid', 'aw', 'award',\n",
              "       'away', 'awesom', 'babi', 'back', 'background', 'bad', 'badli',\n",
              "       'band', 'bare', 'base', 'basic', 'battl', 'beat', 'beauti',\n",
              "       'becam', 'becom', 'begin', 'behind', 'believ', 'best', 'better',\n",
              "       'beyond', 'big', 'bill', 'bit', 'black', 'blood', 'blue', 'bodi',\n",
              "       'bond', 'book', 'bore', 'bother', 'box', 'boy', 'br', 'brain',\n",
              "       'break', 'brilliant', 'bring', 'british', 'brother', 'brought',\n",
              "       'budget', 'build', 'bunch', 'burn', 'busi', 'buy', 'call', 'came',\n",
              "       'camera', 'cannot', 'captur', 'car', 'care', 'career', 'carri',\n",
              "       'cartoon', 'case', 'cast', 'cat', 'catch', 'caught', 'caus',\n",
              "       'centuri', 'certain', 'certainli', 'chanc', 'chang', 'channel',\n",
              "       'charact', 'charm', 'chase', 'cheap', 'check', 'cheesi', 'child',\n",
              "       'children', 'choic', 'christma', 'cinema', 'cinematographi',\n",
              "       'citi', 'claim', 'class', 'classic', 'clear', 'clearli', 'clever',\n",
              "       'clich', 'close', 'co', 'cold', 'collect', 'color', 'combin',\n",
              "       'come', 'comedi', 'comic', 'comment', 'commit', 'common', 'commun',\n",
              "       'compani', 'compar', 'complet', 'complex', 'concept', 'concern',\n",
              "       'conclus', 'confus', 'connect', 'consid', 'contain', 'continu',\n",
              "       'control', 'convinc', 'cool', 'cop', 'copi', 'costum', 'could',\n",
              "       'countri', 'coupl', 'cours', 'cover', 'crap', 'crazi', 'creat',\n",
              "       'creatur', 'credit', 'creepi', 'crew', 'cri', 'crime', 'critic',\n",
              "       'cross', 'cultur', 'cut', 'cute', 'danc', 'danger', 'dark', 'date',\n",
              "       'daughter', 'david', 'day', 'de', 'dead', 'deal', 'death',\n",
              "       'decent', 'decid', 'deep', 'definit', 'deliv', 'depict', 'depth',\n",
              "       'describ', 'deserv', 'design', 'desper', 'despit', 'destroy',\n",
              "       'detail', 'develop', 'dialog', 'dialogu', 'die', 'differ',\n",
              "       'difficult', 'direct', 'director', 'disappoint', 'discov',\n",
              "       'disney', 'disturb', 'doctor', 'documentari', 'dog', 'done',\n",
              "       'door', 'doubt', 'dr', 'drag', 'drama', 'dramat', 'dream', 'dress',\n",
              "       'drive', 'drug', 'due', 'dull', 'dumb', 'dvd', 'earli', 'earlier',\n",
              "       'earth', 'easi', 'easili', 'eat', 'edg', 'edit', 'effect',\n",
              "       'effort', 'either', 'element', 'els', 'emot', 'end', 'engag',\n",
              "       'english', 'enjoy', 'enough', 'entertain', 'entir', 'episod',\n",
              "       'equal', 'era', 'escap', 'especi', 'etc', 'even', 'event',\n",
              "       'eventu', 'ever', 'everi', 'everyon', 'everyth', 'evil', 'exactli',\n",
              "       'exampl', 'excel', 'except', 'excit', 'execut', 'exist', 'expect',\n",
              "       'experi', 'explain', 'exploit', 'express', 'extra', 'extrem',\n",
              "       'eye', 'face', 'fact', 'fail', 'fake', 'fall', 'famili',\n",
              "       'familiar', 'famou', 'fan', 'fantasi', 'fantast', 'far', 'fascin',\n",
              "       'fashion', 'fast', 'father', 'favorit', 'fear', 'featur', 'feel',\n",
              "       'felt', 'femal', 'fi', 'fiction', 'fight', 'figur', 'fill', 'film',\n",
              "       'filmmak', 'final', 'find', 'fine', 'finish', 'fire', 'first',\n",
              "       'fit', 'five', 'flat', 'flaw', 'fli', 'flick', 'follow', 'footag',\n",
              "       'forc', 'forget', 'form', 'forward', 'found', 'four', 'free',\n",
              "       'french', 'friend', 'front', 'full', 'fun', 'funni', 'futur',\n",
              "       'game', 'gave', 'gay', 'gener', 'genr', 'georg', 'german', 'get',\n",
              "       'girl', 'girlfriend', 'give', 'given', 'go', 'god', 'goe', 'gone',\n",
              "       'good', 'gore', 'got', 'great', 'greatest', 'group', 'grow',\n",
              "       'guess', 'gun', 'guy', 'hair', 'half', 'hand', 'happen', 'happi',\n",
              "       'hard', 'hardli', 'harri', 'hate', 'head', 'hear', 'heard',\n",
              "       'heart', 'hell', 'help', 'hero', 'high', 'highli', 'hilari',\n",
              "       'histor', 'histori', 'hit', 'hold', 'hole', 'hollywood', 'home',\n",
              "       'hope', 'horribl', 'horror', 'hot', 'hour', 'hous', 'howev',\n",
              "       'huge', 'human', 'humor', 'husband', 'idea', 'ignor', 'imag',\n",
              "       'imagin', 'imdb', 'immedi', 'import', 'impress', 'includ',\n",
              "       'incred', 'inde', 'inform', 'innoc', 'insid', 'inspir', 'instead',\n",
              "       'intellig', 'intens', 'intent', 'interest', 'introduc', 'involv',\n",
              "       'island', 'issu', 'italian', 'jack', 'jame', 'jane', 'japanes',\n",
              "       'job', 'joe', 'john', 'joke', 'jone', 'judg', 'jump', 'keep',\n",
              "       'kept', 'kick', 'kid', 'kill', 'killer', 'kind', 'king', 'knew',\n",
              "       'know', 'known', 'la', 'lack', 'ladi', 'lame', 'land', 'languag',\n",
              "       'larg', 'last', 'late', 'later', 'laugh', 'law', 'lead', 'learn',\n",
              "       'least', 'leav', 'lee', 'left', 'less', 'let', 'level', 'lie',\n",
              "       'life', 'light', 'like', 'line', 'list', 'listen', 'liter',\n",
              "       'littl', 'live', 'local', 'locat', 'long', 'look', 'lose', 'lost',\n",
              "       'lot', 'love', 'lover', 'low', 'mad', 'made', 'magic', 'main',\n",
              "       'major', 'make', 'maker', 'male', 'man', 'manag', 'mani', 'mari',\n",
              "       'mark', 'marri', 'master', 'masterpiec', 'match', 'materi',\n",
              "       'matter', 'may', 'mayb', 'mean', 'meant', 'meet', 'member',\n",
              "       'memor', 'memori', 'men', 'mental', 'mention', 'mere', 'mess',\n",
              "       'messag', 'michael', 'middl', 'might', 'mind', 'minor', 'minut',\n",
              "       'miss', 'mistak', 'mix', 'modern', 'moment', 'money', 'monster',\n",
              "       'moral', 'mostli', 'mother', 'move', 'movi', 'mr', 'much',\n",
              "       'murder', 'music', 'must', 'mysteri', 'name', 'nation', 'natur',\n",
              "       'near', 'nearli', 'need', 'never', 'new', 'next', 'nice', 'night',\n",
              "       'non', 'none', 'normal', 'note', 'noth', 'notic', 'novel',\n",
              "       'nuditi', 'number', 'obviou', 'obvious', 'odd', 'offer', 'offic',\n",
              "       'often', 'oh', 'ok', 'okay', 'old', 'older', 'one', 'open',\n",
              "       'opinion', 'order', 'origin', 'oscar', 'other', 'otherwis',\n",
              "       'outsid', 'overal', 'pace', 'pain', 'parent', 'part', 'parti',\n",
              "       'particular', 'particularli', 'pass', 'passion', 'past', 'pathet',\n",
              "       'paul', 'pay', 'peopl', 'perfect', 'perfectli', 'perform',\n",
              "       'perhap', 'period', 'person', 'peter', 'physic', 'pick', 'pictur',\n",
              "       'piec', 'place', 'plain', 'plan', 'play', 'player', 'pleas',\n",
              "       'plenti', 'plot', 'plu', 'point', 'polic', 'polit', 'poor',\n",
              "       'poorli', 'pop', 'popular', 'portray', 'posit', 'possibl', 'post',\n",
              "       'potenti', 'power', 'predict', 'premis', 'present', 'pretti',\n",
              "       'previou', 'prison', 'probabl', 'problem', 'produc', 'product',\n",
              "       'project', 'promis', 'prove', 'provid', 'public', 'pull', 'pure',\n",
              "       'purpos', 'put', 'qualiti', 'question', 'quickli', 'quit', 'race',\n",
              "       'rare', 'rate', 'rather', 'reach', 'read', 'real', 'realist',\n",
              "       'realiti', 'realiz', 'realli', 'reason', 'recent', 'recommend',\n",
              "       'record', 'red', 'refer', 'relat', 'relationship', 'releas',\n",
              "       'remain', 'remak', 'remark', 'rememb', 'remind', 'rent', 'respect',\n",
              "       'respons', 'rest', 'result', 'return', 'reveal', 'review', 'rich',\n",
              "       'richard', 'ride', 'ridicul', 'right', 'rip', 'robert', 'rock',\n",
              "       'role', 'roll', 'romanc', 'romant', 'room', 'run', 'sad', 'sadli',\n",
              "       'said', 'save', 'saw', 'say', 'scare', 'scari', 'scene', 'school',\n",
              "       'sci', 'scienc', 'score', 'scott', 'scream', 'screen',\n",
              "       'screenplay', 'script', 'search', 'season', 'second', 'secret',\n",
              "       'see', 'seem', 'seen', 'self', 'sens', 'sequel', 'sequenc', 'seri',\n",
              "       'seriou', 'serious', 'serv', 'set', 'sever', 'sex', 'sexual',\n",
              "       'shame', 'share', 'ship', 'shock', 'shoot', 'short', 'shot',\n",
              "       'show', 'shown', 'side', 'silli', 'similar', 'simpl', 'simpli',\n",
              "       'sinc', 'sing', 'singl', 'sister', 'sit', 'situat', 'skill',\n",
              "       'sleep', 'slow', 'small', 'social', 'societi', 'soldier',\n",
              "       'somehow', 'someon', 'someth', 'sometim', 'somewhat', 'son',\n",
              "       'song', 'soon', 'sorri', 'sort', 'soul', 'sound', 'soundtrack',\n",
              "       'space', 'speak', 'special', 'spend', 'spent', 'spirit', 'spoiler',\n",
              "       'stage', 'stand', 'standard', 'star', 'start', 'state', 'stay',\n",
              "       'steal', 'step', 'stereotyp', 'stick', 'still', 'stop', 'store',\n",
              "       'stori', 'storylin', 'straight', 'strang', 'street', 'strong',\n",
              "       'struggl', 'student', 'studio', 'stuff', 'stupid', 'style',\n",
              "       'subject', 'success', 'suck', 'suffer', 'suggest', 'superb',\n",
              "       'support', 'suppos', 'sure', 'surpris', 'surviv', 'suspens',\n",
              "       'sweet', 'take', 'taken', 'tale', 'talent', 'talk', 'tast', 'team',\n",
              "       'teen', 'teenag', 'televis', 'tell', 'ten', 'tension', 'term',\n",
              "       'terribl', 'thank', 'theater', 'theme', 'thing', 'think', 'third',\n",
              "       'though', 'thought', 'three', 'thriller', 'throughout', 'throw',\n",
              "       'time', 'titl', 'today', 'togeth', 'told', 'tom', 'took', 'top',\n",
              "       'tortur', 'total', 'touch', 'toward', 'town', 'track', 'train',\n",
              "       'trash', 'travel', 'treat', 'tri', 'troubl', 'true', 'truli',\n",
              "       'truth', 'turn', 'tv', 'twist', 'two', 'type', 'typic', 'ultim',\n",
              "       'understand', 'unfortun', 'uniqu', 'univers', 'unless', 'unlik',\n",
              "       'upon', 'us', 'use', 'usual', 'valu', 'vampir', 'variou',\n",
              "       'version', 'victim', 'video', 'view', 'viewer', 'villain',\n",
              "       'violenc', 'visual', 'voic', 'wait', 'walk', 'want', 'war', 'warn',\n",
              "       'wast', 'watch', 'water', 'way', 'weak', 'wear', 'week', 'weird',\n",
              "       'well', 'went', 'western', 'whatev', 'whether', 'white', 'whole',\n",
              "       'whose', 'wife', 'william', 'win', 'wish', 'wit', 'within',\n",
              "       'without', 'woman', 'women', 'wonder', 'wood', 'word', 'work',\n",
              "       'world', 'wors', 'worst', 'worth', 'would', 'write', 'writer',\n",
              "       'written', 'wrong', 'wrote', 'ye', 'year', 'yet', 'york', 'young',\n",
              "       'zombi'], dtype=object)"
            ]
          },
          "metadata": {},
          "execution_count": 88
        }
      ],
      "source": [
        "# Checking the words considered by BoW model\n",
        "words"
      ]
    },
    {
      "cell_type": "code",
      "execution_count": null,
      "metadata": {
        "colab": {
          "base_uri": "https://localhost:8080/",
          "height": 236
        },
        "id": "bgIxRAlB_YuC",
        "outputId": "ce049a0a-549a-41fe-c9e7-c11f98a60728"
      },
      "outputs": [
        {
          "output_type": "execute_result",
          "data": {
            "text/plain": [
              "   10  100  20  30  50  60  70  80  90  abil  ...  writer  written  wrong  \\\n",
              "0   0    0   0   0   0   0   0   0   0     0  ...       0        0      1   \n",
              "1   1    0   0   0   0   0   0   0   0     0  ...       0        0      0   \n",
              "2   1    0   0   0   0   0   0   0   0     0  ...       0        0      0   \n",
              "3   1    0   0   0   0   0   0   0   0     0  ...       1        0      0   \n",
              "4   0    0   0   0   0   0   0   1   0     0  ...       0        0      0   \n",
              "\n",
              "   wrote  ye  year  yet  york  young  zombi  \n",
              "0      0   0     0    0     0      0      0  \n",
              "1      0   0     0    0     0      0      0  \n",
              "2      0   0     0    0     0      0      0  \n",
              "3      0   0     0    0     0      0      0  \n",
              "4      0   0     0    0     0      2      0  \n",
              "\n",
              "[5 rows x 1000 columns]"
            ],
            "text/html": [
              "\n",
              "  <div id=\"df-5d86fe9d-9d4e-4383-9806-313b4d48b414\" class=\"colab-df-container\">\n",
              "    <div>\n",
              "<style scoped>\n",
              "    .dataframe tbody tr th:only-of-type {\n",
              "        vertical-align: middle;\n",
              "    }\n",
              "\n",
              "    .dataframe tbody tr th {\n",
              "        vertical-align: top;\n",
              "    }\n",
              "\n",
              "    .dataframe thead th {\n",
              "        text-align: right;\n",
              "    }\n",
              "</style>\n",
              "<table border=\"1\" class=\"dataframe\">\n",
              "  <thead>\n",
              "    <tr style=\"text-align: right;\">\n",
              "      <th></th>\n",
              "      <th>10</th>\n",
              "      <th>100</th>\n",
              "      <th>20</th>\n",
              "      <th>30</th>\n",
              "      <th>50</th>\n",
              "      <th>60</th>\n",
              "      <th>70</th>\n",
              "      <th>80</th>\n",
              "      <th>90</th>\n",
              "      <th>abil</th>\n",
              "      <th>...</th>\n",
              "      <th>writer</th>\n",
              "      <th>written</th>\n",
              "      <th>wrong</th>\n",
              "      <th>wrote</th>\n",
              "      <th>ye</th>\n",
              "      <th>year</th>\n",
              "      <th>yet</th>\n",
              "      <th>york</th>\n",
              "      <th>young</th>\n",
              "      <th>zombi</th>\n",
              "    </tr>\n",
              "  </thead>\n",
              "  <tbody>\n",
              "    <tr>\n",
              "      <th>0</th>\n",
              "      <td>0</td>\n",
              "      <td>0</td>\n",
              "      <td>0</td>\n",
              "      <td>0</td>\n",
              "      <td>0</td>\n",
              "      <td>0</td>\n",
              "      <td>0</td>\n",
              "      <td>0</td>\n",
              "      <td>0</td>\n",
              "      <td>0</td>\n",
              "      <td>...</td>\n",
              "      <td>0</td>\n",
              "      <td>0</td>\n",
              "      <td>1</td>\n",
              "      <td>0</td>\n",
              "      <td>0</td>\n",
              "      <td>0</td>\n",
              "      <td>0</td>\n",
              "      <td>0</td>\n",
              "      <td>0</td>\n",
              "      <td>0</td>\n",
              "    </tr>\n",
              "    <tr>\n",
              "      <th>1</th>\n",
              "      <td>1</td>\n",
              "      <td>0</td>\n",
              "      <td>0</td>\n",
              "      <td>0</td>\n",
              "      <td>0</td>\n",
              "      <td>0</td>\n",
              "      <td>0</td>\n",
              "      <td>0</td>\n",
              "      <td>0</td>\n",
              "      <td>0</td>\n",
              "      <td>...</td>\n",
              "      <td>0</td>\n",
              "      <td>0</td>\n",
              "      <td>0</td>\n",
              "      <td>0</td>\n",
              "      <td>0</td>\n",
              "      <td>0</td>\n",
              "      <td>0</td>\n",
              "      <td>0</td>\n",
              "      <td>0</td>\n",
              "      <td>0</td>\n",
              "    </tr>\n",
              "    <tr>\n",
              "      <th>2</th>\n",
              "      <td>1</td>\n",
              "      <td>0</td>\n",
              "      <td>0</td>\n",
              "      <td>0</td>\n",
              "      <td>0</td>\n",
              "      <td>0</td>\n",
              "      <td>0</td>\n",
              "      <td>0</td>\n",
              "      <td>0</td>\n",
              "      <td>0</td>\n",
              "      <td>...</td>\n",
              "      <td>0</td>\n",
              "      <td>0</td>\n",
              "      <td>0</td>\n",
              "      <td>0</td>\n",
              "      <td>0</td>\n",
              "      <td>0</td>\n",
              "      <td>0</td>\n",
              "      <td>0</td>\n",
              "      <td>0</td>\n",
              "      <td>0</td>\n",
              "    </tr>\n",
              "    <tr>\n",
              "      <th>3</th>\n",
              "      <td>1</td>\n",
              "      <td>0</td>\n",
              "      <td>0</td>\n",
              "      <td>0</td>\n",
              "      <td>0</td>\n",
              "      <td>0</td>\n",
              "      <td>0</td>\n",
              "      <td>0</td>\n",
              "      <td>0</td>\n",
              "      <td>0</td>\n",
              "      <td>...</td>\n",
              "      <td>1</td>\n",
              "      <td>0</td>\n",
              "      <td>0</td>\n",
              "      <td>0</td>\n",
              "      <td>0</td>\n",
              "      <td>0</td>\n",
              "      <td>0</td>\n",
              "      <td>0</td>\n",
              "      <td>0</td>\n",
              "      <td>0</td>\n",
              "    </tr>\n",
              "    <tr>\n",
              "      <th>4</th>\n",
              "      <td>0</td>\n",
              "      <td>0</td>\n",
              "      <td>0</td>\n",
              "      <td>0</td>\n",
              "      <td>0</td>\n",
              "      <td>0</td>\n",
              "      <td>0</td>\n",
              "      <td>1</td>\n",
              "      <td>0</td>\n",
              "      <td>0</td>\n",
              "      <td>...</td>\n",
              "      <td>0</td>\n",
              "      <td>0</td>\n",
              "      <td>0</td>\n",
              "      <td>0</td>\n",
              "      <td>0</td>\n",
              "      <td>0</td>\n",
              "      <td>0</td>\n",
              "      <td>0</td>\n",
              "      <td>2</td>\n",
              "      <td>0</td>\n",
              "    </tr>\n",
              "  </tbody>\n",
              "</table>\n",
              "<p>5 rows × 1000 columns</p>\n",
              "</div>\n",
              "    <div class=\"colab-df-buttons\">\n",
              "\n",
              "  <div class=\"colab-df-container\">\n",
              "    <button class=\"colab-df-convert\" onclick=\"convertToInteractive('df-5d86fe9d-9d4e-4383-9806-313b4d48b414')\"\n",
              "            title=\"Convert this dataframe to an interactive table.\"\n",
              "            style=\"display:none;\">\n",
              "\n",
              "  <svg xmlns=\"http://www.w3.org/2000/svg\" height=\"24px\" viewBox=\"0 -960 960 960\">\n",
              "    <path d=\"M120-120v-720h720v720H120Zm60-500h600v-160H180v160Zm220 220h160v-160H400v160Zm0 220h160v-160H400v160ZM180-400h160v-160H180v160Zm440 0h160v-160H620v160ZM180-180h160v-160H180v160Zm440 0h160v-160H620v160Z\"/>\n",
              "  </svg>\n",
              "    </button>\n",
              "\n",
              "  <style>\n",
              "    .colab-df-container {\n",
              "      display:flex;\n",
              "      gap: 12px;\n",
              "    }\n",
              "\n",
              "    .colab-df-convert {\n",
              "      background-color: #E8F0FE;\n",
              "      border: none;\n",
              "      border-radius: 50%;\n",
              "      cursor: pointer;\n",
              "      display: none;\n",
              "      fill: #1967D2;\n",
              "      height: 32px;\n",
              "      padding: 0 0 0 0;\n",
              "      width: 32px;\n",
              "    }\n",
              "\n",
              "    .colab-df-convert:hover {\n",
              "      background-color: #E2EBFA;\n",
              "      box-shadow: 0px 1px 2px rgba(60, 64, 67, 0.3), 0px 1px 3px 1px rgba(60, 64, 67, 0.15);\n",
              "      fill: #174EA6;\n",
              "    }\n",
              "\n",
              "    .colab-df-buttons div {\n",
              "      margin-bottom: 4px;\n",
              "    }\n",
              "\n",
              "    [theme=dark] .colab-df-convert {\n",
              "      background-color: #3B4455;\n",
              "      fill: #D2E3FC;\n",
              "    }\n",
              "\n",
              "    [theme=dark] .colab-df-convert:hover {\n",
              "      background-color: #434B5C;\n",
              "      box-shadow: 0px 1px 3px 1px rgba(0, 0, 0, 0.15);\n",
              "      filter: drop-shadow(0px 1px 2px rgba(0, 0, 0, 0.3));\n",
              "      fill: #FFFFFF;\n",
              "    }\n",
              "  </style>\n",
              "\n",
              "    <script>\n",
              "      const buttonEl =\n",
              "        document.querySelector('#df-5d86fe9d-9d4e-4383-9806-313b4d48b414 button.colab-df-convert');\n",
              "      buttonEl.style.display =\n",
              "        google.colab.kernel.accessAllowed ? 'block' : 'none';\n",
              "\n",
              "      async function convertToInteractive(key) {\n",
              "        const element = document.querySelector('#df-5d86fe9d-9d4e-4383-9806-313b4d48b414');\n",
              "        const dataTable =\n",
              "          await google.colab.kernel.invokeFunction('convertToInteractive',\n",
              "                                                    [key], {});\n",
              "        if (!dataTable) return;\n",
              "\n",
              "        const docLinkHtml = 'Like what you see? Visit the ' +\n",
              "          '<a target=\"_blank\" href=https://colab.research.google.com/notebooks/data_table.ipynb>data table notebook</a>'\n",
              "          + ' to learn more about interactive tables.';\n",
              "        element.innerHTML = '';\n",
              "        dataTable['output_type'] = 'display_data';\n",
              "        await google.colab.output.renderOutput(dataTable, element);\n",
              "        const docLink = document.createElement('div');\n",
              "        docLink.innerHTML = docLinkHtml;\n",
              "        element.appendChild(docLink);\n",
              "      }\n",
              "    </script>\n",
              "  </div>\n",
              "\n",
              "\n",
              "<div id=\"df-6ccf79dd-3e8e-4eee-aeeb-9a181375d4fd\">\n",
              "  <button class=\"colab-df-quickchart\" onclick=\"quickchart('df-6ccf79dd-3e8e-4eee-aeeb-9a181375d4fd')\"\n",
              "            title=\"Suggest charts\"\n",
              "            style=\"display:none;\">\n",
              "\n",
              "<svg xmlns=\"http://www.w3.org/2000/svg\" height=\"24px\"viewBox=\"0 0 24 24\"\n",
              "     width=\"24px\">\n",
              "    <g>\n",
              "        <path d=\"M19 3H5c-1.1 0-2 .9-2 2v14c0 1.1.9 2 2 2h14c1.1 0 2-.9 2-2V5c0-1.1-.9-2-2-2zM9 17H7v-7h2v7zm4 0h-2V7h2v10zm4 0h-2v-4h2v4z\"/>\n",
              "    </g>\n",
              "</svg>\n",
              "  </button>\n",
              "\n",
              "<style>\n",
              "  .colab-df-quickchart {\n",
              "      --bg-color: #E8F0FE;\n",
              "      --fill-color: #1967D2;\n",
              "      --hover-bg-color: #E2EBFA;\n",
              "      --hover-fill-color: #174EA6;\n",
              "      --disabled-fill-color: #AAA;\n",
              "      --disabled-bg-color: #DDD;\n",
              "  }\n",
              "\n",
              "  [theme=dark] .colab-df-quickchart {\n",
              "      --bg-color: #3B4455;\n",
              "      --fill-color: #D2E3FC;\n",
              "      --hover-bg-color: #434B5C;\n",
              "      --hover-fill-color: #FFFFFF;\n",
              "      --disabled-bg-color: #3B4455;\n",
              "      --disabled-fill-color: #666;\n",
              "  }\n",
              "\n",
              "  .colab-df-quickchart {\n",
              "    background-color: var(--bg-color);\n",
              "    border: none;\n",
              "    border-radius: 50%;\n",
              "    cursor: pointer;\n",
              "    display: none;\n",
              "    fill: var(--fill-color);\n",
              "    height: 32px;\n",
              "    padding: 0;\n",
              "    width: 32px;\n",
              "  }\n",
              "\n",
              "  .colab-df-quickchart:hover {\n",
              "    background-color: var(--hover-bg-color);\n",
              "    box-shadow: 0 1px 2px rgba(60, 64, 67, 0.3), 0 1px 3px 1px rgba(60, 64, 67, 0.15);\n",
              "    fill: var(--button-hover-fill-color);\n",
              "  }\n",
              "\n",
              "  .colab-df-quickchart-complete:disabled,\n",
              "  .colab-df-quickchart-complete:disabled:hover {\n",
              "    background-color: var(--disabled-bg-color);\n",
              "    fill: var(--disabled-fill-color);\n",
              "    box-shadow: none;\n",
              "  }\n",
              "\n",
              "  .colab-df-spinner {\n",
              "    border: 2px solid var(--fill-color);\n",
              "    border-color: transparent;\n",
              "    border-bottom-color: var(--fill-color);\n",
              "    animation:\n",
              "      spin 1s steps(1) infinite;\n",
              "  }\n",
              "\n",
              "  @keyframes spin {\n",
              "    0% {\n",
              "      border-color: transparent;\n",
              "      border-bottom-color: var(--fill-color);\n",
              "      border-left-color: var(--fill-color);\n",
              "    }\n",
              "    20% {\n",
              "      border-color: transparent;\n",
              "      border-left-color: var(--fill-color);\n",
              "      border-top-color: var(--fill-color);\n",
              "    }\n",
              "    30% {\n",
              "      border-color: transparent;\n",
              "      border-left-color: var(--fill-color);\n",
              "      border-top-color: var(--fill-color);\n",
              "      border-right-color: var(--fill-color);\n",
              "    }\n",
              "    40% {\n",
              "      border-color: transparent;\n",
              "      border-right-color: var(--fill-color);\n",
              "      border-top-color: var(--fill-color);\n",
              "    }\n",
              "    60% {\n",
              "      border-color: transparent;\n",
              "      border-right-color: var(--fill-color);\n",
              "    }\n",
              "    80% {\n",
              "      border-color: transparent;\n",
              "      border-right-color: var(--fill-color);\n",
              "      border-bottom-color: var(--fill-color);\n",
              "    }\n",
              "    90% {\n",
              "      border-color: transparent;\n",
              "      border-bottom-color: var(--fill-color);\n",
              "    }\n",
              "  }\n",
              "</style>\n",
              "\n",
              "  <script>\n",
              "    async function quickchart(key) {\n",
              "      const quickchartButtonEl =\n",
              "        document.querySelector('#' + key + ' button');\n",
              "      quickchartButtonEl.disabled = true;  // To prevent multiple clicks.\n",
              "      quickchartButtonEl.classList.add('colab-df-spinner');\n",
              "      try {\n",
              "        const charts = await google.colab.kernel.invokeFunction(\n",
              "            'suggestCharts', [key], {});\n",
              "      } catch (error) {\n",
              "        console.error('Error during call to suggestCharts:', error);\n",
              "      }\n",
              "      quickchartButtonEl.classList.remove('colab-df-spinner');\n",
              "      quickchartButtonEl.classList.add('colab-df-quickchart-complete');\n",
              "    }\n",
              "    (() => {\n",
              "      let quickchartButtonEl =\n",
              "        document.querySelector('#df-6ccf79dd-3e8e-4eee-aeeb-9a181375d4fd button');\n",
              "      quickchartButtonEl.style.display =\n",
              "        google.colab.kernel.accessAllowed ? 'block' : 'none';\n",
              "    })();\n",
              "  </script>\n",
              "</div>\n",
              "\n",
              "    </div>\n",
              "  </div>\n"
            ],
            "application/vnd.google.colaboratory.intrinsic+json": {
              "type": "dataframe",
              "variable_name": "df_BOW"
            }
          },
          "metadata": {},
          "execution_count": 89
        }
      ],
      "source": [
        "# Creating a DataFrame from the data features\n",
        "df_BOW = pd.DataFrame(data_features_BOW, columns=bow_vec.get_feature_names_out())\n",
        "df_BOW.head()"
      ]
    },
    {
      "cell_type": "markdown",
      "metadata": {
        "id": "1M3x4zoG_bFM"
      },
      "source": [
        "- From the above dataframe, we can observe that the word *wrong* is present only once in the first document, and the word *young* is presented twice in the fifth document."
      ]
    },
    {
      "cell_type": "markdown",
      "metadata": {
        "id": "wH77U4ukBiCe"
      },
      "source": [
        "# **Conclusion**"
      ]
    },
    {
      "cell_type": "markdown",
      "metadata": {
        "id": "6bbEN80qLTOk"
      },
      "source": [
        "- We used different text processing techniques to clean the raw text data.\n",
        "\n",
        "- We then vectorized the cleaned text data using Bag of Words."
      ]
    },
    {
      "cell_type": "markdown",
      "metadata": {
        "id": "G2Lw8akCLT9c"
      },
      "source": [
        "<font size=6 color='blue'>Power Ahead</font>\n",
        "___"
      ]
    }
  ],
  "metadata": {
    "colab": {
      "collapsed_sections": [
        "wVldHvLCgnr9",
        "mhzSVF82YYri",
        "62xkzNTFYmyq",
        "MUGy2CBnZa6g",
        "nZdNFg-5Zmiz",
        "N4fvprg6u5fE",
        "NJDPhhmvvxJ1",
        "2DftSZK9yQ74",
        "hLoWwpxzylZH",
        "EwVOVENFz9fJ",
        "tN9S84Sj2om2"
      ],
      "provenance": [],
      "include_colab_link": true
    },
    "kernelspec": {
      "display_name": "Python 3",
      "name": "python3"
    },
    "language_info": {
      "codemirror_mode": {
        "name": "ipython",
        "version": 3
      },
      "file_extension": ".py",
      "mimetype": "text/x-python",
      "name": "python",
      "nbconvert_exporter": "python",
      "pygments_lexer": "ipython3",
      "version": "3.8.8"
    }
  },
  "nbformat": 4,
  "nbformat_minor": 0
}