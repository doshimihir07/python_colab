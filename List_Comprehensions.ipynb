{
  "nbformat": 4,
  "nbformat_minor": 0,
  "metadata": {
    "colab": {
      "provenance": [],
      "authorship_tag": "ABX9TyOTwhldMGmhZHQRSZKMtOGm",
      "include_colab_link": true
    },
    "kernelspec": {
      "name": "python3",
      "display_name": "Python 3"
    },
    "language_info": {
      "name": "python"
    }
  },
  "cells": [
    {
      "cell_type": "markdown",
      "metadata": {
        "id": "view-in-github",
        "colab_type": "text"
      },
      "source": [
        "<a href=\"https://colab.research.google.com/github/doshimihir07/python_colab/blob/main/List_Comprehensions.ipynb\" target=\"_parent\"><img src=\"https://colab.research.google.com/assets/colab-badge.svg\" alt=\"Open In Colab\"/></a>"
      ]
    },
    {
      "cell_type": "markdown",
      "source": [
        "# General syntax for a list comprehension for a for loop :\n",
        "\n",
        "\n",
        "\n",
        "---\n",
        "\n",
        "\n",
        "\n",
        "```\n",
        "new_list=[<operation> <for statement> <if block>]\n",
        "number = [i  for i in statement if i.isdigit()]\n",
        "```\n",
        "\n",
        "\n",
        "---\n",
        "\n",
        "\n"
      ],
      "metadata": {
        "id": "EGQ4D3PHUcQ5"
      }
    },
    {
      "cell_type": "code",
      "execution_count": 3,
      "metadata": {
        "colab": {
          "base_uri": "https://localhost:8080/"
        },
        "id": "lf-L1NsKBeSF",
        "outputId": "7003e547-5db2-4fe2-e422-35484eebc45f"
      },
      "outputs": [
        {
          "output_type": "execute_result",
          "data": {
            "text/plain": [
              "[0, 1, 2, 3, 4, 5, 6, 7, 8, 9]"
            ]
          },
          "metadata": {},
          "execution_count": 3
        }
      ],
      "source": [
        "some_list = []\n",
        "\n",
        "for i in range(10):\n",
        "  some_list.append(i)\n",
        "\n",
        "some_list"
      ]
    },
    {
      "cell_type": "code",
      "source": [
        "some_list = [i for i in range(10)]\n",
        "some_list"
      ],
      "metadata": {
        "colab": {
          "base_uri": "https://localhost:8080/"
        },
        "id": "7ymj6NzrBi9m",
        "outputId": "6460d3f2-aa27-48f4-88f1-caeea0771f35"
      },
      "execution_count": 7,
      "outputs": [
        {
          "output_type": "execute_result",
          "data": {
            "text/plain": [
              "[0, 1, 2, 3, 4, 5, 6, 7, 8, 9]"
            ]
          },
          "metadata": {},
          "execution_count": 7
        }
      ]
    },
    {
      "cell_type": "code",
      "source": [
        "def some_function(k):\n",
        "  # some lines of code doing something\n",
        "  # ...another_list = []\n",
        "  print (\"Hello\")\n",
        "\n",
        "k=10\n",
        "\n",
        "for i in range(k):\n",
        "    if i%2 ==0:\n",
        "        another_list.append( (i*7 + 5) % 13 )\n",
        "    else:\n",
        "        another_list.append( (i*5 + 7) % 23 )\n",
        "\n",
        "another_list"
      ],
      "metadata": {
        "colab": {
          "base_uri": "https://localhost:8080/"
        },
        "id": "gXlYOuegBtsH",
        "outputId": "9e580b4d-840c-496a-ef54-f07f4af315f0"
      },
      "execution_count": 16,
      "outputs": [
        {
          "output_type": "execute_result",
          "data": {
            "text/plain": [
              "[5,\n",
              " 12,\n",
              " 6,\n",
              " 22,\n",
              " 7,\n",
              " 9,\n",
              " 8,\n",
              " 19,\n",
              " 9,\n",
              " 6,\n",
              " 5,\n",
              " 12,\n",
              " 6,\n",
              " 22,\n",
              " 7,\n",
              " 9,\n",
              " 8,\n",
              " 19,\n",
              " 9,\n",
              " 6,\n",
              " 5,\n",
              " 12,\n",
              " 6,\n",
              " 22,\n",
              " 7,\n",
              " 9,\n",
              " 8,\n",
              " 19,\n",
              " 9,\n",
              " 6]"
            ]
          },
          "metadata": {},
          "execution_count": 16
        }
      ]
    },
    {
      "cell_type": "code",
      "source": [
        "another_list = [(i*7 + 5) % 13 if i%2==0 else (i*5 + 7) % 23 for i in range(k) ]\n",
        "another_list"
      ],
      "metadata": {
        "colab": {
          "base_uri": "https://localhost:8080/"
        },
        "id": "3skl1aVZQ7su",
        "outputId": "a854f0dc-cc85-461c-8ddc-00f1a290e953"
      },
      "execution_count": 17,
      "outputs": [
        {
          "output_type": "execute_result",
          "data": {
            "text/plain": [
              "[5, 12, 6, 22, 7, 9, 8, 19, 9, 6]"
            ]
          },
          "metadata": {},
          "execution_count": 17
        }
      ]
    },
    {
      "cell_type": "code",
      "source": [
        "id_matrix = [[1,0,0],\n",
        "             [0,1,0],\n",
        "             [0,0,1]]\n",
        "\n",
        "vector_version = [n for row in id_matrix for n in row]\n",
        "vector_version"
      ],
      "metadata": {
        "colab": {
          "base_uri": "https://localhost:8080/"
        },
        "id": "D26os-MMR7Rg",
        "outputId": "04f1625c-6249-4f24-ff33-e1a63bd668ab"
      },
      "execution_count": 19,
      "outputs": [
        {
          "output_type": "execute_result",
          "data": {
            "text/plain": [
              "[1, 0, 0, 0, 1, 0, 0, 0, 1]"
            ]
          },
          "metadata": {},
          "execution_count": 19
        }
      ]
    },
    {
      "cell_type": "code",
      "source": [
        "some_list = [1,2,3,4,5,6,7,8,9]\n",
        "#even_numbers = [ n if n%2==0 for n in some_list ]\n",
        "even_numbers = [ n for n in some_list if n%2==0 ]\n",
        "even_numbers"
      ],
      "metadata": {
        "colab": {
          "base_uri": "https://localhost:8080/"
        },
        "id": "SnaEjM4SR8Qa",
        "outputId": "7b133333-3a3f-42f6-e9b1-f594e0a89ba1"
      },
      "execution_count": 22,
      "outputs": [
        {
          "output_type": "execute_result",
          "data": {
            "text/plain": [
              "[2, 4, 6, 8]"
            ]
          },
          "metadata": {},
          "execution_count": 22
        }
      ]
    },
    {
      "cell_type": "code",
      "source": [
        "names = ['sam', 'kate','aj', 'moen','john']\n",
        "for i,name in enumerate(names):\n",
        "    print(i,name)\n"
      ],
      "metadata": {
        "colab": {
          "base_uri": "https://localhost:8080/"
        },
        "id": "7NQSUekQS_i9",
        "outputId": "2f354e71-745b-4c79-c447-14c847713a97"
      },
      "execution_count": 23,
      "outputs": [
        {
          "output_type": "stream",
          "name": "stdout",
          "text": [
            "0 sam\n",
            "1 kate\n",
            "2 aj\n",
            "3 moen\n",
            "4 john\n"
          ]
        }
      ]
    },
    {
      "cell_type": "code",
      "source": [
        "my_list = [1, 2, 3, 4]\n",
        "out_list = [i**2 for i in my_list]\n",
        "out_list"
      ],
      "metadata": {
        "colab": {
          "base_uri": "https://localhost:8080/"
        },
        "id": "DRcejEu7TQ7U",
        "outputId": "69b9f540-6502-48d9-83a1-2859a3ba0138"
      },
      "execution_count": 25,
      "outputs": [
        {
          "output_type": "execute_result",
          "data": {
            "text/plain": [
              "[1, 4, 9, 16]"
            ]
          },
          "metadata": {},
          "execution_count": 25
        }
      ]
    },
    {
      "cell_type": "code",
      "source": [
        "numbers = [1, 2, 3, 4, 5, 6, 7, 8, 9, 10]\n",
        "even_list = []\n",
        "for i in numbers:\n",
        "    if i % 2==0:\n",
        "        even_list.append(i**2)\n",
        "print(even_list)\n",
        "\n",
        "even_list = [i**2  for i in numbers if i %2 ==0  ]\n",
        "even_list"
      ],
      "metadata": {
        "colab": {
          "base_uri": "https://localhost:8080/"
        },
        "id": "ZaLFMWvITSCv",
        "outputId": "5c4d8cd4-3f90-47a5-d7ac-40f5786a62b5"
      },
      "execution_count": 26,
      "outputs": [
        {
          "output_type": "stream",
          "name": "stdout",
          "text": [
            "[4, 16, 36, 64, 100]\n"
          ]
        },
        {
          "output_type": "execute_result",
          "data": {
            "text/plain": [
              "[4, 16, 36, 64, 100]"
            ]
          },
          "metadata": {},
          "execution_count": 26
        }
      ]
    },
    {
      "cell_type": "code",
      "source": [
        "statement = 'my name is shreedhar and I am 22 years old'\n",
        "number = [i  for i in statement if i.isdigit()]\n",
        "print(number)"
      ],
      "metadata": {
        "colab": {
          "base_uri": "https://localhost:8080/"
        },
        "id": "vyXa2fFLUSu_",
        "outputId": "e5a27711-f9c3-4107-ec62-a0fefa119f7a"
      },
      "execution_count": 27,
      "outputs": [
        {
          "output_type": "stream",
          "name": "stdout",
          "text": [
            "['2', '2']\n"
          ]
        }
      ]
    },
    {
      "cell_type": "code",
      "source": [
        "## Random password generator for a specified length\n",
        "import string\n",
        "import random\n",
        "password_char = string.ascii_letters + string.punctuation + string.digits\n",
        "length = int(input('Enter the length of the password: '))\n",
        "password = \"\"\n",
        "for i in range(0, length):\n",
        "    password = password + random.choice(password_char)\n",
        "print(password)"
      ],
      "metadata": {
        "colab": {
          "base_uri": "https://localhost:8080/"
        },
        "id": "8ng0q1nRVYK2",
        "outputId": "2c004450-eed0-4272-ea00-18f48af9fae9"
      },
      "execution_count": 28,
      "outputs": [
        {
          "output_type": "stream",
          "name": "stdout",
          "text": [
            "Enter the length of the password: 10\n",
            "J:pDoisp!)\n"
          ]
        }
      ]
    },
    {
      "cell_type": "markdown",
      "source": [
        "We see a 33% boost in speed from switching to List Comprehensions in the unfiltered case, whereas the filtered algorithm only gets a 15% boost. This corroborates our theory that the main performance advantage comes from not having to call the append method at each iteration, which is skipped on every other iteration in the filtered case."
      ],
      "metadata": {
        "id": "U-ntxB1QWWjp"
      }
    },
    {
      "cell_type": "markdown",
      "source": [
        "# List comprehension on dictionaries"
      ],
      "metadata": {
        "id": "jkq3PtTNWp5t"
      }
    },
    {
      "cell_type": "code",
      "source": [
        "dict_of_doubles = {\n",
        "                   str(k) : 2*k for k in range(100)\n",
        "                  }\n",
        "\n",
        "dict_of_multiples_of_4 = {\n",
        "                   str(k) : 2*k for k in range(100) if k%2==0\n",
        "                  }\n",
        "\n",
        "\n",
        "print(dict_of_doubles)\n",
        "print(dict_of_multiples_of_4)\n",
        "\n"
      ],
      "metadata": {
        "colab": {
          "base_uri": "https://localhost:8080/"
        },
        "id": "qNnWotvlWZa0",
        "outputId": "7e4187ac-f9d4-4673-8fc7-72f240d891a1"
      },
      "execution_count": 29,
      "outputs": [
        {
          "output_type": "stream",
          "name": "stdout",
          "text": [
            "{'0': 0, '1': 2, '2': 4, '3': 6, '4': 8, '5': 10, '6': 12, '7': 14, '8': 16, '9': 18, '10': 20, '11': 22, '12': 24, '13': 26, '14': 28, '15': 30, '16': 32, '17': 34, '18': 36, '19': 38, '20': 40, '21': 42, '22': 44, '23': 46, '24': 48, '25': 50, '26': 52, '27': 54, '28': 56, '29': 58, '30': 60, '31': 62, '32': 64, '33': 66, '34': 68, '35': 70, '36': 72, '37': 74, '38': 76, '39': 78, '40': 80, '41': 82, '42': 84, '43': 86, '44': 88, '45': 90, '46': 92, '47': 94, '48': 96, '49': 98, '50': 100, '51': 102, '52': 104, '53': 106, '54': 108, '55': 110, '56': 112, '57': 114, '58': 116, '59': 118, '60': 120, '61': 122, '62': 124, '63': 126, '64': 128, '65': 130, '66': 132, '67': 134, '68': 136, '69': 138, '70': 140, '71': 142, '72': 144, '73': 146, '74': 148, '75': 150, '76': 152, '77': 154, '78': 156, '79': 158, '80': 160, '81': 162, '82': 164, '83': 166, '84': 168, '85': 170, '86': 172, '87': 174, '88': 176, '89': 178, '90': 180, '91': 182, '92': 184, '93': 186, '94': 188, '95': 190, '96': 192, '97': 194, '98': 196, '99': 198}\n",
            "{'0': 0, '2': 4, '4': 8, '6': 12, '8': 16, '10': 20, '12': 24, '14': 28, '16': 32, '18': 36, '20': 40, '22': 44, '24': 48, '26': 52, '28': 56, '30': 60, '32': 64, '34': 68, '36': 72, '38': 76, '40': 80, '42': 84, '44': 88, '46': 92, '48': 96, '50': 100, '52': 104, '54': 108, '56': 112, '58': 116, '60': 120, '62': 124, '64': 128, '66': 132, '68': 136, '70': 140, '72': 144, '74': 148, '76': 152, '78': 156, '80': 160, '82': 164, '84': 168, '86': 172, '88': 176, '90': 180, '92': 184, '94': 188, '96': 192, '98': 196}\n"
          ]
        }
      ]
    },
    {
      "cell_type": "code",
      "source": [],
      "metadata": {
        "id": "XkhnJy7_Wi7X"
      },
      "execution_count": null,
      "outputs": []
    }
  ]
}